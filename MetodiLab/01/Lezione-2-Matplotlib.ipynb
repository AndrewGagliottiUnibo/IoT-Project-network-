{
    "cells": [
        {
            "cell_type": "markdown",
            "metadata": {},
            "source": [
                "# matplotlib - Disegnare  in Python"
            ]
        },
        {
            "cell_type": "markdown",
            "metadata": {},
            "source": [
                "## Introduzione"
            ]
        },
        {
            "cell_type": "markdown",
            "metadata": {},
            "source": [
                "Matplotlib è un'eccellente libreria grafica 2D e 3D per la generazione di figure scientifiche. Alcuni dei numerosi vantaggi di questa libreria includono:\n",
                "\n",
                "* Facile da inizializzare\n",
                "* Grande controllo di ogni elemento in una figura.\n",
                "* Output di alta qualità in molti formati, inclusi PNG, PDF, SVG, EPS e PGF.\n",
                "\n",
                "Maggiori informazioni alla pagina web di Matplotlib: http://matplotlib.org/"
            ]
        },
        {
            "cell_type": "markdown",
            "metadata": {},
            "source": [
                "Per cominciare ad usare matplotlib"
            ]
        },
        {
            "cell_type": "code",
            "execution_count": null,
            "metadata": {
                "collapsed": false,
                "jupyter": {
                    "outputs_hidden": false
                }
            },
            "outputs": [],
            "source": [
                "import matplotlib.pyplot as plt"
            ]
        },
        {
            "cell_type": "markdown",
            "metadata": {},
            "source": [
                "### Esempio"
            ]
        },
        {
            "cell_type": "code",
            "execution_count": null,
            "metadata": {
                "collapsed": false,
                "jupyter": {
                    "outputs_hidden": false
                }
            },
            "outputs": [],
            "source": [
                "x = list(range(1,10))\n",
                "y = [ i ** 2  for i in x]\n",
                "z=[i+i**2+i**3 for i in x]\n",
                "\n",
                "print(x)\n",
                "print(y)\n",
                "print(z)"
            ]
        },
        {
            "cell_type": "code",
            "execution_count": null,
            "metadata": {},
            "outputs": [],
            "source": [
                "import matplotlib.pyplot as plt\n",
                "\n",
                "# Disegna una funzione su un'altra e ne da una caratteristica estetica, ci sono altri argomenti opzionali\n",
                "plt.plot(x, y, 'ro')\n",
                "\n",
                "# mostra la griglia\n",
                "plt.grid(True)\n",
                "\n",
                "# setta label\n",
                "plt.xlabel('x')\n",
                "plt.ylabel('y')\n",
                "\n",
                "# Titolo\n",
                "plt.title('title')\n",
                "\n",
                "# Legenda\n",
                "plt.legend([\"Funzione1\",\"Funzione2\"])\n",
                "\n",
                "# Salva la figura in un file con formato grafico jpg\n",
                "plt.savefig(\"filename.jpg\")  \n",
                "\n",
                "# Mostra il grafico\n",
                "plt.show()\n"
            ]
        },
        {
            "cell_type": "code",
            "execution_count": null,
            "metadata": {},
            "outputs": [],
            "source": [
                "plt.plot(x, y, 'g*')\n",
                "plt.xlabel('x')\n",
                "plt.ylabel('y')\n",
                "plt.title('title')\n",
                "plt.legend([\"Funzione2\"])\n",
                "plt.show()"
            ]
        },
        {
            "cell_type": "markdown",
            "metadata": {},
            "source": [
                "## Disegnare due funzioni sullo stesso grafico"
            ]
        },
        {
            "cell_type": "code",
            "execution_count": null,
            "metadata": {
                "collapsed": false,
                "jupyter": {
                    "outputs_hidden": false
                }
            },
            "outputs": [],
            "source": [
                "plt.plot(x, y, 'r:o')\n",
                "plt.plot(x,y,'g*--')\n",
                "plt.xlabel('x')\n",
                "plt.ylabel('y')\n",
                "plt.text(1,400,'Testo Libero',c='r')  #Scrivere testo libero a partire da una coordinata specificata\n",
                "plt.annotate('Importante',xy=(6,250),xytext=(5.0, 400),arrowprops={'arrowstyle':'->'}) #Annotazione\n",
                "plt.title('title')\n",
                "plt.legend([\"Funzione1\",\"Funzione2\"])\n",
                "plt.show()\n"
            ]
        },
        {
            "cell_type": "code",
            "execution_count": null,
            "metadata": {},
            "outputs": [],
            "source": [
                "x1=list(range(1,101))\n",
                "y1 = [ i **(-5.0/3.0)  for i in x1]\n",
                "plt.plot(x1, y1, 'r')\n",
                "plt.show()"
            ]
        },
        {
            "cell_type": "markdown",
            "metadata": {},
            "source": [
                "## Disegnare in scala semilogaritmica in y"
            ]
        },
        {
            "cell_type": "code",
            "execution_count": null,
            "metadata": {},
            "outputs": [],
            "source": [
                "plt.semilogy(x1, y1, 'r')  #Scala logaritmica in y\n",
                "plt.show()"
            ]
        },
        {
            "cell_type": "markdown",
            "metadata": {},
            "source": [
                "## Suddividere la figura in sottofigure"
            ]
        },
        {
            "cell_type": "code",
            "execution_count": null,
            "metadata": {
                "collapsed": false,
                "jupyter": {
                    "outputs_hidden": false
                }
            },
            "outputs": [],
            "source": [
                "plt.subplot(1,2,1)\n",
                "plt.plot(x, y, 'r--',linewidth=5.0)\n",
                "plt.title(\"Funzione 1\")\n",
                "plt.subplot(1,2,2)\n",
                "plt.plot(x, y, 'g^-',linewidth=1.0)\n",
                "plt.title(\"Funzione 2\")\n",
                "plt.savefig(\"filename2.png\")\n",
                "plt.show()"
            ]
        },
        {
            "cell_type": "markdown",
            "metadata": {},
            "source": [
                "* http://www.matplotlib.org - Pagina web per il progetto matplotlib"
            ]
        },
        {
            "cell_type": "markdown",
            "metadata": {},
            "source": [
                "## Grafici a barre"
            ]
        },
        {
            "cell_type": "code",
            "execution_count": null,
            "metadata": {},
            "outputs": [],
            "source": [
                "names = ['a', 'b', 'c', 'd']\n",
                "values = [1, 10, 40, 50]\n",
                "plt.bar(names, values)\n",
                "plt.show()"
            ]
        },
        {
            "cell_type": "markdown",
            "metadata": {},
            "source": [
                "## Grafici a torta"
            ]
        },
        {
            "cell_type": "code",
            "execution_count": null,
            "metadata": {},
            "outputs": [],
            "source": [
                "dims=[10.0,30.0,40.0,10.0]\n",
                "etichette=[\"dato1\",\"dato2\",\"dato3\",\"dato4\"]\n",
                "colori=['b','r','y','magenta']\n",
                "plt.pie(dims,labels=etichette,colors=colori)\n",
                "plt.show()"
            ]
        }
    ],
    "metadata": {
        "kernelspec": {
            "display_name": "venv",
            "language": "python",
            "name": "python3"
        },
        "language_info": {
            "codemirror_mode": {
                "name": "ipython",
                "version": 3
            },
            "file_extension": ".py",
            "mimetype": "text/x-python",
            "name": "python",
            "nbconvert_exporter": "python",
            "pygments_lexer": "ipython3",
            "version": "3.10.5"
        },
        "vscode": {
            "interpreter": {
                "hash": "ccb358b1f66081bb8dc2008573932088060bb956f527522ec5a3365b112c4c40"
            }
        }
    },
    "nbformat": 4,
    "nbformat_minor": 4
}