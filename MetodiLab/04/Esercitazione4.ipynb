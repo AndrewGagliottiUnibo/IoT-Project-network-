{
 "cells": [
  {
   "cell_type": "markdown",
   "id": "b97be3ab-d6dd-495f-a342-e5e837cfb8bc",
   "metadata": {},
   "source": [
    "#                       Esercitazione 4 - 14 Marzo 2023"
   ]
  },
  {
   "cell_type": "markdown",
   "id": "60ab2cbf-4329-4dbe-b761-16ea93bb103a",
   "metadata": {},
   "source": [
    "- **1.** Verificare il sistema dei numeri di macchina gestito da Python: importare il pacchetto sys. La funzione sys.float_info dà le informazioni necessarie. Stamparle e poi verificarne la validità con le formule viste a lezione: numero minimo di macchina, numero massimo di macchina, precisione di macchina \n",
    "\n",
    "\n",
    "  **N.B.** Bisogna tenere presente che c'è l'hidden bit. Quindi la mantissa più piccola da considerare $M=1.m$ dove $m=0$. Quindi il numero minimo ha mantissa $1.0$ e parte esponente $\\beta^L$, quindi e' dato da $1.0 \\beta^L= \\beta^L$.\n",
    "  \n",
    "   Ragionate voi per calcolare il numero massimo di macchina, tenendo conto dell'hidden bit.\n"
   ]
  },
  {
   "cell_type": "markdown",
   "id": "224ac7e6-31df-4f15-8ffc-9c82bd21c82e",
   "metadata": {},
   "source": [
    "- **2.**  Calcolare lo spacing in  $[2^{52}, 2^{53}]$.\n",
    "    - Sia $x=2^{52}$ individuare il numero successivo a $2^{52}$ ed assegnarlo ad una variabile  y.\n",
    "    - Cosa succede se consideriamo il valore z=x+0.5?\n",
    "    - Cosa succede se consideriamo il valore q=y+0.5?\n",
    "  "
   ]
  },
  {
   "cell_type": "markdown",
   "id": "c73d1758-eb82-48af-8618-6dfb522dcdd6",
   "metadata": {},
   "source": [
    "- **3** Calcolare la cardinalità dell'insieme dei numeri finiti di Python"
   ]
  },
  {
   "cell_type": "markdown",
   "id": "cee853bd-aca6-47f4-980f-7e44473f7523",
   "metadata": {},
   "source": [
    "- **4**  Verificare numericamente che $\\texttt{eps} = 2^{-52}$, spacing nell'intervallo $[1, 2]$,\n",
    "è il piu' piccolo $x$ tale che $fl(1 + x)$ è  diverso da $1$. Si consiglia di\n",
    "visualizzare i risultati anche per differenza.\n"
   ]
  },
  {
   "cell_type": "markdown",
   "id": "d19cd104-d1ea-4444-996c-0a9672063450",
   "metadata": {},
   "source": [
    "- **5.** Siano $a=1.234567890123400 e+15$, $b=-1.234567890123401 e+15$, $c=0.06$. \n",
    "  Calcolare $(a+b)+c$, $(a+c)+b$, $a+(b+c)$. Che cosa si osserva? Ripetere l'esercizio con $a=0.23371258 e-4$, $b=0.33678429 e+2$, $c=-0.33677911 e+2$."
   ]
  },
  {
   "cell_type": "markdown",
   "id": "960d25c1-9677-4b1e-92c1-c16870d520b6",
   "metadata": {},
   "source": [
    "- **6.** Si considerino le espressioni $y_1=\\sqrt{x^2+1}-x$ e $y_2=\\frac{1}{\\sqrt{x^2+1}+x}$. Calcolare il valore di $y_1$ e $y_2$ per $x=7777$ e $x=77777777$. Che cosa si osserva? Commentare i risultati ottenuti."
   ]
  },
  {
   "cell_type": "markdown",
   "id": "e3d8c3b3-d514-41ec-a6f2-eb22311ab157",
   "metadata": {},
   "source": [
    "- **7.** Valutare in aritmetica floating point l'espressione\n",
    "$$A(x)=\\frac{1}{x}-\\frac{1}{(x+1)}$$  nel vettore   $x=[10^0, 10^1,... ,10^{20}]$ contenente potenze successive  di $10$,  Si calcoli per ogni elemento di x l'errore relativo considerando come valore esatto quello calcolato usando  l'espressione algebricamente equivalente\n",
    "$$\n",
    "B(x)=\\frac{1}{x (x+1)}.\n",
    "$$ Si visualizzi l'errore relativo in un grafico in scala logaritmica su $x$ e $y$"
   ]
  },
  {
   "cell_type": "markdown",
   "id": "27155dcd-6580-4e3d-aac9-fa42b717bf70",
   "metadata": {},
   "source": [
    "- **8-**  Quali problemi si possono incontrare nel calcolo delle radici di $a x^2+b x+c$? Provare a risolvere l'equazione $x^2+10^k x+1=0$ con k in range(1,9). Che cosa si osserva?"
   ]
  },
  {
   "cell_type": "markdown",
   "id": "9f6294cc-b0df-40b8-a1f5-450f4e756ffa",
   "metadata": {},
   "source": [
    "- **9.** Scrivere uno script Matlab che fornisca le approssimazioni di $e=\\exp(1)$ ottenute con la formula\n",
    "$f(n)=(1/n+1)^n$ per $n=10^k$ e  $k=0, ..., 16$. Visualizzare: un grafico con i valori di $f(n)$ al variare di n ed un grafico con i valori dell'errore relativo (considerando come valore esatto il valore math.exp(1)).  Cosa si osserva? Commentare i risultati ottenuti."
   ]
  },
  {
   "cell_type": "code",
   "execution_count": null,
   "id": "d061b43a",
   "metadata": {},
   "outputs": [],
   "source": [
    "import math\n",
    "import sys\n",
    "import numpy as np\n",
    "import matplotlib.pyplot as plt\n",
    "\n",
    "# Esercizio 1\n",
    "print(\"\\n           Esercizio 1\")\n",
    "print(sys.float_info)\n",
    "a = sys.float_info.min\n",
    "b = sys.float_info.max\n",
    "c = sys.float_info.epsilon\n",
    "print(a)\n",
    "print(b)\n",
    "print(c)\n",
    "\n",
    "# Massimo valore rappresentabile\n",
    "a = (2 ** (1024 - 1)) * (1 + (1 - (2 ** (-53 + 1))))\n",
    "# Minimo valore rappresentabile\n",
    "b = (2 ** (-1021 - 1))\n",
    "print(a)\n",
    "print(b)\n",
    "\n",
    "# Esercizio 2\n",
    "print(\"\\n\\n          Esercizio 2\")\n",
    "# Spacing\n",
    "a = 2 ** (52 + 1 - 53)\n",
    "print(a)\n",
    "x = 2 ** 52\n",
    "print(x)\n",
    "y = a + x\n",
    "print(y)\n",
    "# Dimostrazione del rounding to even\n",
    "z = x + 0.5\n",
    "print(z)\n",
    "q = y + 0.5\n",
    "print(q)\n",
    "\n",
    "# Esercizio 3\n",
    "print(\"\\n\\n          Esercizio 3\")\n",
    "a = 2.0\n",
    "F = 2 * (a - 1) * (a ** 52) * (1024 + 1022 + 1) + 1\n",
    "print(F)\n",
    "\n",
    "# Esercizio 4\n",
    "print(\"\\n\\n          Esercizio 4\")\n",
    "x = 2 ** (1 - 53)\n",
    "y = 2 ** -52\n",
    "print(x == y)\n",
    "# Precisione di macchina\n",
    "z = 1 + x\n",
    "q = 1 + (x / 2)\n",
    "print(z)\n",
    "print(q)\n",
    "print(z == q)\n",
    "\n",
    "# Oppure\n",
    "s10 = np.spacing(10.0**10)\n",
    "print(s10)\n",
    "\n",
    "# Esercizio 5\n",
    "print(\"\\n\\n          Esercizio 5\")\n",
    "a = 1.234567890123400e+15\n",
    "b = -1.234567890123401e+15\n",
    "c = 0.06\n",
    "s1 = (a + b) + c\n",
    "s2 = (a + c) + b\n",
    "s3 = a + (b + c)\n",
    "print(s1)\n",
    "print(s2)\n",
    "print(s3)\n",
    "a = 0.23371258e-4\n",
    "b = 0.33678429e+2\n",
    "c = -0.33677911e+2\n",
    "s1 = (a + b) + c\n",
    "s2 = (a + c) + b\n",
    "s3 = a + (b + c)\n",
    "print(s1)\n",
    "print(s2)\n",
    "print(s3)\n",
    "\n",
    "# Esercizio 6\n",
    "print(\"\\n\\n          Esercizio 6\")\n",
    "x = 7777\n",
    "y1 = math.sqrt((x ** 2) + 1) - x\n",
    "y2 = 1 / (math.sqrt(x ** 2 + 1) + x)\n",
    "print(y1)\n",
    "print(y2)\n",
    "\n",
    "x = 77777777\n",
    "y1 = math.sqrt((x ** 2) + 1) - x\n",
    "y2 = 1 / (math.sqrt(x ** 2 + 1) + x)\n",
    "print(y1)\n",
    "print(y2)\n",
    "\n",
    "# Esercizio 7\n",
    "print(\"\\n\\n          Esercizio 7\")\n",
    "\n",
    "# Array reale\n",
    "x = 10.0**np.arange(21)\n",
    "\n",
    "# Array approssimato\n",
    "A = (1 / x) - (1 / (x + 1))\n",
    "B = 1 / (x * (x + 1))\n",
    "print(A)\n",
    "print(B)\n",
    "\n",
    "# Calcolo tramite formula teorica e formula data\n",
    "Er = np.abs(A - B) / np.abs(B)\n",
    "print(Er)\n",
    "\n",
    "plt.loglog(x, Er, 'b-')\n",
    "plt.show()\n",
    "print(np.spacing)\n",
    "\n",
    "# Esercizio 8\n",
    "print(\"\\n\\n          Esercizio 8\")\n",
    "k = np.arange(1, 9)\n",
    "a = 1\n",
    "b = 10.0**k\n",
    "c = 1\n",
    "\n",
    "d = (b**2) - (4 * a * c)\n",
    "x1 = (-b + np.sqrt(d)) / (2 * a)\n",
    "x2 = (-b - np.sqrt(d)) / (2 * a)\n",
    "print(f\"k={k}:      x1={x1},    x2={x2}\")\n",
    "\n",
    "x1new = c / (a * x2)\n",
    "x1true = -10.0**(-k)\n",
    "\n",
    "err = np.abs(x1true - x1) / np.abs(x1true)\n",
    "err_new = np.abs(x1true - x1new) / np.abs(x1true)\n",
    "plt.semilogy(k, err, 'r-', k, err_new, 'g:')\n",
    "plt.show()\n",
    "\n",
    "# Esercizio 9\n",
    "print(\"\\n\\n          Esercizio 9\")\n",
    "e = math.exp(1)\n",
    "x = 10.0**np.arange(17)\n",
    "print(e)\n",
    "print(x)\n",
    "\n",
    "y = ((1 / x) + 1)**x\n",
    "z = np.full_like(y, e)\n",
    "print(y)\n",
    "\n",
    "plt.semilogx(x, z)\n",
    "plt.semilogx(x, y)\n",
    "plt.show()"
   ]
  }
 ],
 "metadata": {
  "kernelspec": {
   "display_name": "Python 3 (ipykernel)",
   "language": "python",
   "name": "python3"
  },
  "language_info": {
   "codemirror_mode": {
    "name": "ipython",
    "version": 3
   },
   "file_extension": ".py",
   "mimetype": "text/x-python",
   "name": "python",
   "nbconvert_exporter": "python",
   "pygments_lexer": "ipython3",
   "version": "3.9.7"
  }
 },
 "nbformat": 4,
 "nbformat_minor": 5
}
