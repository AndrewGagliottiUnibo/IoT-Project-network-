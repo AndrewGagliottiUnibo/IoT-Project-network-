{
 "cells": [
  {
   "attachments": {},
   "cell_type": "markdown",
   "id": "e90ec8ce-90d7-46dd-902e-4dfc77ed67cc",
   "metadata": {},
   "source": [
    "#                                                               Esercitazione 8\n",
    "## 4 e 18 Aprile 2023"
   ]
  },
  {
   "cell_type": "code",
   "execution_count": 41,
   "id": "871b6d22",
   "metadata": {},
   "outputs": [],
   "source": [
    "import numpy as np\n",
    "import scipy as sp\n",
    "from scipy.linalg import lu\n",
    "from scipy.linalg import cholesky\n",
    "from scipy.linalg import qr\n",
    "import matplotlib.pyplot as plt\n"
   ]
  },
  {
   "cell_type": "markdown",
   "id": "cd4ed451-8ec8-49df-8558-9811d2a154f2",
   "metadata": {},
   "source": [
    "## Esercizio 4\n",
    "Si implementi una function *solve_nsis(A,B)* per il calcolo della soluzione di un generale sistema lineare $AX = B$, con $X, B$ matrici, che usi la fattorizzazione LU della matrice PA, per risolvere n sistemi lineari: aventi la stessa matrice dei coefficienti A e termine noto l'i-esima colonna della matrice B. \n",
    "Utilizzarla poi per il calcolo dell'inversa delle\n",
    "matrici non singolari\n",
    "$$\n",
    "A=\\left[\n",
    "\\begin{array}{ccc}\n",
    "3 & 5 & 7\\\\\n",
    "2 & 3 & 4\\\\\n",
    "5 & 9 & 11\n",
    "\\end{array}\n",
    "\\right ], \\qquad\n",
    "A=\\left[\n",
    "\\begin{array}{cccc}\n",
    "1 & 2 & 3 & 4\\\\\n",
    "2 & -4 & 6 & 8\\\\\n",
    "-1 & -2 & -3 & -1\\\\\n",
    "5 & 7 & 0 & 1\n",
    "\\end{array}\n",
    "\\right ],\n",
    "$$\n",
    "confrontando i risultati ottenuti con l'output\n",
    "della funzione  *scipy.linalg.inv(A)*"
   ]
  },
  {
   "cell_type": "code",
   "execution_count": 42,
   "id": "46403f45",
   "metadata": {},
   "outputs": [],
   "source": [
    "def solveNsis(A, B):\n",
    "    # risolvi n sistemi lineari aventi matrice A e ciascuno dei quali\n",
    "    # ha come termine noto l'iesima colonna di B\n",
    "    m, n = A.shape\n",
    "    flag = 0\n",
    "    if n != m:\n",
    "        print(\"Matrice non quadrata\")\n",
    "        return\n",
    "\n",
    "    PT, L, U = lu(A)\n",
    "    P = PT.T.copy()\n",
    "\n",
    "    Y = np.zeros((n.n))\n",
    "    X = np.zeros((n, n))\n",
    "\n",
    "    # se tutto è andato a buon fine risolvo i sistemi lineari\n",
    "    if flag == 0:\n",
    "        for i in range(n):\n",
    "            # tutte le righe della colonna i -> [:, i]\n",
    "            y, flag = Lsolve(L, np.dot(P, B[:, i]))\n",
    "            x, flag = Usolve(U, y)\n",
    "            X[:, i] = x.reshape(n, )\n",
    "    else:\n",
    "        print(\"Diagonale nulla\")\n",
    "        X = []\n",
    "    return X\n"
   ]
  },
  {
   "cell_type": "markdown",
   "id": "336b8ed9-0a19-44f9-8fd2-890b6f70acfa",
   "metadata": {},
   "source": [
    "## Esercizio 5\n",
    "Sfruttando la fattorizzazione PA=LU  di una delle matrici del punto precedente, calcolarne il determinante.\n"
   ]
  },
  {
   "cell_type": "code",
   "execution_count": null,
   "id": "0dd55c01",
   "metadata": {},
   "outputs": [],
   "source": []
  },
  {
   "cell_type": "markdown",
   "id": "e5216f85-37df-422d-964d-1ee359b9fa1f",
   "metadata": {},
   "source": [
    "## Esercizio 6\n",
    "Per valori di $n = 4 : 6 : 40$, si consideri il sistema lineare $A_n x = b$ con\n",
    "$A_n$ matrice di Hankel di ordine $n$ di elementi\n",
    "$$\n",
    "a^{(n)}_{i,n+k-i}\n",
    "=\n",
    "\\left \\{\n",
    "\\begin{array}{ll}\n",
    "2^k & \\hbox{se} \\ k > 0,\\\\\n",
    "2^{1/(2-k)} & \\hbox{se} \\ k \\leq 0,\n",
    "\\end{array}\n",
    "\\right .\n",
    "\\qquad\n",
    "i = 1, ..., n, \\ \\  k = i + 1-n, ..., i,\n",
    "$$\n",
    "e $b$ scelto in modo che risulti $x = [1, 1, ..., 1]^T$. Si risolva tale sistema\n",
    "con il metodo di fattorizzazione LU della matrice PA\n",
    "e il metodo di fattorizzazione QR (Q,R  =scipy.linalg.qr(A)).\n",
    "Calcolare gli errori relativi $\\| \\delta x \\|_2/\\|x\\|_2$ da cui sono affette\n",
    "le soluzioni calcolate con i due metodi e produrre, al variare di $n$, un\n",
    "grafico in scala logaritmica ( matplotlib.plyplot.loglog) degli errori relativi calcolati. Che cosa si\n",
    "osserva?"
   ]
  },
  {
   "cell_type": "markdown",
   "id": "0ba403c0-aff7-4239-a665-c5c12f99904d",
   "metadata": {},
   "source": [
    "Ripetere l'esercizio precedente per risolvere il sistema lineare $Ax = b$\n",
    "con $A$ e $b$ cos\\`i  definiti:\n",
    "$$\n",
    "a^{(n)}_{i,j}=\n",
    "\\left \\{\n",
    "\\begin{array}{ll}\n",
    "1 & \\hbox{se} \\ i=j \\ \\hbox{o \\, se} \\ j=n,\\\\\n",
    "-1 & \\hbox{se} \\ i>j,\\\\\n",
    "0 & \\hbox{altrimenti}\n",
    "\\end{array}\n",
    "\\right .\n",
    "\\qquad\n",
    "b = A \\cdot [1, ..., 1]^T,\n",
    "$$\n",
    "per $n = 48 : 2 : 58$ e $b$ scelto in modo che risulti $x = [1, 1, ..., 1]^T$. Che\n",
    "cosa si osserva?\n"
   ]
  },
  {
   "cell_type": "code",
   "execution_count": null,
   "id": "5fdfb379",
   "metadata": {},
   "outputs": [],
   "source": []
  },
  {
   "cell_type": "markdown",
   "id": "aed547e3-fe49-41b6-a124-d49c8f9b48f5",
   "metadata": {},
   "source": [
    "## Esercizio 7\n",
    "Implementare la  funzione $jacobi(A,b,x0,toll,itmax)$ per risolvere il  sistema lineare Ax=b utilizzando il Metodo iterativo di Jacobi. \n",
    "La funzione prende in input:\n",
    "- A: matrice dei coefficienti\n",
    "- b: termine noto\n",
    "- x0: vettore iniziale della stessa dimensione di b\n",
    "- toll: tolleranza per il criterio di arresto\n",
    "- itmax: iterazioni massime oltre le quali il metodo si ferma\n",
    "\n",
    "e restituisce in output:\n",
    "- il vettore soluzione\n",
    "- un vettore di tante componenti quanto il numero di iterazioni effettuate, contenente l'errore tra due iterazioni successive $||x^{(k)}-x^{(k-1)}||/||x^{(k)}||$\n",
    "- il numero di iterazioni impiegate per calcolare la soluzione con la tolleranza richiesta\n",
    "\n",
    "\n",
    "Calcolare il raggio spettrale della matrice di iterazione.\n",
    "\n",
    "Implementare un criterio di arresto per il procedimento iterativo in termini di : $||x^{(k)}-x^{(k-1)}||/||x^{(k)}|| <toll$"
   ]
  },
  {
   "cell_type": "code",
   "execution_count": 43,
   "id": "165931dc",
   "metadata": {},
   "outputs": [],
   "source": [
    "def jacobi(A, b, x0, toll, itmax):\n",
    "    # La dichiaro per buona norma anche se Python ha scope di lettura che va anche al di fuori\n",
    "    # dell'ambito della funzione\n",
    "    n = A.shape[0]\n",
    "    # Estraggo la diagonale dalla matrice A\n",
    "    d = np.diag(A)\n",
    "    # Costruisco la matrice diagonale\n",
    "    D = np.diag(d)\n",
    "    # Creo la matrice triangola inferiore da A, -1 perchè escludo la diagonale\n",
    "    E = np.tril(A, - 1)\n",
    "    # Estraggo dalla matrice A la sua matrice triangolare superiore, con diagonale nulla\n",
    "    F = np.triu(A, 1)\n",
    "\n",
    "    # M = D, Si costruisce la matrice M\n",
    "    N = - (E + F)\n",
    "\n",
    "    # Cercando il raggio spettrale, devo vede che questo sia minore di 1 affinché ci sia una veloce\n",
    "    # convergenza del metodo iterativo. Inversa di una matrice diagonale è una matrice diagonale con\n",
    "    # elementi inversi\n",
    "    invM = np.diag(1/d)\n",
    "    T = np.dot(invM, N)\n",
    "\n",
    "    # Il raggio spettrale di una matrice è il suo autovalore di modulo massimo\n",
    "    autT = np.linalg.eigvals(T)\n",
    "    rho = np.max(np.abs(autT))\n",
    "    print(\"Raggio spettrale:    \", rho)\n",
    "\n",
    "    # Cuore dell'algoritmo: inizializzo il contatore delle iterazioni. Tengo traccia del vettore\n",
    "    # degli errori per poi fare un grafico rappresentativo\n",
    "    it = 0\n",
    "    err_vet = []\n",
    "    err = 100\n",
    "\n",
    "    # Imposto le condizioni di convergenza ad itmax iterate e alla quantità di errore maggiore\n",
    "    # rispetto ad una determinata tolleranza. Moltiplicare per una matrice diagonale significa\n",
    "    # dividere una matrice per la diagonale stessa\n",
    "    while it <= itmax and err >= toll:\n",
    "        x = (b + np.dot(N, x0)) / d.reshape(n, 1)\n",
    "        # Se c'è convergenza le soluzioni non cambiano più\n",
    "        err = np.linalg.norm(x - x0) / np.linalg.norm(x)\n",
    "        err_vet.append(err)\n",
    "        # Al passo successivo, x0 sarà la x del passo precedente\n",
    "        x0 = x.copy()\n",
    "        it += 1\n",
    "\n",
    "    return x, it, err_vet\n"
   ]
  },
  {
   "cell_type": "code",
   "execution_count": 44,
   "id": "4b89ab82",
   "metadata": {},
   "outputs": [
    {
     "name": "stdout",
     "output_type": "stream",
     "text": [
      "Raggio spettrale:     0.5586853131416273\n",
      "Soluzione:    [[1.]\n",
      " [1.]\n",
      " [1.]]\n",
      "Iterazioni:   35\n"
     ]
    },
    {
     "data": {
      "image/png": "[encoded data removed]",
      "text/plain": [
       "<Figure size 640x480 with 1 Axes>"
      ]
     },
     "metadata": {},
     "output_type": "display_data"
    }
   ],
   "source": [
    "A = np.array([[4, 1, 3], [3, 4, 1], [1, 1, 17]])\n",
    "# Creo il vettore colonna. Il vettore in questione, senza reshape è un array 1D che non è adatto\n",
    "# alle operazioni con vettori colonna\n",
    "n = A.shape[0]\n",
    "b = np.sum(A, axis=1).reshape(n, 1)\n",
    "# Posso scegliere un qualunque vettore iniziale\n",
    "x0 = np.zeros((n, 1))\n",
    "itmax = 100\n",
    "toll = 1e-8\n",
    "xJ, itJ, err_vetJ = jacobi(A, b, x0, toll, itmax)\n",
    "\n",
    "print(\"Soluzione:   \", xJ)\n",
    "print(\"Iterazioni:  \", itJ)\n",
    "\n",
    "plt.semilogy(np.arange(itJ), err_vetJ)\n",
    "plt.show()\n"
   ]
  },
  {
   "cell_type": "markdown",
   "id": "3e2804e8-0a05-4a88-bb95-014501918127",
   "metadata": {
    "tags": []
   },
   "source": [
    "## Esercizio 8\n",
    "Implementare la  funzione $gauss$_$seidel(A,b,x0,toll,itmax)$ per risolvere il  sistema lineare Ax=b utilizzando il Metodo iterativo di Gauss-Seidel. \n",
    "La funzione prende in input:\n",
    "- A: matrice dei coefficienti\n",
    "- b: termine noto\n",
    "- x0: vettore iniziale della stessa dimensione di b\n",
    "- toll: tolleranza per il criterio di arresto\n",
    "- itmax: iterazioni massime oltre le quali il metodo si ferma\n",
    "\n",
    "e restituisce in output:\n",
    "- il vettore soluzione\n",
    "- un vettore di tante componenti quanto il numero di iterazioni effettuate, contenente l'errore tra due iterazioni successive $||x^{(k)}-x^{(k-1)}||/||x^{(k)}||$\n",
    "- il numero di iterazioni impiegate per calcolare la soluzione con la tolleranza richiesta\n",
    "\n",
    "Calcolare il raggio spettrale della matrice di iterazione.\n",
    "\n",
    "Implementare un criterio di arresto per il procedimento iterativo in termini di : $||x^{(k)}-x^{(k-1)}||/||x^{(k)}|| <toll$"
   ]
  },
  {
   "cell_type": "code",
   "execution_count": 45,
   "id": "a038568e",
   "metadata": {},
   "outputs": [],
   "source": [
    "def gauss_siedel(x0, toll, itmax):\n",
    "    M = D + E\n",
    "    N = -F\n",
    "    pass\n"
   ]
  },
  {
   "cell_type": "code",
   "execution_count": 46,
   "id": "62c6c1dc",
   "metadata": {},
   "outputs": [],
   "source": [
    "A = np.array([[3, 0, 4], [7, 4, 3], [-1, -1, -2]])\n",
    "\n",
    "# Posso scegliere un qualunque vettore iniziale\n",
    "x0 = np.zeros((n, 1))\n",
    "itmax = 100\n",
    "toll = 1e-8\n",
    "xG, itG, err_vetG = gauss_siedel(A, b, x0, toll, itmax)\n",
    "\n",
    "print(\"Soluzione:   \", xG)\n",
    "print(\"Iterazioni:  \", itG)\n",
    "\n",
    "plt.semilogy(np.arange(itG), err_vetG)\n",
    "plt.show()\n"
   ]
  },
  {
   "cell_type": "markdown",
   "id": "c74bb0cb-34c4-45c0-b91a-24fe1d933360",
   "metadata": {},
   "source": [
    "## Esercizio 9\n",
    "Testare i metodi di Jacobi e di Gauss Seidel nella soluzione dei - sistemai lineare Ax=b, dove \n",
    "- A=np.array([[4,1,3],[3,4,1],[1,1,17]]) \n",
    "- A=np.array([[3,0, 4],[7, 4, 3],[-1, -1 ,-2]])\n",
    "- A=np.array([[5, 0, -1, 2],[ -2, 4, 1, 0],[0, -1, 4, -1],[ 2, 0, 0, 3]])\n",
    "\n",
    "ed il termine noto del sistema è scelto in maniera tale che la soluzione esatta del sistema sia il vettore fatto da tutti 1.\n",
    "Visualizzare in un grafico in scala logaritmica  l'errore per ogni iterazione per ciascun metodo. Cosa si osserva?\n",
    "Porre toll=1e-8 it_max=500 e x0=np.zeros(A.shape[0])"
   ]
  },
  {
   "cell_type": "code",
   "execution_count": null,
   "id": "63a15503",
   "metadata": {},
   "outputs": [],
   "source": []
  },
  {
   "cell_type": "markdown",
   "id": "a2a550cc-b2af-4e4a-969f-964bbb79182f",
   "metadata": {},
   "source": [
    "## Esercizio 10\n",
    "Implementare la  funzione $gauss$_$seidel$_sor(A,b,x0,omega, toll,itmax) per risolvere il  sistema lineare Ax=b utilizzando il Metodo iterativo di Gauss-Seidel-SOR\n",
    "La funzione prende in input:\n",
    "- A: matrice dei coefficienti\n",
    "- b: termine noto\n",
    "- x0: vettore iniziale della stessa dimensione di b\n",
    "- omega: il parametro di rilassamento\n",
    "- toll: tolleranza per il criterio di arresto\n",
    "- itmax: iterazioni massime oltre le quali il metodo si ferma\n",
    "\n",
    "e restituisce in output:\n",
    "- il vettore soluzione\n",
    "- un vettore di tante componenti quanto il numero di iterazioni effettuate, contenente l'errore tra due iterazioni successive $||x^{(k)}-x^{(k-1)}||/||x^{(k)}||$\n",
    "- il numero di iterazioni impiegate per calcolare la soluzione con la tolleranza richiesta\n",
    "\n",
    "Calcolare il raggio spettrale della matrice di iterazione.\n",
    "\n",
    "Implementare un criterio di arresto per il procedimento iterativo in termini di : $||x^{(k)}-x^{(k-1)}||/||x^{(k)}|| <toll$"
   ]
  },
  {
   "cell_type": "code",
   "execution_count": null,
   "id": "08e1acb8",
   "metadata": {},
   "outputs": [],
   "source": []
  },
  {
   "cell_type": "markdown",
   "id": "0a6df5f9-ad94-4a81-b55a-19afe9b82064",
   "metadata": {},
   "source": [
    "## Esercizio 11\n",
    "Scrivere una funzione creaPoisson(n) che preso in input l'ordine della matrice quadrata di Poisson la costruzione secondo la seguente formula:\n",
    "$$A =\n",
    "\\left [\n",
    "\\begin{array}{ccccccccccc}\n",
    "4 & -1 & 0 & -1 &0 &0 & 0& 0& \\cdots &   0 & 0\\\\\n",
    "-1 & 4 & -1 & 0  &-1 &0 & 0& 0& \\cdots &   0 & 0\\\\\n",
    "0 & -1 & 4 & -1  &0 &-1 & 0& 0& \\cdots &   0 & 0 \\\\\n",
    "-1 & 0 & -1 & 4  &-1 &0  & -1 & 0& \\cdots &   0 & 0\\\\\n",
    "0 & -1 & 0 & -1  & 4 &-1 & 0 & -1& \\cdots &   0 & 0\\\\\n",
    "0 & 0 & -1 & 0  & -1 &4 & -1 & 0&  -1 & 0 & 0 \\\\\n",
    "0 & 0 & 0 & \\ddots  & 0 &\\ddots & \\ddots & \\ddots& \\ddots & \\ddots & 0\\\\\n",
    "0 & 0 & 0 & 0  & -1 &0  & -1 & 4& -1 &   0& -1\\\\\n",
    "\\end{array}\n",
    " \\right ], \\qquad\n",
    "$$\n",
    "- Risolvere il sistema lineare Ax=b con matrice dei coefficienti A di Poisson di ordine 10 e termine noto b scelto in maniera tale che il sistema abbia soluzione il vettore x con tutte le componenti  uguali ad 1, utilizzando  il metodo iterativo di Jacobi, Gauss-Seidel e Gauss-Seidel-Sor con parametro omega scelto tra 1 e 2 in maniera tale che il raggio spettrale della matrice di iterazione sia il più piccolo possibile e confrontare su un unico grafico l'andamento degli errori in scala logaritmica. Usare toll=1e-10."
   ]
  },
  {
   "cell_type": "code",
   "execution_count": null,
   "id": "a368c175",
   "metadata": {},
   "outputs": [],
   "source": []
  },
  {
   "cell_type": "markdown",
   "id": "186ca402-f3bd-4d8e-b930-11746a839678",
   "metadata": {},
   "source": [
    "## Esercizio 12\n",
    "Implementare una funzione **steepestdescent(A,b,x0,itmax,tol)** che implementa il metodo di discesa più ripida del gradiente per risolvere il sistema lineare Ax=b, con A matrice simmetrica e definita positiva. La funzione prende in input:\n",
    "- A: matrice dei coefficienti\n",
    "- b: termine noto\n",
    "- x0: vettore iniziale della stessa dimensione di b\n",
    "- itmax: iterazioni massime oltre le quali il metodo si ferma\n",
    "- toll: tolleranza per il criterio di arresto\n",
    "\n",
    "e restituisce in output:\n",
    "- il vettore soluzione\n",
    "- un vettore di tante componenti quanto il numero di iterazioni effettuate, contenente la\n",
    "  norma del residuo iterazione per iterazione\n",
    "- il numero di iterazioni impiegate per calcolare la soluzione con la tolleranza richiesta\n",
    "\n",
    "Usare come criterio di arresto $norm(r(k),2) < toll$"
   ]
  },
  {
   "cell_type": "code",
   "execution_count": null,
   "id": "ea1959b9",
   "metadata": {},
   "outputs": [],
   "source": []
  },
  {
   "cell_type": "markdown",
   "id": "3a42d682-1775-4ed6-b65a-2666ba309df7",
   "metadata": {},
   "source": [
    "## Esercizio 13\n",
    "Testare il metodo del gradiente sull'esempio dell'esercizio 11"
   ]
  },
  {
   "cell_type": "code",
   "execution_count": null,
   "id": "2efd5c81-967d-4692-b754-af12452eeba0",
   "metadata": {},
   "outputs": [],
   "source": []
  }
 ],
 "metadata": {
  "kernelspec": {
   "display_name": "Python 3 (ipykernel)",
   "language": "python",
   "name": "python3"
  },
  "language_info": {
   "codemirror_mode": {
    "name": "ipython",
    "version": 3
   },
   "file_extension": ".py",
   "mimetype": "text/x-python",
   "name": "python",
   "nbconvert_exporter": "python",
   "pygments_lexer": "ipython3",
   "version": "3.11.2"
  }
 },
 "nbformat": 4,
 "nbformat_minor": 5
}
