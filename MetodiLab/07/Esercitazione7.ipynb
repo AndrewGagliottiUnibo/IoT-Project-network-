{
    "cells": [
        {
            "cell_type": "markdown",
            "id": "e90ec8ce-90d7-46dd-902e-4dfc77ed67cc",
            "metadata": {},
            "source": [
                "##                                                               Esercitazione 7 - 4 Aprile 2023"
            ]
        },
        {
            "cell_type": "markdown",
            "id": "d54ac306-b55c-4349-9388-ef917d661f36",
            "metadata": {},
            "source": [
                "## Nota 1.\n",
                "La funzione *scipy.linalg.lu(A)*  , presa in input una matrice A a rango massimo, restituisce in output le matrici $P^T$,L,U,  della fattorizzazione di LU della matrice A in maniera tale che PA=LU (restituisce la matrice di permutazione trasposta)"
            ]
        },
        {
            "cell_type": "code",
            "execution_count": 1,
            "id": "771fdc8c-684c-454d-a034-d26b3c3d8fcd",
            "metadata": {
                "tags": []
            },
            "outputs": [
                {
                    "name": "stdout",
                    "output_type": "stream",
                    "text": [
                        "A= [[2 1]\n",
                        " [3 4]]\n",
                        "L= [[1.         0.        ]\n",
                        " [0.66666667 1.        ]]\n",
                        "U= [[ 3.          4.        ]\n",
                        " [ 0.         -1.66666667]]\n",
                        "P= [[0. 1.]\n",
                        " [1. 0.]]\n",
                        "Matrice P*A \n",
                        " [[3. 4.]\n",
                        " [2. 1.]]\n",
                        "Matrice ottenuta moltipicando Le ed U \n",
                        " [[3. 4.]\n",
                        " [2. 1.]]\n"
                    ]
                }
            ],
            "source": [
                "import numpy as np\n",
                "import scipy as sp\n",
                "from scipy.linalg import lu\n",
                "A = np.array([[2, 1], [3, 4]])\n",
                "# Restituisce in output la trasposta della matrice di Permutazione\n",
                "PT, L, U = lu(A)\n",
                "P = PT.T.copy()  # P è la matrice di permutazione\n",
                "print(\"A=\", A)\n",
                "print(\"L=\", L)\n",
                "print(\"U=\", U)\n",
                "print(\"P=\", P)\n",
                "# LU è la fattorizzazione di P*A (terorema 2)\n",
                "A1 = P@A  # equivale al prodotto matrice x matrice np.dot(P,A)\n",
                "A1Fatt = L@U  # equivale a np.dot(L,U)\n",
                "print(\"Matrice P*A \\n\", A1)\n",
                "print(\"Matrice ottenuta moltipicando Le ed U \\n\", A1Fatt)\n"
            ]
        },
        {
            "cell_type": "markdown",
            "id": "c8f02e37-3f92-40bd-ad19-2e1820bef98a",
            "metadata": {},
            "source": [
                "## Nota 2\n",
                "La funzione *scipy.linalg.cholesky(a, lower=True)*, presa in input una matrice simmetrica e definta positiva restituisce in output la matrice L triangolare inferiore tale che $A=L \\cdot L^T$. Se la matrice simmetrica in input non è  definita positiva, restituisce un errore."
            ]
        },
        {
            "cell_type": "code",
            "execution_count": 2,
            "id": "b5c2c35c-a5bf-46bb-a074-b1223eb4228d",
            "metadata": {
                "tags": []
            },
            "outputs": [
                {
                    "name": "stdout",
                    "output_type": "stream",
                    "text": [
                        "[[ 2  1  3]\n",
                        " [ 1  5  7]\n",
                        " [ 3  7 12]]\n"
                    ]
                }
            ],
            "source": [
                "from scipy.linalg import cholesky\n",
                "A = np.array([[2, 1, 3], [1, 5, 7], [3, 7, 12]])\n",
                "print(A)\n"
            ]
        },
        {
            "cell_type": "code",
            "execution_count": 3,
            "id": "573c6451-6704-4ec7-882a-5c92b9228728",
            "metadata": {
                "tags": []
            },
            "outputs": [
                {
                    "name": "stdout",
                    "output_type": "stream",
                    "text": [
                        "[[1.41421356 0.         0.        ]\n",
                        " [0.70710678 2.12132034 0.        ]\n",
                        " [2.12132034 2.59272486 0.8819171 ]]\n",
                        "A1=\n",
                        " [[ 2.  1.  3.]\n",
                        " [ 1.  5.  7.]\n",
                        " [ 3.  7. 12.]]\n"
                    ]
                }
            ],
            "source": [
                "L = cholesky(A, lower=True)\n",
                "print(L)\n",
                "A1 = L@L.T\n",
                "print(\"A1=\\n\", A1)\n"
            ]
        },
        {
            "cell_type": "markdown",
            "id": "61a0ba64-b364-4a43-a1b7-a57ee779ef31",
            "metadata": {},
            "source": [
                "## Nota 3\n",
                "La funzione *scipy.linalg.qr(a)*, presa in input una matrice A (nxn)  a rango massimo, restituisce in output le matrici Q (ortogonale di dimensione nxn) ed una matrice R (nxn) triangolare superiore tale che $A=Q \\cdot R$"
            ]
        },
        {
            "cell_type": "code",
            "execution_count": 4,
            "id": "8d9f5290-f22c-4e10-8694-4e940a751d23",
            "metadata": {
                "tags": []
            },
            "outputs": [
                {
                    "name": "stdout",
                    "output_type": "stream",
                    "text": [
                        "Q= \n",
                        " [[-0.53452248  0.6882472  -0.49051147]\n",
                        " [-0.26726124 -0.6882472  -0.67445327]\n",
                        " [-0.80178373 -0.22941573  0.55182541]]\n",
                        "R= \n",
                        " [[ -3.74165739  -7.48331477 -13.09580085]\n",
                        " [  0.          -4.35889894  -5.50597761]\n",
                        " [  0.           0.           0.42919754]]\n",
                        "[[ 2.  1.  3.]\n",
                        " [ 1.  5.  7.]\n",
                        " [ 3.  7. 12.]]\n"
                    ]
                }
            ],
            "source": [
                "from scipy.linalg import qr\n",
                "A = np.array([[2, 1, 3], [1, 5, 7], [3, 7, 12]])\n",
                "Q, R = qr(A)\n",
                "print(\"Q= \\n\", Q)\n",
                "print(\"R= \\n\", R)\n",
                "A1 = Q@R\n",
                "print(A1)\n"
            ]
        },
        {
            "cell_type": "markdown",
            "id": "44a1e060-18d2-48d8-b968-e73a58e56fcd",
            "metadata": {},
            "source": [
                "## Esercizio 1. \n",
                "Facendo uso dei numpy array, implementare una funzione Lsolve(L,b), che, presa  in input una matrice L, triangolare inferiore,  e il vettore termine noto b, risolva il sistema lineare Lx=b, con il metodo della sostituzione in avanti e restituisca in output: la soluzione del sistema lineare ed un flag: flag=  0, se sono soddisfatti i criteri di applicabilità flag= 1, se non sono soddisfatti. (NB. Come test di applicabilità controllare che la matrice L sia quadrata e che non si annulli nessun elemento della diagonale)."
            ]
        },
        {
            "cell_type": "code",
            "execution_count": 5,
            "id": "1b3e67d9-0a1c-4669-ae52-1b434ab90732",
            "metadata": {},
            "outputs": [
                {
                    "name": "stdout",
                    "output_type": "stream",
                    "text": [
                        "[[2. 0. 0.]\n",
                        " [6. 4. 0.]\n",
                        " [7. 2. 4.]]\n",
                        "[[ 2.]\n",
                        " [10.]\n",
                        " [13.]]\n",
                        "Soluzione [[1.]\n",
                        " [1.]\n",
                        " [1.]]\n"
                    ]
                }
            ],
            "source": [
                "def Lsolve(L, b):\n",
                "    # test dimensione sulla possibile differenza tra righe e colonne\n",
                "    m, n = L.shape\n",
                "    flag = 0\n",
                "    if n != m:\n",
                "        print(\"Matrice non quadrata\")\n",
                "        flag = 1\n",
                "        x = []\n",
                "        return x, flag\n",
                "\n",
                "    # Test sulla singolarità: prodotto delle diagonali per vedere che queste non si annullino\n",
                "    if np.all(np.diag(L)) != True:\n",
                "        print(\"Diagonale nulla, matrice triangolare inferiore\")\n",
                "        flag = 1\n",
                "        x = []\n",
                "        return x, flag\n",
                "\n",
                "    # Algoritmo vero e proprio\n",
                "    x = np.zeros((n, 1))\n",
                "\n",
                "    # Eseguo il prodotto scalare tra la riga i-esima e le i-1 componenti della soluzione appena calcolata\n",
                "    for i in range(n):\n",
                "        s = np.dot(L[i, :i], x[0:i])\n",
                "        x[i] = (b[i] - s) / L[i, i]\n",
                "\n",
                "    return x, flag\n",
                "\n",
                "\n",
                "L = np.array([[2, 0, 0], [6, 4.0, 0], [7.0, 2.0, 4.0]])\n",
                "print(L)\n",
                "b = np.sum(L, axis=1).reshape(3, 1)\n",
                "print(b)\n",
                "\n",
                "x, flag = Lsolve(L, b)\n",
                "print(\"Soluzione\", x)\n"
            ]
        },
        {
            "cell_type": "markdown",
            "id": "c56febff-750a-49bc-9d68-13b0aee0a9fd",
            "metadata": {},
            "source": [
                "## Esercizio 2. \n",
                "Facendo uso dei numpy array, implementare una funzione Usolve(L,b), che, presa  in input una matrice U, triangolare superiore,  e il vettore termine noto b, risolva il sistema lineare Ux=b, con il metodo della sostituzione all'indietro e restituisca in output: la soluzione del sistema lineare ed un flag: flag=  0, se sono soddisfatti i criteri di applicabilità flag= 1, se non sono soddisfatti. (NB. Come criteri di applicabilità controllare che la matrice L sia quadrata e che non si annulli nessun elemento della diagonale)."
            ]
        },
        {
            "cell_type": "code",
            "execution_count": 6,
            "id": "c663dc05",
            "metadata": {},
            "outputs": [
                {
                    "name": "stdout",
                    "output_type": "stream",
                    "text": [
                        "[[2. 6. 7.]\n",
                        " [0. 4. 2.]\n",
                        " [0. 0. 4.]]\n",
                        "[[15.]\n",
                        " [ 6.]\n",
                        " [ 4.]]\n",
                        "Soluzione [[1.]\n",
                        " [1.]\n",
                        " [1.]]\n"
                    ]
                }
            ],
            "source": [
                "def Usolve(U, b):\n",
                "    # test dimensione sulla possibile differenza tra righe e colonne\n",
                "    m, n = U.shape\n",
                "    flag = 0\n",
                "    if n != m:\n",
                "        print(\"Matrice non quadrata\")\n",
                "        flag = 1\n",
                "        x = []\n",
                "        return x, flag\n",
                "\n",
                "    # Test sulla singolarità: prodotto delle diagonali per vedere che queste non si annullino\n",
                "    if np.all(np.diag(U)) != True:\n",
                "        print(\"Diagonale nulla, matrice triangolare superiore\")\n",
                "        flag = 1\n",
                "        x = []\n",
                "        return x, flag\n",
                "\n",
                "    x = np.zeros((n, 1))\n",
                "\n",
                "    # Il passo dell'algoritmo agisce al contrario perchè la matrice che viene analizzata è diversa\n",
                "    for i in range(n-1, -1, -1):\n",
                "        s = np.dot(U[i, i + 1:n], x[i + 1:n])\n",
                "        x[i] = (b[i] - s) / U[i, i]\n",
                "\n",
                "    return x, flag\n",
                "\n",
                "\n",
                "U = L.T\n",
                "print(U)\n",
                "b = np.sum(U, axis=1).reshape(3, 1)\n",
                "print(b)\n",
                "\n",
                "x, flag = Usolve(U, b)\n",
                "print(\"Soluzione\", x)\n"
            ]
        },
        {
            "attachments": {},
            "cell_type": "markdown",
            "id": "f5f10793-9998-4cd8-bce4-4251de1b55d6",
            "metadata": {},
            "source": [
                "## Esercizio 3\n",
                "- si implementi una function LUsolve(P,L,U,b) che risolve il sistema lineare Ax=b nel caso di fattorizzazione $PA = LU$ assegnata,\n",
                "combinando i metodi di risoluzione in avanti ed all'indietro  precedentemente implementati.\n",
                "- si testi sulla matrice A = np.array([[2, 5, 8, 7], [5, 2, 2, 8], [7, 5, 6, 6], [5, 4, 4, 8]]) con termine noto b scelto in maniera tale che la soluzione esatta del sistema lineare sia il vettore formato da tutti 1."
            ]
        },
        {
            "cell_type": "code",
            "execution_count": 7,
            "id": "209e6820",
            "metadata": {},
            "outputs": [
                {
                    "name": "stdout",
                    "output_type": "stream",
                    "text": [
                        "[[1.]\n",
                        " [1.]\n",
                        " [1.]\n",
                        " [1.]]\n"
                    ]
                }
            ],
            "source": [
                "def LUSolve(P, L, U, b):\n",
                "    # PA = LU\n",
                "    # Ax = b -> PAx = Pb -> L(Ux) = Pb\n",
                "    y, flag = Lsolve(L, np.dot(P, b))\n",
                "    x, flag = Usolve(U, y)\n",
                "    return x, flag\n",
                "\n",
                "\n",
                "A = np.array([[2, 5, 8, 7], [5, 2, 2, 8], [7, 5, 6, 6], [5, 4, 4, 8]])\n",
                "b = np.sum(A, axis=1)\n",
                "\n",
                "P, L, U = lu(A)\n",
                "sol, flag = LUSolve(P.T, L, U, b)\n",
                "print(sol)\n"
            ]
        }
    ],
    "metadata": {
        "kernelspec": {
            "display_name": "Python 3 (ipykernel)",
            "language": "python",
            "name": "python3"
        },
        "language_info": {
            "codemirror_mode": {
                "name": "ipython",
                "version": 3
            },
            "file_extension": ".py",
            "mimetype": "text/x-python",
            "name": "python",
            "nbconvert_exporter": "python",
            "pygments_lexer": "ipython3",
            "version": "3.11.2"
        }
    },
    "nbformat": 4,
    "nbformat_minor": 5
}
