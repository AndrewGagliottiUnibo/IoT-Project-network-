{
    "cells": [
        {
            "cell_type": "markdown",
            "id": "e90ec8ce-90d7-46dd-902e-4dfc77ed67cc",
            "metadata": {},
            "source": [
                "##                                                               Esercitazione 7 - 4 Aprile 2023"
            ]
        },
        {
            "cell_type": "markdown",
            "id": "d54ac306-b55c-4349-9388-ef917d661f36",
            "metadata": {},
            "source": [
                "## Nota 1.\n",
                "La funzione *scipy.linalg.lu(A)*  , presa in input una matrice A a rango massimo, restituisce in output le matrici $P^T$,L,U,  della fattorizzazione di LU della matrice A in maniera tale che PA=LU (restituisce la matrice di permutazione trasposta)"
            ]
        },
        {
            "cell_type": "code",
            "execution_count": 1,
            "id": "771fdc8c-684c-454d-a034-d26b3c3d8fcd",
            "metadata": {
                "tags": []
            },
            "outputs": [
                {
                    "name": "stdout",
                    "output_type": "stream",
                    "text": [
                        "A= [[2 1]\n",
                        " [3 4]]\n",
                        "L= [[1.         0.        ]\n",
                        " [0.66666667 1.        ]]\n",
                        "U= [[ 3.          4.        ]\n",
                        " [ 0.         -1.66666667]]\n",
                        "P= [[0. 1.]\n",
                        " [1. 0.]]\n",
                        "Matrice P*A \n",
                        " [[3. 4.]\n",
                        " [2. 1.]]\n",
                        "Matrice ottenuta moltipicando Le ed U \n",
                        " [[3. 4.]\n",
                        " [2. 1.]]\n"
                    ]
                }
            ],
            "source": [
                "import numpy as np\n",
                "import scipy as sp\n",
                "from scipy.linalg import lu\n",
                "A=np.array([[2,1],[3,4]])\n",
                "PT,L,U=lu(A)  #Restituisce in output la trasposta della matrice di Permutazione\n",
                "P=PT.T.copy()   #P è la matrice di permutazione\n",
                "print(\"A=\",A)\n",
                "print(\"L=\",L)\n",
                "print(\"U=\",U)\n",
                "print(\"P=\",P)\n",
                "#LU è la fattorizzazione di P*A (terorema 2)\n",
                "A1=P@A # equivale al prodotto matrice x matrice np.dot(P,A)\n",
                "A1Fatt=L@U # equivale a np.dot(L,U)\n",
                "print(\"Matrice P*A \\n\", A1)\n",
                "print(\"Matrice ottenuta moltipicando Le ed U \\n\",A1Fatt)\n"
            ]
        },
        {
            "cell_type": "markdown",
            "id": "c8f02e37-3f92-40bd-ad19-2e1820bef98a",
            "metadata": {},
            "source": [
                "## Nota 2\n",
                "La funzione *scipy.linalg.cholesky(a, lower=True)*, presa in input una matrice simmetrica e definta positiva restituisce in output la matrice L triangolare inferiore tale che $A=L \\cdot L^T$. Se la matrice simmetrica in input non è  definita positiva, restituisce un errore."
            ]
        },
        {
            "cell_type": "code",
            "execution_count": 2,
            "id": "b5c2c35c-a5bf-46bb-a074-b1223eb4228d",
            "metadata": {
                "tags": []
            },
            "outputs": [
                {
                    "name": "stdout",
                    "output_type": "stream",
                    "text": [
                        "[[ 2  1  3]\n",
                        " [ 1  5  7]\n",
                        " [ 3  7 12]]\n"
                    ]
                }
            ],
            "source": [
                "from scipy.linalg import cholesky\n",
                "A=np.array([[2,1,3],[1,5,7],[3,7,12]])\n",
                "print(A)"
            ]
        },
        {
            "cell_type": "code",
            "execution_count": 3,
            "id": "573c6451-6704-4ec7-882a-5c92b9228728",
            "metadata": {
                "tags": []
            },
            "outputs": [
                {
                    "name": "stdout",
                    "output_type": "stream",
                    "text": [
                        "[[1.41421356 0.         0.        ]\n",
                        " [0.70710678 2.12132034 0.        ]\n",
                        " [2.12132034 2.59272486 0.8819171 ]]\n",
                        "A1=\n",
                        " [[ 2.  1.  3.]\n",
                        " [ 1.  5.  7.]\n",
                        " [ 3.  7. 12.]]\n"
                    ]
                }
            ],
            "source": [
                "L=cholesky(A,lower=True)\n",
                "print(L)\n",
                "A1=L@L.T\n",
                "print(\"A1=\\n\",A1)"
            ]
        },
        {
            "cell_type": "markdown",
            "id": "61a0ba64-b364-4a43-a1b7-a57ee779ef31",
            "metadata": {},
            "source": [
                "## Nota 3\n",
                "La funzione *scipy.linalg.qr(a)*, presa in input una matrice A (nxn)  a rango massimo, restituisce in output le matrici Q (ortogonale di dimensione nxn) ed una matrice R (nxn) triangolare superiore tale che $A=Q \\cdot R$"
            ]
        },
        {
            "cell_type": "code",
            "execution_count": 4,
            "id": "8d9f5290-f22c-4e10-8694-4e940a751d23",
            "metadata": {
                "tags": []
            },
            "outputs": [
                {
                    "name": "stdout",
                    "output_type": "stream",
                    "text": [
                        "Q= \n",
                        " [[-0.53452248  0.6882472  -0.49051147]\n",
                        " [-0.26726124 -0.6882472  -0.67445327]\n",
                        " [-0.80178373 -0.22941573  0.55182541]]\n",
                        "R= \n",
                        " [[ -3.74165739  -7.48331477 -13.09580085]\n",
                        " [  0.          -4.35889894  -5.50597761]\n",
                        " [  0.           0.           0.42919754]]\n",
                        "[[ 2.  1.  3.]\n",
                        " [ 1.  5.  7.]\n",
                        " [ 3.  7. 12.]]\n"
                    ]
                }
            ],
            "source": [
                "from scipy.linalg import qr\n",
                "A=np.array([[2,1,3],[1,5,7],[3,7,12]])\n",
                "Q,R=qr(A)\n",
                "print(\"Q= \\n\",Q)\n",
                "print(\"R= \\n\",R)\n",
                "A1=Q@R\n",
                "print(A1)"
            ]
        },
        {
            "cell_type": "markdown",
            "id": "44a1e060-18d2-48d8-b968-e73a58e56fcd",
            "metadata": {},
            "source": [
                "## Esercizio 1. \n",
                "Facendo uso dei numpy array, implementare una funzione Lsolve(L,b), che, presa  in input una matrice L, triangolare inferiore,  e il vettore termine noto b, risolva il sistema lineare Lx=b, con il metodo della sostituzione in avanti e restituisca in output: la soluzione del sistema lineare ed un flag: flag=  0, se sono soddisfatti i criteri di applicabilità flag= 1, se non sono soddisfatti. (NB. Come test di applicabilità controllare che la matrice L sia quadrata e che non si annulli nessun elemento della diagonale)."
            ]
        },
        {
            "cell_type": "code",
            "execution_count": 5,
            "id": "1b3e67d9-0a1c-4669-ae52-1b434ab90732",
            "metadata": {},
            "outputs": [
                {
                    "name": "stdout",
                    "output_type": "stream",
                    "text": [
                        "[[2. 0. 0.]\n",
                        " [6. 4. 0.]\n",
                        " [7. 2. 4.]]\n",
                        "[[ 2.]\n",
                        " [10.]\n",
                        " [13.]]\n",
                        "Soluzione [[1.]\n",
                        " [1.]\n",
                        " [1.]]\n"
                    ]
                }
            ],
            "source": [
                "def Lsolve(L, b):\n",
                "    # test dimensione sulla possibile differenza tra righe e colonne\n",
                "    m, n = L.shape\n",
                "    flag = 0\n",
                "    if n != m:\n",
                "        print(\"Matrice non quadrata\")\n",
                "        flag = 1\n",
                "        x = []\n",
                "        return x, flag\n",
                "    \n",
                "    # Test sulla singolarità: prodotto delle diagonali per vedere che queste non si annullino\n",
                "    if np.all(np.diag(L)) != True:\n",
                "        print(\"Diagonale nulla, matrice triangolare inferiore\")\n",
                "        flag = 1\n",
                "        x = []\n",
                "        return x, flag\n",
                "\n",
                "    # Algoritmo vero e proprio\n",
                "    x = np.zeros((n, 1))\n",
                "\n",
                "    # Eseguo il prodotto scalare tra la riga i-esima e le i-1 componenti della soluzione appena calcolata\n",
                "    for i in range(n):\n",
                "        s = np.dot(L[i, :i], x[0:i])\n",
                "        x[i] = (b[i] - s) / L[i, i]\n",
                "\n",
                "    return x, flag\n",
                "\n",
                "L = np.array([[2, 0, 0], [6, 4.0, 0], [7.0, 2.0, 4.0]])\n",
                "print(L)\n",
                "b = np.sum(L, axis=1).reshape(3, 1)\n",
                "print(b)\n",
                "\n",
                "x, flag = Lsolve(L, b)\n",
                "print(\"Soluzione\", x)"
            ]
        },
        {
            "cell_type": "markdown",
            "id": "c56febff-750a-49bc-9d68-13b0aee0a9fd",
            "metadata": {},
            "source": [
                "## Esercizio 2. \n",
                "Facendo uso dei numpy array, implementare una funzione Usolve(L,b), che, presa  in input una matrice U, triangolare superiore,  e il vettore termine noto b, risolva il sistema lineare Ux=b, con il metodo della sostituzione all'indietro e restituisca in output: la soluzione del sistema lineare ed un flag: flag=  0, se sono soddisfatti i criteri di applicabilità flag= 1, se non sono soddisfatti. (NB. Come criteri di applicabilità controllare che la matrice L sia quadrata e che non si annulli nessun elemento della diagonale)."
            ]
        },
        {
            "cell_type": "code",
            "execution_count": 6,
            "id": "c663dc05",
            "metadata": {},
            "outputs": [
                {
                    "name": "stdout",
                    "output_type": "stream",
                    "text": [
                        "[[2. 6. 7.]\n",
                        " [0. 4. 2.]\n",
                        " [0. 0. 4.]]\n",
                        "[[15.]\n",
                        " [ 6.]\n",
                        " [ 4.]]\n",
                        "Soluzione [[1.]\n",
                        " [1.]\n",
                        " [1.]]\n"
                    ]
                }
            ],
            "source": [
                "def Usolve(U, b):\n",
                "    # test dimensione sulla possibile differenza tra righe e colonne\n",
                "    m, n = U.shape\n",
                "    flag = 0\n",
                "    if n != m:\n",
                "        print(\"Matrice non quadrata\")\n",
                "        flag = 1\n",
                "        x = []\n",
                "        return x, flag\n",
                "    \n",
                "    # Test sulla singolarità: prodotto delle diagonali per vedere che queste non si annullino\n",
                "    if np.all(np.diag(U)) != True:\n",
                "        print(\"Diagonale nulla, matrice triangolare superiore\")\n",
                "        flag = 1\n",
                "        x = []\n",
                "        return x, flag\n",
                "\n",
                "    x = np.zeros((n, 1))\n",
                "\n",
                "    # Il passo dell'algoritmo agisce al contrario perchè la matrice che viene analizzata è diversa\n",
                "    for i in range(n-1, -1, -1):\n",
                "        s = np.dot(U[i, i + 1:n], x[i + 1:n])\n",
                "        x[i] = (b[i] - s) / U[i, i]\n",
                "\n",
                "    return x, flag\n",
                "\n",
                "U = L.T\n",
                "print(U)\n",
                "b = np.sum(U, axis=1).reshape(3, 1)\n",
                "print(b)\n",
                "\n",
                "x, flag = Usolve(U, b)\n",
                "print(\"Soluzione\", x)"
            ]
        },
        {
            "attachments": {},
            "cell_type": "markdown",
            "id": "f5f10793-9998-4cd8-bce4-4251de1b55d6",
            "metadata": {},
            "source": [
                "## Esercizio 3\n",
                "- si implementi una function LUsolve(P,L,U,b) che risolve il sistema lineare Ax=b nel caso di fattorizzazione $PA = LU$ assegnata,\n",
                "combinando i metodi di risoluzione in avanti ed all'indietro  precedentemente implementati.\n",
                "- si testi sulla matrice A = np.array([[2, 5, 8, 7], [5, 2, 2, 8], [7, 5, 6, 6], [5, 4, 4, 8]]) con termine noto b scelto in maniera tale che la soluzione esatta del sistema lineare sia il vettore formato da tutti 1."
            ]
        },
        {
            "cell_type": "code",
            "execution_count": 7,
            "id": "209e6820",
            "metadata": {},
            "outputs": [
                {
                    "name": "stdout",
                    "output_type": "stream",
                    "text": [
                        "[[1.]\n",
                        " [1.]\n",
                        " [1.]\n",
                        " [1.]]\n"
                    ]
                }
            ],
            "source": [
                "def LUSolve(P, L, U, b):\n",
                "    # PA = LU\n",
                "    # Ax = b -> PAx = Pb -> L(Ux) = Pb\n",
                "    y, flag = Lsolve(L, np.dot(P, b))\n",
                "    x, flag = Usolve(U, y)\n",
                "    return x, flag\n",
                "\n",
                "A = np.array([[2, 5, 8, 7], [5, 2, 2, 8], [7, 5, 6, 6], [5, 4, 4, 8]])\n",
                "b = np.sum(A, axis=1)\n",
                "\n",
                "P, L, U = lu(A)\n",
                "sol, flag = LUSolve(P.T, L, U, b)\n",
                "print(sol)"
            ]
        },
        {
            "cell_type": "markdown",
            "id": "cd4ed451-8ec8-49df-8558-9811d2a154f2",
            "metadata": {},
            "source": [
                "## Esercizio 4\n",
                "Si implementi una function *solve_nsis(A,B)* per il calcolo della soluzione di un generale sistema lineare $AX = B$, con $X, B$ matrici, che usi la fattorizzazione LU della matrice PA, per risolvere n sistemi lineari: aventi la stessa matrice dei coefficienti A e termine noto l'i-esima colonna della matrice B. \n",
                "Utilizzarla poi per il calcolo dell'inversa delle\n",
                "matrici non singolari\n",
                "$$\n",
                "A=\\left[\n",
                "\\begin{array}{ccc}\n",
                "3 & 5 & 7\\\\\n",
                "2 & 3 & 4\\\\\n",
                "5 & 9 & 11\n",
                "\\end{array}\n",
                "\\right ], \\qquad\n",
                "A=\\left[\n",
                "\\begin{array}{cccc}\n",
                "1 & 2 & 3 & 4\\\\\n",
                "2 & -4 & 6 & 8\\\\\n",
                "-1 & -2 & -3 & -1\\\\\n",
                "5 & 7 & 0 & 1\n",
                "\\end{array}\n",
                "\\right ],\n",
                "$$\n",
                "confrontando i risultati ottenuti con l'output\n",
                "della funzione  *scipy.linalg.inv(A)*"
            ]
        },
        {
            "cell_type": "code",
            "execution_count": 8,
            "id": "c9b4a97c",
            "metadata": {},
            "outputs": [],
            "source": [
                "def solveNsis(A, B):\n",
                "    # risolvi n sistemi lineari aventi matrice A e ciascuno dei quali\n",
                "    # ha come termine noto l'iesima colonna di B\n",
                "    m, n = A.shape\n",
                "    flag = 0\n",
                "    if n != m:\n",
                "        print(\"Matrice non quadrata\")\n",
                "        return\n",
                "    \n",
                "    PT, L, U = lu(A)\n",
                "    P = PT.T.copy()\n",
                "\n",
                "    Y = np.zeros((n.n))\n",
                "    X = np.zeros((n,n))\n",
                "\n",
                "    # se tutto è andato a buon fine risolvo i sistemi lineari\n",
                "    if flag == 0:\n",
                "        for i in range(n):\n",
                "            # tutte le righe della colonna i -> [:, i]\n",
                "            y, flag = Lsolve(L, np.dot(P, B[:, i]))\n",
                "            x, flag = Usolve(U, y)\n",
                "            X[:, i] = x.reshape(n, )\n",
                "    else:\n",
                "        print(\"Diagonale nulla\")\n",
                "        X =[]\n",
                "    return X\n"
            ]
        },
        {
            "cell_type": "markdown",
            "id": "336b8ed9-0a19-44f9-8fd2-890b6f70acfa",
            "metadata": {},
            "source": [
                "## Esercizio 5\n",
                "Sfruttando la fattorizzazione PA=LU  di una delle matrici del punto precedente, calcolarne il determinante.\n"
            ]
        },
        {
            "cell_type": "markdown",
            "id": "e5216f85-37df-422d-964d-1ee359b9fa1f",
            "metadata": {},
            "source": [
                "## Esercizio 6\n",
                "Per valori di $n = 4 : 6 : 40$, si consideri il sistema lineare $A_n x = b$ con\n",
                "$A_n$ matrice di Hankel di ordine $n$ di elementi\n",
                "$$\n",
                "a^{(n)}_{i,n+k-i}\n",
                "=\n",
                "\\left \\{\n",
                "\\begin{array}{ll}\n",
                "2^k & \\hbox{se} \\ k > 0,\\\\\n",
                "2^{1/(2-k)} & \\hbox{se} \\ k \\leq 0,\n",
                "\\end{array}\n",
                "\\right .\n",
                "\\qquad\n",
                "i = 1, ..., n, \\ \\  k = i + 1-n, ..., i,\n",
                "$$\n",
                "e $b$ scelto in modo che risulti $x = [1, 1, ..., 1]^T$. Si risolva tale sistema\n",
                "con il metodo di fattorizzazione LU della matrice PA\n",
                "e il metodo di fattorizzazione QR (Q,R  =scipy.linalg.qr(A)).\n",
                "Calcolare gli errori relativi $\\| \\delta x \\|_2/\\|x\\|_2$ da cui sono affette\n",
                "le soluzioni calcolate con i due metodi e produrre, al variare di $n$, un\n",
                "grafico in scala logaritmica ( matplotlib.plyplot.loglog) degli errori relativi calcolati. Che cosa si\n",
                "osserva?"
            ]
        },
        {
            "cell_type": "markdown",
            "id": "0ba403c0-aff7-4239-a665-c5c12f99904d",
            "metadata": {},
            "source": [
                "Ripetere l'esercizio precedente per risolvere il sistema lineare $Ax = b$\n",
                "con $A$ e $b$ cos\\`i  definiti:\n",
                "$$\n",
                "a^{(n)}_{i,j}=\n",
                "\\left \\{\n",
                "\\begin{array}{ll}\n",
                "1 & \\hbox{se} \\ i=j \\ \\hbox{o \\, se} \\ j=n,\\\\\n",
                "-1 & \\hbox{se} \\ i>j,\\\\\n",
                "0 & \\hbox{altrimenti}\n",
                "\\end{array}\n",
                "\\right .\n",
                "\\qquad\n",
                "b = A \\cdot [1, ..., 1]^T,\n",
                "$$\n",
                "per $n = 48 : 2 : 58$ e $b$ scelto in modo che risulti $x = [1, 1, ..., 1]^T$. Che\n",
                "cosa si osserva?\n"
            ]
        },
        {
            "cell_type": "markdown",
            "id": "aed547e3-fe49-41b6-a124-d49c8f9b48f5",
            "metadata": {},
            "source": [
                "## Esercizio 7\n",
                "Implementare la  funzione *jacobi(A,b,x0,toll,it_max)* per risolvere il  sistema lineare Ax=b utilizzando il Metodo iterativo di Jacobi. \n",
                "La funzione prende in input:\n",
                "- A: matrice dei coefficienti\n",
                "- b: termine noto\n",
                "- x0: vettore iniziale della stessa dimensione di b\n",
                "- toll: tolleranza per il criterio di arresto\n",
                "- it_max: iterazioni massime oltre le quali il metodo si ferma\n",
                "\n",
                "e restituisce in output:\n",
                "- il vettore soluzione\n",
                "- un vettore di tante componenti quanto il numero di iterazioni effettuate, contenente l'errore tra due iterazioni successive $||x^{(k)}-x^{(k-1)}||/||x^{(k)}||$\n",
                "- il numero di iterazioni impiegate per calcolare la soluzione con la tolleranza richiesta\n",
                "\n",
                "Implementare un criterio di arresto per il procedimento iterativo in termini di : $||x^{(k)}-x^{(k-1)}||/||x^{(k)}|| <toll$"
            ]
        },
        {
            "cell_type": "markdown",
            "id": "3e2804e8-0a05-4a88-bb95-014501918127",
            "metadata": {
                "tags": []
            },
            "source": [
                "## Esercizio 8\n",
                "Implementare la  funzione $gauss$_$seidel(A,b,x0,toll,it_max)$ per risolvere il  sistema lineare Ax=b utilizzando il Metodo iterativo di Gauss-Seidel. \n",
                "La funzione prende in input:\n",
                "- A: matrice dei coefficienti\n",
                "- b: termine noto\n",
                "- x0: vettore iniziale della stessa dimensione di b\n",
                "- toll: tolleranza per il criterio di arresto\n",
                "- it_max: iterazioni massime oltre le quali il metodo si ferma\n",
                "\n",
                "e restituisce in output:\n",
                "- il vettore soluzione\n",
                "- un vettore di tante componenti quanto il numero di iterazioni effettuate, contenente l'errore tra due iterazioni successive $||x^{(k)}-x^{(k-1)}||/||x^{(k)}||$\n",
                "- il numero di iterazioni impiegate per calcolare la soluzione con la tolleranza richiesta\n",
                "\n",
                "Implementare un criterio di arresto per il procedimento iterativo in termini di : $||x^{(k)}-x^{(k-1)}||/||x^{(k)}|| <toll$"
            ]
        },
        {
            "cell_type": "markdown",
            "id": "c74bb0cb-34c4-45c0-b91a-24fe1d933360",
            "metadata": {},
            "source": [
                "## Esercizio 9\n",
                "Testare i metodi di Jacobi e di Gauss Seidel nella soluzione del sistema lineare Ax=b, dove A=np.array([[4,1,3],[3,4,1],[1,1,17]]) ed il termine noto del sistema è scelto in maniera tale che la soluzione esatta del sistema sia il vettore fatto da tutti 1.\n",
                "Visualizzare in un grafico in scala logaritmica  l'errore per ogni iterazione per ciascun metodo. Cosa si osserva?\n",
                "Porre toll=1e-8 it_max=500 e x0=np.zeros(A.shape[0])"
            ]
        }
    ],
    "metadata": {
        "kernelspec": {
            "display_name": "Python 3 (ipykernel)",
            "language": "python",
            "name": "python3"
        },
        "language_info": {
            "codemirror_mode": {
                "name": "ipython",
                "version": 3
            },
            "file_extension": ".py",
            "mimetype": "text/x-python",
            "name": "python",
            "nbconvert_exporter": "python",
            "pygments_lexer": "ipython3",
            "version": "3.11.2"
        }
    },
    "nbformat": 4,
    "nbformat_minor": 5
}