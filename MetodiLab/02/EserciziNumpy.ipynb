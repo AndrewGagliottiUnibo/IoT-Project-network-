{
    "cells": [
        {
            "cell_type": "markdown",
            "id": "cb8d7ec5-c308-4c91-8bbf-adad4c51b57f",
            "metadata": {},
            "source": [
                "# Esercizio 1"
            ]
        },
        {
            "cell_type": "markdown",
            "id": "b7c7f021-757d-4cd3-bba5-57ca8bfd4077",
            "metadata": {},
            "source": [
                "Definire i  numpy array a=[1.2, 5.4, 6, 1.59] e b=[5.2, 1.2, 1.5, 2] ed eseguire le seguenti operazioni:\n",
                "  - calcolare la radice quadrata degli elementi di a;\n",
                "   - calcolare 𝑒xp(𝑎/2) ;\n",
                "   - calcolare il vettore somma tra a e b ;\n",
                "   - moltiplicare ogni elemento di a per il corrispondente elemento di b;\n",
                "   - creare un vettore di valori uniformemente equispaziati tra 0 e 30 con passo  0.5;\n",
                "   - creare un vettore di 100 valori uniformemente equispaziati tra 1 e 2.\n",
                "   - usare linspace() per creare un numpy array 2x6 con prima riga di 6 valori uniformi compresi tra 10 e 20 e seconda riga 6 valori     \n",
                "      uniformi compresi tra  20 e 10;\n",
                "   - calcolare il prodotto scalare tra a e b;\n",
                "   - creare la matrice A che ha come righe i vettori a e b ;\n",
                "   - calcolare il prodotto scalare tra i due vettori a e b;\n",
                "   - eseguire il prodotto della matrice A per il vettore b e assegnarlo ad y;\n",
                "   - costruire una matrice diagonale D a partire dal vettore a;"
            ]
        },
        {
            "cell_type": "code",
            "execution_count": 1,
            "id": "3257fd16",
            "metadata": {},
            "outputs": [],
            "source": [
                "import numpy as np\n",
                "import time"
            ]
        },
        {
            "cell_type": "code",
            "execution_count": 2,
            "id": "105e13de",
            "metadata": {},
            "outputs": [
                {
                    "name": "stdout",
                    "output_type": "stream",
                    "text": [
                        "[1.09544512 2.32379001 2.44948974 1.26095202]\n",
                        "[ 1.8221188  14.87973172 20.08553692  2.214441  ]\n",
                        "[6.4  6.6  7.5  3.59]\n",
                        "[6.24 6.48 9.   3.18]\n",
                        "[ 0.   0.5  1.   1.5  2.   2.5  3.   3.5  4.   4.5  5.   5.5  6.   6.5\n",
                        "  7.   7.5  8.   8.5  9.   9.5 10.  10.5 11.  11.5 12.  12.5 13.  13.5\n",
                        " 14.  14.5 15.  15.5 16.  16.5 17.  17.5 18.  18.5 19.  19.5 20.  20.5\n",
                        " 21.  21.5 22.  22.5 23.  23.5 24.  24.5 25.  25.5 26.  26.5 27.  27.5\n",
                        " 28.  28.5 29.  29.5]\n",
                        "[1.         1.01010101 1.02020202 1.03030303 1.04040404 1.05050505\n",
                        " 1.06060606 1.07070707 1.08080808 1.09090909 1.1010101  1.11111111\n",
                        " 1.12121212 1.13131313 1.14141414 1.15151515 1.16161616 1.17171717\n",
                        " 1.18181818 1.19191919 1.2020202  1.21212121 1.22222222 1.23232323\n",
                        " 1.24242424 1.25252525 1.26262626 1.27272727 1.28282828 1.29292929\n",
                        " 1.3030303  1.31313131 1.32323232 1.33333333 1.34343434 1.35353535\n",
                        " 1.36363636 1.37373737 1.38383838 1.39393939 1.4040404  1.41414141\n",
                        " 1.42424242 1.43434343 1.44444444 1.45454545 1.46464646 1.47474747\n",
                        " 1.48484848 1.49494949 1.50505051 1.51515152 1.52525253 1.53535354\n",
                        " 1.54545455 1.55555556 1.56565657 1.57575758 1.58585859 1.5959596\n",
                        " 1.60606061 1.61616162 1.62626263 1.63636364 1.64646465 1.65656566\n",
                        " 1.66666667 1.67676768 1.68686869 1.6969697  1.70707071 1.71717172\n",
                        " 1.72727273 1.73737374 1.74747475 1.75757576 1.76767677 1.77777778\n",
                        " 1.78787879 1.7979798  1.80808081 1.81818182 1.82828283 1.83838384\n",
                        " 1.84848485 1.85858586 1.86868687 1.87878788 1.88888889 1.8989899\n",
                        " 1.90909091 1.91919192 1.92929293 1.93939394 1.94949495 1.95959596\n",
                        " 1.96969697 1.97979798 1.98989899 2.        ]\n",
                        "[[10. 12. 14. 16. 18. 20.]\n",
                        " [20. 18. 16. 14. 12. 10.]]\n",
                        "e =  24.9\n",
                        "[[1.2  5.4  6.   1.59]\n",
                        " [5.2  1.2  1.5  2.  ]]\n",
                        "[[ 6.24  6.48  9.    3.18]\n",
                        " [27.04  1.44  2.25  4.  ]]\n",
                        "[[1.2  0.   0.   0.  ]\n",
                        " [0.   5.4  0.   0.  ]\n",
                        " [0.   0.   6.   0.  ]\n",
                        " [0.   0.   0.   1.59]]\n"
                    ]
                }
            ],
            "source": [
                "a = [1.2, 5.4, 6, 1.59]\n",
                "b = [5.2, 1.2, 1.5, 2]\n",
                "\n",
                "# Radice quadrata\n",
                "c = np.array(a)\n",
                "print(np.sqrt(c))\n",
                "\n",
                "# Potenza\n",
                "c = np.array(a)\n",
                "print(np.exp(c / 2))\n",
                "\n",
                "# Vettore somma\n",
                "c = np.array(a)\n",
                "d = np.array(b)\n",
                "print(c + d)\n",
                "\n",
                "# Prodotto\n",
                "c = np.array(a)\n",
                "d = np.array(b)\n",
                "print(c * d)\n",
                "\n",
                "# Vettore equispaziato\n",
                "print(np.arange(0, 30, 0.5))\n",
                "\n",
                "# Vettore di 100 valori\n",
                "print(np.linspace(1, 2, 100))\n",
                "\n",
                "# Array 2x6\n",
                "c = np.linspace(10, 20, 6)\n",
                "d = np.linspace(20, 10, 6)\n",
                "arr = np.append(c, d)\n",
                "print(arr.reshape(2, 6))\n",
                "\n",
                "# Prodotto scalare tra vettori\n",
                "c = np.array(a)\n",
                "d = np.array(b)\n",
                "e = np.dot(c, d)\n",
                "print(\"e = \", e)\n",
                "\n",
                "# Matrice A\n",
                "c = np.array(a)\n",
                "d = np.array(b)\n",
                "arr = np.append(c, d)\n",
                "A = arr.reshape(2, 4)\n",
                "print(A)\n",
                "\n",
                "# y = A * b\n",
                "d = np.array(b)\n",
                "y = A * d\n",
                "print(y)\n",
                "\n",
                "# Vettore diagonale D\n",
                "c = np.array(a)\n",
                "D = np.diag(c)\n",
                "print(D)"
            ]
        },
        {
            "cell_type": "markdown",
            "id": "70b6acab-85c5-4783-84e0-999ca8e68bf3",
            "metadata": {},
            "source": [
                "# Esercizio 2"
            ]
        },
        {
            "cell_type": "markdown",
            "id": "31345015-b8ec-4ea0-aaac-598630474855",
            "metadata": {},
            "source": [
                "Costruire  i seguenti Numpy array 2d utilizzando il minor numero di istruzioni possibili"
            ]
        },
        {
            "cell_type": "code",
            "execution_count": 3,
            "id": "5292f8b5",
            "metadata": {},
            "outputs": [
                {
                    "name": "stdout",
                    "output_type": "stream",
                    "text": [
                        "[[2 2 2 3]\n",
                        " [2 2 2 3]\n",
                        " [2 2 2 3]]\n",
                        "[[ 2  0  0  1  2  3  0  0  0  0  0  0 10]\n",
                        " [ 0  2  0  1  2  3  0  0  0  0  0  0 10]\n",
                        " [ 0  0  2  1  2  3  0  0  0  0  0  0 10]]\n",
                        "[[ 2 -1  0  0  0]\n",
                        " [-1  2 -1  0  0]\n",
                        " [ 0 -1  2 -1  0]\n",
                        " [ 0  0 -1  2 -1]\n",
                        " [ 0  0  0 -1  2]]\n",
                        "[[2 2 3 3]\n",
                        " [2 2 3 3]\n",
                        " [0 0 0 0]\n",
                        " [0 0 5 5]\n",
                        " [0 0 5 5]]\n"
                    ]
                }
            ],
            "source": [
                "a = [2, 2, 2, 3]\n",
                "A = np.full((3, 4), a)\n",
                "print(A)\n",
                "\n",
                "a = np.identity(3, dtype=\"int64\") * 2\n",
                "b = np.array([1, 2, 3])\n",
                "e = np.vstack((b, b, b))\n",
                "c = np.array([10, 10, 10])\n",
                "c = c.reshape((3, 1))\n",
                "d = np.zeros((3, 3), dtype=\"int64\")\n",
                "B = np.hstack((a, e, d, d, c))\n",
                "print(B)\n",
                "\n",
                "identity = np.identity(5, dtype=\"int64\") * 2\n",
                "shiftUp = np.eye(5, k=1, dtype=\"int64\")\n",
                "shiftDown = np.eye(5, k=-1, dtype=\"int64\")\n",
                "C = identity - shiftDown - shiftUp\n",
                "print(C)\n",
                "\n",
                "a = np.array([2, 2, 3, 3])\n",
                "b = np.array([0, 0, 5, 5])\n",
                "c = np.array([0, 0, 0, 0])\n",
                "D = np.vstack((a, a, c, b, b))\n",
                "print(D)"
            ]
        },
        {
            "cell_type": "markdown",
            "id": "10a6c66f-2a62-4697-ab7a-b897fb66bcc9",
            "metadata": {},
            "source": [
                "# Esercizio 3"
            ]
        },
        {
            "cell_type": "markdown",
            "id": "8354e8db-9393-41b5-92bf-7dbd9174a20c",
            "metadata": {},
            "source": [
                "Calcolare la somma dei primi n numeri naturali dispari sia utilizzando un ciclo for che servendosi dell'istruzione sum di numpy."
            ]
        },
        {
            "cell_type": "code",
            "execution_count": 4,
            "id": "9aee913e",
            "metadata": {},
            "outputs": [
                {
                    "name": "stdout",
                    "output_type": "stream",
                    "text": [
                        "2500\n",
                        "2500\n"
                    ]
                }
            ],
            "source": [
                "def sumNNumbers(numbers, value):\n",
                "    result = 0\n",
                "\n",
                "    # For loop\n",
                "    if value:\n",
                "        for num in range(1, numbers + 1):\n",
                "            if not (num % 2) == 0:\n",
                "                result = result + num\n",
                "        print(result)\n",
                "    # numpy sum()\n",
                "    else:\n",
                "        num = np.arange(1, 100, 2)\n",
                "        result = np.sum(num)\n",
                "        print(result)\n",
                "\n",
                "# Calling functions\n",
                "sumNNumbers(100, True)\n",
                "sumNNumbers(100, False)"
            ]
        },
        {
            "cell_type": "markdown",
            "id": "76da5e04-e555-4fee-bfd8-2df68d8996c9",
            "metadata": {},
            "source": [
                "# Esercizo 4"
            ]
        },
        {
            "cell_type": "markdown",
            "id": "5ecf31dd-d88c-46f8-b1b4-2e3b5988694e",
            "metadata": {},
            "source": [
                "Scrivere una function Python per generare l'n-esimo termine (n > 2) della successione\n",
                "di Fibonacci. Scrivere poi una function ricorsiva che risolva lo stesso problema\n",
                "e confrontare i tempi di calcolo delle due functions per n = 24."
            ]
        },
        {
            "cell_type": "code",
            "execution_count": 5,
            "id": "83938577",
            "metadata": {},
            "outputs": [
                {
                    "name": "stdout",
                    "output_type": "stream",
                    "text": [
                        "46368\n",
                        "0.014003276824951172\n",
                        "46368\n",
                        "0.0\n",
                        "46368\n",
                        "0.0\n",
                        "46368\n",
                        "0.0\n"
                    ]
                }
            ],
            "source": [
                "# Fibonacci ricorsivo\n",
                "def recurFibo(num):\n",
                "    if num <= 2:\n",
                "        return 1\n",
                "    else:\n",
                "        return recurFibo(num - 1) + recurFibo(num - 2)\n",
                "\n",
                "# Fibonacci iterativo\n",
                "def fib(num):\n",
                "    actual, result = 0, 1\n",
                "\n",
                "    for i in range(num - 1):\n",
                "        actual, result = result, actual + result\n",
                "\n",
                "    return result\n",
                "\n",
                "# Formula di Binet\n",
                "def fiboBinet(num):\n",
                "    return int(((((1 + np.sqrt(5))/2)**num) - (((1 - np.sqrt(5))/2)**num)) / np.sqrt(5))\n",
                "\n",
                "# Fibonacci iterativo con numpy\n",
                "def fibN(num):\n",
                "    if num <= 2:\n",
                "        return 1\n",
                "\n",
                "    fibo = np.ones(num, dtype=int)\n",
                "\n",
                "    for i in range(2, num):\n",
                "        fibo[i] = fibo[i - 1] + fibo[i - 2]\n",
                "\n",
                "    return fibo[-1]\n",
                "\n",
                "start = time.time()\n",
                "a = recurFibo(24)\n",
                "end = time.time() - start\n",
                "print(a)\n",
                "print(end)\n",
                "\n",
                "start = time.time()\n",
                "a = fib(24)\n",
                "end = time.time() - start\n",
                "print(a)\n",
                "print(end)\n",
                "\n",
                "start = time.time()\n",
                "a = fiboBinet(24)\n",
                "end = time.time() - start\n",
                "print(a)\n",
                "print(end)\n",
                "\n",
                "start = time.time()\n",
                "a = fibN(24)\n",
                "end = time.time() - start\n",
                "print(a)\n",
                "print(end)"
            ]
        }
    ],
    "metadata": {
        "kernelspec": {
            "display_name": "Python 3 (ipykernel)",
            "language": "python",
            "name": "python3"
        },
        "language_info": {
            "codemirror_mode": {
                "name": "ipython",
                "version": 3
            },
            "file_extension": ".py",
            "mimetype": "text/x-python",
            "name": "python",
            "nbconvert_exporter": "python",
            "pygments_lexer": "ipython3",
            "version": "3.11.2"
        }
    },
    "nbformat": 4,
    "nbformat_minor": 5
}