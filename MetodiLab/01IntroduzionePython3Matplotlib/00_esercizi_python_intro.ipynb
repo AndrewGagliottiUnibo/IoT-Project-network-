{
    "cells": [
        {
            "cell_type": "markdown",
            "metadata": {},
            "source": [
                "# Esercizio n. 1\n",
                "Scrivere un programma che, data una lista (ad esempio, a = [1, 1, 2, 3, 5, 8, 13, 21, 34, 55, 89]) stampa tutti gli elementi della lista che sono minori di 5.\n",
                "\n",
                "Extra:\n",
                "* Invece di stampare gli elementi uno per uno, creare un nuovo elenco che contenga tutti gli elementi inferiori a 5 dall'elenco di input e stampare questo nuovo elenco.\n"
            ]
        },
        {
            "cell_type": "code",
            "execution_count": 2,
            "metadata": {},
            "outputs": [],
            "source": [
                "import numpy\n",
                "import matplotlib.pyplot as plt"
            ]
        },
        {
            "cell_type": "code",
            "execution_count": 3,
            "metadata": {},
            "outputs": [
                {
                    "name": "stdout",
                    "output_type": "stream",
                    "text": [
                        "1\n",
                        "1\n",
                        "2\n",
                        "3\n",
                        "[1, 1, 2, 3]\n"
                    ]
                }
            ],
            "source": [
                "a = [1, 1, 2, 3, 5, 8, 13, 21, 34, 55, 89]\n",
                "b = []\n",
                "\n",
                "for i in a:\n",
                "    if i < 5:\n",
                "        print(i)\n",
                "        b.append(i)\n",
                "\n",
                "print(b)"
            ]
        },
        {
            "cell_type": "markdown",
            "metadata": {},
            "source": [
                "# Esercizio n. 2\n",
                "Scrivere un programma che, date due liste, restituisca una lista che contiene solo gli elementi che sono comuni tra le prime due liste (senza duplicati), ad esempio, usando a = [1, 1, 2, 3, 5, 8, 13, 21, 34, 55, 89], b = [1, 2, 3, 4, 5, 6, 7, 8, 9, 10, 11, 12, 13].\n",
                "\n",
                "Assicurati che il tuo programma funzioni su due elenchi di dimensioni diverse.\n",
                "\n",
                "Extra:\n",
                "* Scrivere lo stesso programma per restituire un elenco con elementi concatenati tra gli elenchi di input (con ripetizioni)."
            ]
        },
        {
            "cell_type": "code",
            "execution_count": 4,
            "metadata": {},
            "outputs": [
                {
                    "name": "stdout",
                    "output_type": "stream",
                    "text": [
                        "[1, 1, 2, 3, 5, 8, 13, 21, 34, 55, 89, 1, 2, 3, 4, 5, 6, 7, 8, 9, 10, 11, 12, 13]\n",
                        "[1, 2, 3, 5, 8, 13, 21, 34, 55, 89, 4, 6, 7, 9, 10, 11, 12]\n"
                    ]
                }
            ],
            "source": [
                "a = [1, 1, 2, 3, 5, 8, 13, 21, 34, 55, 89]\n",
                "b = [1, 2, 3, 4, 5, 6, 7, 8, 9, 10, 11, 12, 13]\n",
                "\n",
                "c = a + b\n",
                "print(c)\n",
                "\n",
                "c = list(dict.fromkeys(c))\n",
                "print(c)"
            ]
        },
        {
            "cell_type": "markdown",
            "metadata": {},
            "source": [
                "# Esercizio n. 3\n",
                "Sfruttando la list comprehension, scrivi una riga di codice Python che prende un elenco (ad esempio, a = [1, 4, 9, 16, 25, 36, 49, 64, 81, 100]) e crea un nuovo elenco che ha solo gli elementi pari di questo elenco "
            ]
        },
        {
            "cell_type": "code",
            "execution_count": 5,
            "metadata": {},
            "outputs": [
                {
                    "name": "stdout",
                    "output_type": "stream",
                    "text": [
                        "[4, 16, 36, 64, 100]\n",
                        "[4, 16, 36, 64, 100]\n"
                    ]
                }
            ],
            "source": [
                "z = [1, 4, 9, 16, 25, 36, 49, 64, 81, 100]\n",
                "print(list(filter(lambda e: e % 2 == 0, z)))\n",
                "print([i for i in z if i % 2 == 0])"
            ]
        },
        {
            "cell_type": "markdown",
            "metadata": {},
            "source": [
                "# Esercizio n. 4\n",
                "Scrivete un programma per stampare il seguente modello usando i cicli for.\n",
                "\n",
                "```\n",
                "* \n",
                "* * \n",
                "* * * \n",
                "* * * * \n",
                "* * * * * \n",
                "* * * * \n",
                "* * * \n",
                "* * \n",
                "*\n",
                "```"
            ]
        },
        {
            "cell_type": "code",
            "execution_count": 6,
            "metadata": {},
            "outputs": [
                {
                    "name": "stdout",
                    "output_type": "stream",
                    "text": [
                        "\n",
                        "* \n",
                        "* * \n",
                        "* * * \n",
                        "* * * * \n",
                        "* * * * * \n",
                        "* * * * \n",
                        "* * * \n",
                        "* * \n",
                        "* \n"
                    ]
                }
            ],
            "source": [
                "for i in range(10):\n",
                "    if i < 6:\n",
                "        print('* ' * i)\n",
                "    else:\n",
                "        print('* ' * (10 - i))"
            ]
        },
        {
            "cell_type": "markdown",
            "metadata": {},
            "source": [
                "# Esercizio n. 5\n",
                "Scrivere un programma per controllare se tutti i caratteri di s1 sono contenuti in s2. La posizione del carattere non ha importanza.\n",
                "\n",
                "Ad esempio con s1='by' e s2='blueberry' dovrebbe restituire true. Al contrario, con s1='byZ' e s2='blueberry' dovrebbe restituire false.\n"
            ]
        },
        {
            "cell_type": "code",
            "execution_count": 7,
            "metadata": {},
            "outputs": [
                {
                    "name": "stdout",
                    "output_type": "stream",
                    "text": [
                        "true\n",
                        "true\n"
                    ]
                }
            ],
            "source": [
                "s1 = 'by'\n",
                "s2 = 'blueberry'\n",
                "\n",
                "for i in range(len(s1)):\n",
                "    if s2.count(s1[i]) > 0:\n",
                "        print('true')\n",
                "    else:\n",
                "        print('false')"
            ]
        },
        {
            "cell_type": "markdown",
            "metadata": {},
            "source": [
                "# Esercizio n. 6\n",
                "Crea una funzione che accetta due numeri interi come parametri di input e se il loro prodotto è minore di 1000 restituisce il prodotto, altrimenti restituisce la somma dei numeri di input.\n",
                "\n",
                "Extra:\n",
                "* Scrivere lo stesso programma utilizzando il parametro soglia (1000) come parametro opzionale di input. Ciò significa che questo parametro deve essere definito al suo valore predefinito nella funzione. Testare la funzione modificando la soglia quando la si chiama."
            ]
        },
        {
            "cell_type": "code",
            "execution_count": 8,
            "metadata": {},
            "outputs": [
                {
                    "name": "stdout",
                    "output_type": "stream",
                    "text": [
                        "12\n",
                        "120\n"
                    ]
                }
            ],
            "source": [
                "def myfunc(first, second):\n",
                "    if first * second < 1000:\n",
                "        print(first * second)\n",
                "    else:\n",
                "        print(first + second)\n",
                "\n",
                "myfunc(3, 4)\n",
                "myfunc(50, 70)"
            ]
        },
        {
            "cell_type": "markdown",
            "metadata": {},
            "source": [
                "# Esercizio n. 7\n",
                "Scrivi una funzione Python che:\n",
                "* restituisce la somma e il prodotto degli elementi contenuti in una lista\n",
                "* restituisce la somma o il prodotto degli elementi della lista a seconda di un parametro di input aggiuntivo specificato dall'utente.\n"
            ]
        },
        {
            "cell_type": "code",
            "execution_count": 9,
            "metadata": {},
            "outputs": [
                {
                    "name": "stdout",
                    "output_type": "stream",
                    "text": [
                        "(109, 21360)\n",
                        "109\n",
                        "21360\n"
                    ]
                }
            ],
            "source": [
                "def funcSumProd(inputList):\n",
                "    return sum(inputList), numpy.prod(inputList)\n",
                "\n",
                "\n",
                "def funcSumOrProd(inputListDiff, value):\n",
                "    if value:\n",
                "        return sum(inputListDiff)\n",
                "    else:\n",
                "        return numpy.prod(inputListDiff)\n",
                "\n",
                "a = [1, 1, 2, 3, 5, 8, 89]\n",
                "print(funcSumProd(a))\n",
                "print(funcSumOrProd(a, True))\n",
                "print(funcSumOrProd(a, False))"
            ]
        },
        {
            "cell_type": "markdown",
            "metadata": {
                "ExecuteTime": {
                    "end_time": "2023-02-21T00:10:18.015779Z",
                    "start_time": "2023-02-21T00:10:17.978520Z"
                }
            },
            "source": [
                "# Esercizio n. 8\n",
                "Dato un elenco di numeri interi, ad esempio x = [0,1,2,3,4,5,6,7,8,9,], eleva al quadrato tutti i suoi valori in un nuovo elenco y. Usa la list comprehension per farlo.\n",
                "\n",
                "* Traccia y su x usando la libreria matplotlib. Aggiungi anche un indicatore per ogni punto (ad esempio, un indicatore quadrato).\n",
                "\n",
                "* Prova a modificare alcuni parametri della trama come:\n",
                "     * colore\n",
                "     * etichetta x, etichetta y\n",
                "     * grid(axis='y')# \n",
                "     * titolo\n",
                "     * larghezza della linea\n",
                "\n",
                "* Tracciare una seconda curva (ad esempio, una relazione cubica o lineare semplice su x) sulla curva precedente.\n",
                "* Invece di tracciare le due curve in un unico grafico, riportarle su due subplot distinti organizzate per colonne (ad esempio, subplot(1,2,1) e subplot(1,2,2))."
            ]
        },
        {
            "cell_type": "code",
            "execution_count": 10,
            "metadata": {},
            "outputs": [
                {
                    "name": "stdout",
                    "output_type": "stream",
                    "text": [
                        "[0, 1, 4, 9, 16, 25, 36, 49, 64, 81]\n"
                    ]
                },
                {
                    "data": {
                        "image/png": "[encoded data removed]",
                        "text/plain": [
                            "<Figure size 640x480 with 2 Axes>"
                        ]
                    },
                    "metadata": {},
                    "output_type": "display_data"
                }
            ],
            "source": [
                "x = [0, 1, 2, 3, 4, 5, 6, 7, 8, 9]\n",
                "y = [i ** 2 for i in x]\n",
                "z = [i ** 3 for i in x]\n",
                "# oppure: y = list(filter(lambda i: i**2, x))\n",
                "print(y)\n",
                "\n",
                "# Grafici\n",
                "plt.subplot(1, 2, 1)\n",
                "plt.title('y su x')\n",
                "plt.plot(y, x, 'ro-', linewidth=0.7)\n",
                "plt.plot(x, y, 'gd--', linewidth=0.7)\n",
                "plt.grid(axis = 'y')\n",
                "plt.legend([\"Funzione x\",\"Funzione y\"])\n",
                "\n",
                "plt.subplot(1, 2, 2)\n",
                "plt.title('z su x')\n",
                "plt.plot(y, x, 'ro-', linewidth=0.7)\n",
                "plt.plot(z, y, 'bd-', linewidth=0.7)\n",
                "plt.grid(axis = 'y')\n",
                "plt.legend([\"Funzione x\",\"Funzione z\"])\n",
                "\n",
                "plt.savefig(\"filename.jpg\")  \n",
                "plt.show()"
            ]
        }
    ],
    "metadata": {
        "kernelspec": {
            "display_name": "venv",
            "language": "python",
            "name": "python3"
        },
        "language_info": {
            "codemirror_mode": {
                "name": "ipython",
                "version": 3
            },
            "file_extension": ".py",
            "mimetype": "text/x-python",
            "name": "python",
            "nbconvert_exporter": "python",
            "pygments_lexer": "ipython3",
            "version": "3.11.2"
        },
        "varInspector": {
            "cols": {
                "lenName": 16,
                "lenType": 16,
                "lenVar": 40
            },
            "kernels_config": {
                "python": {
                    "delete_cmd_postfix": "",
                    "delete_cmd_prefix": "del ",
                    "library": "var_list.py",
                    "varRefreshCmd": "print(var_dic_list())"
                },
                "r": {
                    "delete_cmd_postfix": ") ",
                    "delete_cmd_prefix": "rm(",
                    "library": "var_list.r",
                    "varRefreshCmd": "cat(var_dic_list()) "
                }
            },
            "types_to_exclude": [
                "module",
                "function",
                "builtin_function_or_method",
                "instance",
                "_Feature"
            ],
            "window_display": false
        },
        "vscode": {
            "interpreter": {
                "hash": "ccb358b1f66081bb8dc2008573932088060bb956f527522ec5a3365b112c4c40"
            }
        }
    },
    "nbformat": 4,
    "nbformat_minor": 4
}