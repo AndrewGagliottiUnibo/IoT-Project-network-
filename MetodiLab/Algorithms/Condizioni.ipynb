{
 "cells": [
  {
   "cell_type": "code",
   "execution_count": null,
   "id": "4fb9c8bd-7f4e-4c62-a740-f261d308927b",
   "metadata": {
    "tags": []
   },
   "outputs": [],
   "source": [
    "# Import dati dalla prof\n",
    "from scipy.io import loadmat\n",
    "import numpy as np\n",
    "import scipy.linalg as spl\n",
    "import RisolviSis as RS\n",
    "import matplotlib.pyplot as plt\n",
    "dati = loadmat('testE.mat')\n",
    "A = dati[\"A\"]\n",
    "b = dati[\"b\"]\n"
   ]
  },
  {
   "cell_type": "code",
   "execution_count": null,
   "id": "9be49fd6-241e-47a7-8d2f-a5bee30bcdfa",
   "metadata": {
    "tags": []
   },
   "outputs": [],
   "source": [
    "# Innanzittutto devo verificare se il sistema è sovradeterminato o meno\n",
    "# m =/= n il sistema è sovradeterminato.\n",
    "# Inoltre in base ai valori sulle dimensioni posso anche capire quanto sia\n",
    "# grande o meno la matrice e decidere meglio quale algortimo applicare.\n",
    "n, m = A.shape\n",
    "print(\"Dimensione di A:\", n, m)\n"
   ]
  },
  {
   "attachments": {},
   "cell_type": "markdown",
   "id": "0e50f690",
   "metadata": {},
   "source": [
    "## m = n"
   ]
  },
  {
   "cell_type": "code",
   "execution_count": null,
   "id": "b0b9bc39",
   "metadata": {},
   "outputs": [],
   "source": [
    "# Densa o Sparsa?\n",
    "#\n",
    "# Se ho una matrice quadrata controllo se questa sia densa o sparsa:\n",
    "# se più del 33% degli elementi è diverso da 0 allora la matrice è densa.\n",
    "n_zeri = np.count_nonzero(A) / (n * m)\n",
    "perc_n_zeri = n_zeri * 100\n",
    "print(\"Percentuale elementi diversi da zero:\", perc_n_zeri, \"%\")\n"
   ]
  },
  {
   "cell_type": "code",
   "execution_count": null,
   "id": "9f62254c-8820-466c-9dcf-7db0938930f1",
   "metadata": {
    "tags": []
   },
   "outputs": [],
   "source": [
    "# Simmetrica? Lo faccio solo se è grande e sparsa.\n",
    "#\n",
    "# Se ho una matrice quadrata e grande e sparsa, verifico ora che la matrice sia\n",
    "# simmetrica oppure no: in base a questa valutazione capisco quale metodo\n",
    "# utilizzare.\n",
    "# Se la matrice è uguale alla trasposta allora questa sarà definita positiva.\n",
    "flag = (A == A.T)\n",
    "if (np.all(flag) == False):\n",
    "    print(\"La matrice non è simmetrica\")\n",
    "    # Controllo se é a diagonale dominante\n",
    "else:\n",
    "    print(\"La matrice è simmetrica\")\n",
    "    # GS SOR, Gradiente, Gradiente Coniugato\n",
    "\n",
    "    # Se la matrice e' simmetrica devo vedere se è anche\n",
    "    # definita positiva: uso gli autovalori e Silvester\n",
    "    eig = np.linalg.eigvals(A)\n",
    "    if (np.all(eig > 0)):\n",
    "        print(\"La matrice è definita positiva\")\n"
   ]
  },
  {
   "cell_type": "code",
   "execution_count": null,
   "id": "5c2761d0",
   "metadata": {},
   "outputs": [],
   "source": [
    "# Diagonale dominante?\n",
    "#\n",
    "# A questo punto passo ad analizzare la diagonale della matrice: da questo\n",
    "# capisco se la diagonale è dominante o meno e se lo è anche in modo stretto.\n",
    "# A e' a diagonale dominante se il valore assoluto dell'elemento sulla diagonale\n",
    "# e' >= della somma in valore in valore assoluto di tutti i valori sulla\n",
    "# rispettiva riga.\n",
    "def check_diagonale(A):\n",
    "    n = A.shape[0]\n",
    "    flag = True\n",
    "    for i in range(n):\n",
    "        diag_elem = np.abs(A[i, i])\n",
    "        print(\"elemento diagonale:\", diag_elem)\n",
    "        # per tutte le righe: elementi in riga sommati - elemento diagonale.\n",
    "        row_sum = np.sum(np.abs(A[i, :])) - np.abs(A[i, i])\n",
    "        if diag_elem < row_sum:\n",
    "            print(\"Matrice non a diagonale dominante\")\n",
    "            flag = False\n",
    "            return flag\n",
    "\n",
    "    # Se e' a diagonale dominante hai: Jacobi, Gauss-Siedel e GS SOR\n",
    "    return flag\n",
    "\n",
    "\n",
    "diag = check_diagonale(A)\n",
    "print(\"Matrice a diagonale dominante? \", diag)\n"
   ]
  },
  {
   "cell_type": "code",
   "execution_count": null,
   "id": "bc63d59b",
   "metadata": {},
   "outputs": [],
   "source": [
    "# Piccola e Densa: Simmetrica? Controllo se è simmetrica.\n",
    "# \n",
    "# Se la matrice è uguale alla trasposta allora questa sarà definita positiva.\n",
    "flag = (A == A.T)\n",
    "if (np.all(flag) == False):\n",
    "    print(\"La matrice non è simmetrica\")\n",
    "else:\n",
    "    print(\"La matrice è simmetrica e definita positiva\")\n",
    "\n",
    "    # Se la matrice e' simmetrica devo vedere se è anche\n",
    "    # definita positiva: uso gli autovalori e Silvester\n",
    "    eig = np.linalg.eigvals(A)\n",
    "    if (np.all(eig > 0)):\n",
    "        print(\"La matrice è definita positiva\")\n",
    "        # Allora usi Cholesky o QR\n",
    "    else:\n",
    "        print(\"La matrice non è definita positiva\")\n",
    "        if(np.linalg.det(A) != 0):\n",
    "            print(\"Il Determinante è diverso da 0\")\n",
    "            # Allora usi LU o QR\n",
    "        else:\n",
    "            print(\"Il Determinante è uguale a 0\")\n",
    "            # Usi QR\n"
   ]
  },
  {
   "attachments": {},
   "cell_type": "markdown",
   "id": "4f083afa",
   "metadata": {},
   "source": [
    "## m > n ?"
   ]
  },
  {
   "cell_type": "code",
   "execution_count": null,
   "id": "a99ccb2f-ed99-42ca-9ec8-c3a599abeaac",
   "metadata": {
    "tags": []
   },
   "outputs": [],
   "source": [
    "dati = loadmat('testF.mat')\n",
    "A1 = dati[\"A\"]\n",
    "b1 = dati[\"b\"]\n"
   ]
  },
  {
   "cell_type": "code",
   "execution_count": null,
   "id": "e2984c38",
   "metadata": {},
   "outputs": [],
   "source": [
    "# Vedo se il determinante di A è diverso da 0\n",
    "rank = np.linalg.matrix_rank(A1)\n",
    "if (A.shape[0] == rank):\n",
    "    print(\"Rango massimo e il determinante è diverso da 0.\")\n",
    "    # Calcoli l'indice di condizionamento\n",
    "else:\n",
    "    print(\"Rango non massimo e il determinante è nullo.\")\n",
    "    # SVDLS\n"
   ]
  },
  {
   "cell_type": "code",
   "execution_count": null,
   "id": "713b7655",
   "metadata": {},
   "outputs": [],
   "source": [
    "ind_cond = np.linalg.cond(A1)\n",
    "print(ind_cond)\n",
    "\n",
    "if (ind_cond < A1.shape[0]**3):\n",
    "    print(\"Matrice ben condizionata\")\n",
    "    # Eqnorm\n",
    "elif (ind_cond < A1.shape[0]**10):\n",
    "    # anche se la vera condizione è un'altra\n",
    "    print(\"Matrice mediamente mal condizionata\")\n",
    "    # QRLS\n",
    "else:\n",
    "    print(\"Matrice mal condizionata\")\n"
   ]
  }
 ],
 "metadata": {
  "kernelspec": {
   "display_name": "Python 3 (ipykernel)",
   "language": "python",
   "name": "python3"
  },
  "language_info": {
   "codemirror_mode": {
    "name": "ipython",
    "version": 3
   },
   "file_extension": ".py",
   "mimetype": "text/x-python",
   "name": "python",
   "nbconvert_exporter": "python",
   "pygments_lexer": "ipython3",
   "version": "3.11.2"
  }
 },
 "nbformat": 4,
 "nbformat_minor": 5
}
