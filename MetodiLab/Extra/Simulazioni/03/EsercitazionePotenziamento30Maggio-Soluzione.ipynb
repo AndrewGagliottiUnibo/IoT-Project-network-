{
 "cells": [
  {
   "attachments": {},
   "cell_type": "markdown",
   "id": "498aa83d-7a0b-4015-950d-309c7284a836",
   "metadata": {},
   "source": [
    "## Esercitazione di potenziamento del 30 Maggio 2023"
   ]
  },
  {
   "attachments": {},
   "cell_type": "markdown",
   "id": "919fb260-f93b-4613-89a1-5e8d93f65822",
   "metadata": {},
   "source": [
    "-   Valutare in aritmetica floating point l'espressione\n",
    "$$f(x)=\\frac{1}{x}-\\frac{1}{(x+0.04)}$$  nel vettore   $x=[10^0, 10^1,... ,10^{20}]$ contenente potenze successive  di $10$. \n",
    "\n",
    "                                                [1 punto]\n",
    "- Calcolare l'indice di condizionamente del problema di valutare la funzione $f(x)$ al variare x e dedurre a partire da quale valore di x esso  assume valori molto elevati. Dire cosa rappresenta l'indice di condizionamento di un problema e dire cosa misura. \n",
    "\n",
    "                                                [5 punti]\n",
    "\n",
    "- Calcolare $f(x)$ per il valore di x precedente  a quello individuato dal punto precedente. perturbare questo x del 10% ed indicarlo con xp. Calcolare l'errore relativo di xp rispetto ad x. Cosa si ottiene\n",
    "\n",
    "                                                [1 punto]\n",
    "    \n",
    "- Determinare se la funzione $f(x)$ è numericamente stabile? E nel caso non lo sia individuare la causa della sua instabilità.\n",
    "\n",
    "                                                [2 punti]\n",
    " \n",
    "- Fornire una formula alternativa $g(x)$ algebricamente equivalente ma numericamente più stabile. \n",
    "\n",
    "                                                 [2 punti]\n",
    "- Calcolare l'errore relativo della funzione $f(x)$ rispetto alla funzione $g(x)$ e visuarlo graficamente in scla logaritmica sia sulle ascisse che sulle ordinate\n",
    "\n",
    "                                                [1 punto]"
   ]
  },
  {
   "cell_type": "code",
   "execution_count": null,
   "id": "d663f674-9a5a-4eb5-8b74-343b93969148",
   "metadata": {
    "tags": []
   },
   "outputs": [],
   "source": [
    "import numpy as np\n",
    "import matplotlib.pyplot as plt\n",
    "import sympy as sym\n",
    "from sympy.utilities.lambdify import lambdify\n",
    "\n",
    "\n",
    "x=10.0**np.arange(21)    #utilizzo 10.0 per avere un numpy array x con dtype float.\n",
    "f = lambda x: 1/x-1/(x+0.04)\n",
    "fx=f(x)"
   ]
  },
  {
   "attachments": {},
   "cell_type": "markdown",
   "id": "8199b13c-dfa8-4d45-b8c0-11789d7898c1",
   "metadata": {
    "tags": []
   },
   "source": [
    "Calcolo dell'indice di condizionamento"
   ]
  },
  {
   "cell_type": "code",
   "execution_count": null,
   "id": "39a2ea68-e6ed-4d47-ac4c-668df1b153c6",
   "metadata": {
    "tags": []
   },
   "outputs": [],
   "source": [
    "s=sym.symbols('s')\n",
    "fs=1/s-1/(s+0.04); \n",
    "dfs=sym.diff(fs,s,1)\n",
    "print( \"Derivata di f : {}\".format(dfs))\n",
    "\n",
    "df_numerica= lambdify(s,dfs,np) \n",
    "f_numerica=lambdify(s,fs,np)\n",
    "\n",
    "condizionamento=np.abs(df_numerica(x)*x/f_numerica(x))\n",
    "spacing=np.spacing(x)\n",
    "print(\" x \",'\\n', x)\n",
    "print(\" spacing \",'\\n', spacing)\n",
    "print(\"condizionamento \", condizionamento)\n",
    "#Si nota che per x da 10**15 in avanti, l'indice di condizionamento esplode.\n",
    "# Ricavare perchè per questo valore di x si ha questa situazione, ricorrendo \n",
    "#ad un'analisi dello valore di spacing per ciascun valore di x. Si vede\n",
    "#che per l'intervallo dell'asse reale a cui x=10**15 appartiene\n",
    "#lo spacing è 0.125, quindi quando a x=10**15 si somma il valore 0.04 che\n",
    "#è più grande dello spacing, allora 1/(x+0.04) diventa 1/x e quindi l'operazione\n",
    "#differenza produce un valore nullo per f.\n",
    "#Parlare dell'insieme dei numeri finiti, da cosa dipende, come sono distrbuiti\n",
    "#i numeri reali sull'intero asse reale e come sono distributi per\n",
    "#ciascuna potenza della base [beta^p, beta^(p+1)]. Cosa si intende per spacing\n",
    "#Dire cosa è l'indice di condizionamento e cosa misura.\n"
   ]
  },
  {
   "attachments": {},
   "cell_type": "markdown",
   "id": "8f15ad34-3474-49f2-a630-1b15f35dee6e",
   "metadata": {},
   "source": [
    "Il punto successivo è una verifica del fatto che l'indice di condizionamento rappresenta un fattore di amplificazione dell'errore sui dati, sui risultati del problema. "
   ]
  },
  {
   "cell_type": "code",
   "execution_count": null,
   "id": "8d65e7ce-2037-4442-87a0-9e4902af9e39",
   "metadata": {
    "tags": []
   },
   "outputs": [],
   "source": [
    "xx=1e14\n",
    "fxx=f(xx)\n",
    "xxp=xx+0.1*xx\n",
    "err_d=abs(xx-xxp)/abs(xx)\n",
    "fxxp=f(xxp)\n",
    "err_f=abs(fxxp-fxx)/abs(fxx)\n",
    "print(\"Errore sui dati \",err_d)\n",
    "print(\"Errore sui risultati \",err_f)\n"
   ]
  },
  {
   "attachments": {},
   "cell_type": "markdown",
   "id": "74d06116-1768-4aac-b3cb-9c2c381fecd6",
   "metadata": {
    "tags": []
   },
   "source": [
    "\n",
    "\n"
   ]
  },
  {
   "attachments": {},
   "cell_type": "markdown",
   "id": "a3f6fbd6-50be-45c9-bca9-945f8d23ede0",
   "metadata": {},
   "source": [
    "La funzione f(x) non è numericamente stabile, perchè per alcuni dei valori in cui la calcoliamo, si ha una somma algebrica di numeri molto vicini tra loro in modulo e con segno opposto che porta alla cancellazione di cifre significative. Riportare qui la formula dell'errore algoritmico che si ha quando al posto della somma di 2 numeri reali si sostituisce la somma tra i due numeri finiti."
   ]
  },
  {
   "attachments": {},
   "cell_type": "markdown",
   "id": "cf330509-e1ac-40f2-b340-7a2c7ed2df36",
   "metadata": {},
   "source": [
    "Formulazione algebricamente equivalente che permette di eliminare l'operazione che porta instabilità, cioè la differenza."
   ]
  },
  {
   "cell_type": "code",
   "execution_count": null,
   "id": "ee0294b8-65e4-4a15-b03a-b2c006c387e1",
   "metadata": {
    "tags": []
   },
   "outputs": [],
   "source": [
    "g = lambda x: 0.04/(x*(x+0.04))\n",
    "\n",
    "#Calcoliamo l'errore relativo di f(x) rispetto alla formula equivalente ma numericamente stabile g(x)\n",
    "Erelx=np.abs(f(x)-g(x))/np.abs(g(x))\n",
    "print(\"Errore relativo \",Erelx)\n",
    "plt.loglog(x,Erelx,'b-')"
   ]
  },
  {
   "attachments": {},
   "cell_type": "markdown",
   "id": "6889498e-b2a3-4daf-a34e-5110f86e32ee",
   "metadata": {},
   "source": [
    "## Esercizo 2\n",
    "Si consideri il sistema lineare Ax=b, con A matrice e b termine noto memorizzati nel file ``testC.mat.mat``.  Risolvere il sistema utilizzando il metodo più adatto al problema proposto. Argomentare dal punto di vista teorico la scelta fatta e commentare i risultati ottenuti  giustificandoli alla luce della teoria. \n",
    "\n",
    "\n",
    "La soluzione esatta del sistema lineare è il vettore x=[1,1,1,1...1 1].\n",
    "\n",
    "Per la lettura dei dati procedere nel seguente modo:\n",
    "\n",
    "``from scipy.io import loadmat``\n",
    "\n",
    "``import numpy as np``\n",
    "\n",
    "``dati = loadmat('testC.mat')``\n",
    "\n",
    "``A=dati[\"A\"] ``\n",
    "\n",
    "`` b=dati[\"b\"] ``\n",
    "\n",
    "\n",
    "                                                    [13 punti]"
   ]
  },
  {
   "cell_type": "code",
   "execution_count": null,
   "id": "7b94ed27-aa91-444d-9b19-efd158824b39",
   "metadata": {
    "tags": []
   },
   "outputs": [],
   "source": [
    "from scipy.io import loadmat\n",
    "import numpy as np\n",
    "import scipy.linalg as spl\n",
    "dati = loadmat('testC.mat')\n",
    "A=dati[\"A\"] \n",
    "b=dati[\"b\"]"
   ]
  },
  {
   "cell_type": "code",
   "execution_count": null,
   "id": "b9cfd6b6-ab22-498d-9e0c-2ef4f9bcad3c",
   "metadata": {
    "tags": []
   },
   "outputs": [],
   "source": [
    "n,m=A.shape\n",
    "print(\"Dimensione di A\",n,m)"
   ]
  },
  {
   "cell_type": "code",
   "execution_count": null,
   "id": "d6cc0931-1775-46fa-831b-7a7c9bc41176",
   "metadata": {
    "tags": []
   },
   "outputs": [],
   "source": [
    "nz=np.count_nonzero(A)/(n*m)\n",
    "perc_nz=nz*100\n",
    "print(\"Percentuale elementi diversi da zero \",perc_nz,\"%\")"
   ]
  },
  {
   "attachments": {},
   "cell_type": "markdown",
   "id": "679729a8-228a-407b-90f6-81a3babcf3a7",
   "metadata": {},
   "source": [
    "La matrice è di piccole dimensioni e densa, mi oriento verso i metodi diretti."
   ]
  },
  {
   "cell_type": "code",
   "execution_count": null,
   "id": "eb589e1a-54b7-4597-8d1e-a3f1a82de2c9",
   "metadata": {
    "tags": []
   },
   "outputs": [],
   "source": [
    "A=dati[\"A\"]\n",
    "flag=A==A.T\n",
    "print(np.all(flag))  #La matrice è simmetrica"
   ]
  },
  {
   "cell_type": "code",
   "execution_count": null,
   "id": "f3ec6030-4f41-47f4-8b2e-ba6a16d422a3",
   "metadata": {
    "tags": []
   },
   "outputs": [],
   "source": [
    "b=dati[\"b\"]"
   ]
  },
  {
   "attachments": {},
   "cell_type": "markdown",
   "id": "9635461e-0e72-4d37-b2e1-f02a92d3ef3d",
   "metadata": {},
   "source": [
    "Per verificare che la matrice simmetrica sia definita positiva è possibile utilizzare due criteri: 1) tutti gli autovalori reali positivi, 2) Criterio di Silvester: i determinanti di tutte le sottomatrici principali di testa devono essere positivi."
   ]
  },
  {
   "cell_type": "code",
   "execution_count": null,
   "id": "cb027132-e6ec-41a6-886d-bbfdffe96316",
   "metadata": {
    "tags": []
   },
   "outputs": [],
   "source": [
    "eig=np.linalg.eigvals(A)"
   ]
  },
  {
   "cell_type": "code",
   "execution_count": null,
   "id": "46acfaa6-de62-4ab3-895d-412f80f9962e",
   "metadata": {
    "tags": []
   },
   "outputs": [],
   "source": [
    "def_pos=np.all(eig>0)\n",
    "print(def_pos) #Matrice non definita positiva"
   ]
  },
  {
   "attachments": {},
   "cell_type": "markdown",
   "id": "f371d93d-2634-40a9-b005-cdf786d1efaf",
   "metadata": {},
   "source": [
    "La matrice non è definita positiva, scarto quindi il metodo di soluzione basato sulla fattorizzazione di Cholesky.\n",
    "Dal calcolo dell'indice di condizionamento trovo che si tratta di una matrice molto mal condizionata, preferibile usare metodo basato sulla fattorizzazione QR, che è più stabile. Dire che cosa significa stabilità di un metodo di fattorizzazione, da cosa dipende e dire da cosa sono maggiorati gli elementi delle matrici Q ed R."
   ]
  },
  {
   "cell_type": "code",
   "execution_count": null,
   "id": "faf03309-47ab-4f2e-b3a3-da4729466d07",
   "metadata": {
    "tags": []
   },
   "outputs": [],
   "source": [
    "condA=np.linalg.cond(A)"
   ]
  },
  {
   "cell_type": "code",
   "execution_count": null,
   "id": "265d15a4-719e-4b6c-afdc-4a49f0c2c63f",
   "metadata": {
    "tags": []
   },
   "outputs": [],
   "source": [
    "print(condA)\n"
   ]
  },
  {
   "cell_type": "code",
   "execution_count": null,
   "id": "6927be53-683d-430f-8b5c-124d15aa199b",
   "metadata": {
    "tags": []
   },
   "outputs": [],
   "source": [
    " xesatta=np.ones_like(b)"
   ]
  },
  {
   "cell_type": "code",
   "execution_count": null,
   "id": "44b16ac4-e754-4a11-a7b7-9db05e90c77e",
   "metadata": {
    "tags": []
   },
   "outputs": [],
   "source": [
    "import RisolviSis as RS"
   ]
  },
  {
   "cell_type": "code",
   "execution_count": null,
   "id": "b297c359-e4b9-4488-a01a-86e99a399017",
   "metadata": {
    "tags": []
   },
   "outputs": [],
   "source": [
    "Q,R=spl.qr(A)"
   ]
  },
  {
   "cell_type": "code",
   "execution_count": null,
   "id": "d958103d-8ecd-47e5-a721-db80289b8da1",
   "metadata": {
    "tags": []
   },
   "outputs": [],
   "source": [
    "yy=Q.T@b\n",
    "xqr,flag=RS.Usolve(R,yy)"
   ]
  },
  {
   "attachments": {},
   "cell_type": "markdown",
   "id": "248a65db-8143-4833-ae51-e6261bc4a070",
   "metadata": {},
   "source": [
    "calcolo l'errore relativo della soluzione ottenuta utilizzando il mteodo QR rispetto alla soluzione esatta\n"
   ]
  },
  {
   "cell_type": "code",
   "execution_count": null,
   "id": "65d53ca1-5ca2-456b-bec8-b780d00905e3",
   "metadata": {
    "tags": []
   },
   "outputs": [],
   "source": [
    "err_QR=np.linalg.norm(xqr-xesatta)/np.linalg.norm(xesatta)"
   ]
  },
  {
   "cell_type": "code",
   "execution_count": null,
   "id": "26703c65-88a6-43bf-8ed3-917eeef71cae",
   "metadata": {
    "tags": []
   },
   "outputs": [],
   "source": [
    "print(\"Errore percentuale soluzione QR \",err_QR*100)\n"
   ]
  },
  {
   "attachments": {},
   "cell_type": "markdown",
   "id": "b327b005-78b4-441f-a865-3af6e9984778",
   "metadata": {},
   "source": [
    "Risolvo il sistema lineare anche con il metodo di fattorizzazione LU con pivotaggio a perno massimo per colonne, per fare vedere che l'errore relativo sulla soluzione usando il metodo di fattorizzazione LU è maggiore rispetto a quello calc"
   ]
  },
  {
   "cell_type": "code",
   "execution_count": null,
   "id": "7918e1d7-11bc-494a-9640-c0bdc1bdd597",
   "metadata": {},
   "outputs": [],
   "source": [
    "PT,L,U=spl.lu(A)\n",
    "P=PT.T\n",
    "y,flag=RS.Lsolve(L,P@b)\n",
    "if flag==0:\n",
    "    xLU,flag1=RS.Usolve(U,y)\n",
    "    \n",
    "err_LU=np.linalg.norm(xLU-xesatta)/np.linalg.norm(xesatta)\n",
    "print(\"Errore percentuale soluzione LU \",err_LU*100)"
   ]
  },
  {
   "attachments": {},
   "cell_type": "markdown",
   "id": "7547caaf-da56-49a7-943e-f0688ff993b4",
   "metadata": {},
   "source": [
    "Come atteso, l'errore relativo della soluzione rispetto alla soluzione esatta è più piccolo nel caso in cui la soluzione sia calcolata con il metodo QR."
   ]
  }
 ],
 "metadata": {
  "kernelspec": {
   "display_name": "Python 3 (ipykernel)",
   "language": "python",
   "name": "python3"
  },
  "language_info": {
   "codemirror_mode": {
    "name": "ipython",
    "version": 3
   },
   "file_extension": ".py",
   "mimetype": "text/x-python",
   "name": "python",
   "nbconvert_exporter": "python",
   "pygments_lexer": "ipython3",
   "version": "3.11.2"
  }
 },
 "nbformat": 4,
 "nbformat_minor": 5
}
