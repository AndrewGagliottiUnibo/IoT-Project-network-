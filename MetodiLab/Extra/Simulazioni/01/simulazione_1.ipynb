{
 "cells": [
  {
   "attachments": {},
   "cell_type": "markdown",
   "id": "b1592f9b-6fb5-4bbf-ac5a-dba7efe13be7",
   "metadata": {},
   "source": [
    "## Esercizo 1\n",
    "Si consideri il sistema lineare Ax=b, con A matrice e b termine noto memorizzati nel file ``Dati0.mat``.  Risolvere il sistema utilizzando il metodo più adatto al problema proposto e commentare i risultati ottenuti  giustificandoli alla luce della teoria. \n",
    "\n",
    "Per la lettura dei dati procedere nel seguente modo:\n",
    "\n",
    "``  from scipy.io import loadmat\n",
    "    import numpy as np\n",
    "    dati = loadmat('Dati0.mat')\n",
    "    A=dati[\"A\"]\n",
    "    b=dati[\"b\"] ``"
   ]
  },
  {
   "cell_type": "code",
   "execution_count": 5,
   "id": "5aefaf48",
   "metadata": {},
   "outputs": [
    {
     "name": "stdout",
     "output_type": "stream",
     "text": [
      "(400, 400)\n",
      "[[ True  True  True ...  True  True  True]\n",
      " [ True  True  True ...  True  True  True]\n",
      " [ True  True  True ...  True  True  True]\n",
      " ...\n",
      " [ True  True  True ...  True  True  True]\n",
      " [ True  True  True ...  True  True  True]\n",
      " [ True  True  True ...  True  True  True]]\n",
      "[0.0446767  0.17770878 0.3698608  0.39612453 0.43637684 0.11119274\n",
      " 0.11119274 0.54558472 0.5562346  0.28691665 0.22040061 0.22040061\n",
      " 7.9553233  7.82229122 7.88880726 7.88880726 7.71308335 7.56362316\n",
      " 7.60387547 7.45441528 7.4437654  7.37724936 7.77959939 7.77959939\n",
      " 7.6301392  7.6301392  0.28691665 7.71308335 7.56362316 7.3049551\n",
      " 7.45441528 7.4437654  7.37724936 6.93220749 7.22464126 7.26804148\n",
      " 7.26804148 7.15812522 7.11858129 7.04891734 0.3698608  0.43637684\n",
      " 0.6950449  0.54558472 0.5562346  0.62275064 1.06779251 0.62275064\n",
      " 0.77535874 0.84187478 0.88141871 0.73195852 0.73195852 0.95108266\n",
      " 0.77535874 1.19806226 1.10054285 1.08885439 1.28691665 0.84187478\n",
      " 0.88141871 1.02233835 1.02233835 7.22464126 6.65247755 6.64182766\n",
      " 6.53261978 6.7083437  7.15812522 6.71308335 7.11858129 7.04891734\n",
      " 6.80193774 6.97766165 6.97766165 6.80193774 6.91114561 6.89945715\n",
      " 6.89945715 6.91114561 6.3831596  6.42270352 6.46610374 6.49395921\n",
      " 6.71308335 1.53389626 1.50604079 1.46738022 0.95108266 1.10054285\n",
      " 1.08885439 1.35817234 1.19806226 1.28691665 1.2916563  1.2916563\n",
      " 1.34752245 1.34752245 6.35618748 6.53261978 1.6168404  1.57729648\n",
      " 1.35817234 6.7083437  6.65247755 6.64182766 6.42270352 1.64381252\n",
      " 1.53389626 1.57729648 1.80321421 1.46738022 1.87287816 1.90248058\n",
      " 1.6168404  1.64381252 6.19678579 6.46610374 6.3831596  6.35618748\n",
      " 6.         6.12712184 6.12712184 6.09751942 6.09751942 1.80321421\n",
      " 2.         1.87287816 1.90248058 1.9393942  1.9393942  2.02233835\n",
      " 2.04860208 2.08885439 6.19678579 6.0606058  5.95139792 5.82820147\n",
      " 5.91114561 5.97766165 5.97766165 6.2469796  6.2469796  1.7530204\n",
      " 1.7530204  1.7530204  2.55495813 2.5386359  2.02233835 2.04860208\n",
      " 2.08885439 2.38443607 2.34752245 2.30797853 2.26931795 2.23831458\n",
      " 2.17179853 2.19806226 6.0606058  6.2469796  5.95139792 5.91114561\n",
      " 5.39643979 5.35689587 5.46610374 5.4613641  5.73068205 5.61556393\n",
      " 5.65247755 5.69202147 5.53261978 5.50301736 5.80193774 5.80193774\n",
      " 5.76168542 5.76168542 2.17179853 2.19806226 5.31664356 5.44504187\n",
      " 5.82820147 2.49698264 2.46738022 2.23831458 2.68335644 2.64310413\n",
      " 2.60356021 2.53389626 2.34752245 2.38443607 5.73068205 5.65247755\n",
      " 5.53261978 5.50301736 5.69202147 5.61556393 5.2469796  5.44504187\n",
      " 5.31664356 2.7530204  2.26931795 2.30797853 2.46738022 2.49698264\n",
      " 2.60356021 2.53389626 5.39643979 5.46610374 2.68335644 2.55495813\n",
      " 1.7530204  2.79256432 6.2469796  5.35689587 5.09751942 5.20743568\n",
      " 5.14946019 5.18046356 5.17572392 2.64310413 2.82427608 2.81953644\n",
      " 2.85053981 2.90248058 2.92874431 4.85053981 4.88014224 4.89008374\n",
      " 5.07125569 5.02106188 4.97766165 5.18046356 3.10991626 2.7530204\n",
      " 2.97893812 3.02233835 5.2469796  4.9217955  4.91114561 5.09751942\n",
      " 5.07125569 2.82427608 2.81953644 5.20743568 5.02106188 3.08885439\n",
      " 3.0782045  2.79256432 2.90248058 2.92874431 2.97893812 5.17572392\n",
      " 5.14946019 4.97766165 4.66416601 4.65247755 4.73542169 4.73068205\n",
      " 4.80193774 4.9217955  4.91114561 2.85053981 3.26457831 3.26931795\n",
      " 3.02233835 3.0782045  3.14946019 3.11985776 3.11985776 3.14946019\n",
      " 3.33583399 4.59450206 4.85053981 4.88014224 3.08885439 3.40549794\n",
      " 3.41877814 3.34752245 3.26457831 3.26931795 3.93348396 4.06651604\n",
      " 4.46610374 4.73542169 4.73068205 4.66416601 4.65247755 4.58122186\n",
      " 4.59450206 4.80193774 4.40549794 4.58122186 4.29892037 4.51629755\n",
      " 4.46610374 3.19806226 3.33583399 3.34752245 3.40549794 3.41877814\n",
      " 4.2469796  4.10920788 4.06651604 3.89079212 3.93348396 3.70107963\n",
      " 3.73068205 3.55495813 3.48844209 3.59450206 3.59450206 4.40549794\n",
      " 4.55495813 4.51155791 4.51629755 4.29558168 4.44504187 4.44504187\n",
      " 3.19806226 3.19806226 4.1863738  4.10920788 3.89079212 3.85053981\n",
      " 3.74133194 3.8136262  3.44504187 3.55495813 3.48370245 3.48370245\n",
      " 3.53389626 3.53389626 4.14946019 4.14946019 4.51155791 4.33583399\n",
      " 4.3251841  4.17572392 4.21912414 4.28564018 4.26931795 4.25866806\n",
      " 3.66416601 3.6748159  3.70441832 3.71435982 3.7530204  3.85053981\n",
      " 3.82427608 3.78087586 3.8136262  3.78087586 4.55495813 3.6748159\n",
      " 3.48844209 4.         3.7530204  3.82427608 4.17572392 4.3251841\n",
      " 4.28564018 4.26931795 4.25866806 3.44504187 4.33583399 4.21912414\n",
      " 4.1863738  3.66416601 3.71435982 3.70441832 4.         4.80193774\n",
      " 4.55495813 4.29558168 4.2469796  3.74133194 3.73068205 3.44504187\n",
      " 4.         4.         3.19806226 4.80193774 4.55495813 3.44504187\n",
      " 4.         4.         4.         4.         4.         4.\n",
      " 4.         4.         4.         4.         4.         4.\n",
      " 4.         4.         4.         4.        ]\n",
      "1920\n",
      "160000\n"
     ]
    },
    {
     "data": {
      "image/png": "[encoded data removed]",
      "text/plain": [
       "<Figure size 640x480 with 1 Axes>"
      ]
     },
     "metadata": {},
     "output_type": "display_data"
    }
   ],
   "source": [
    "from scipy.io import loadmat\n",
    "import numpy as np\n",
    "import matplotlib.pyplot as plt\n",
    "\n",
    "dati = loadmat('Dati0.mat')\n",
    "A=dati[\"A\"]\n",
    "b=dati[\"b\"]\n",
    "\n",
    "# Vedo la forma di A\n",
    "print(A.shape)\n",
    "\n",
    "# Costruisce una immagine mettendo stelline su elementi che sono diversi da 0\n",
    "plt.spy(A)\n",
    "\n",
    "# Voglio fare una indagine su questa matrice cercando di comprenderne le caratteristiche:\n",
    "# uso il criterio di Sylvester (analisi del determinante delle sottomatrici) oppure controllo\n",
    "# la positività degli autovalori della matrice.\n",
    "# A e la sua trasposta coincidono\n",
    "print(A == A.T)\n",
    "\n",
    "# La matrice ha tutti autovalori positivi\n",
    "print(np.linalg.eigvals(A))\n",
    "print(np.count_nonzero(A))\n"
   ]
  },
  {
   "attachments": {},
   "cell_type": "markdown",
   "id": "c0245435-e06a-449c-9fbb-3bc5407d3b97",
   "metadata": {},
   "source": [
    "## Esercizio 2"
   ]
  },
  {
   "attachments": {},
   "cell_type": "markdown",
   "id": "e4bc86ad-7d61-4946-9c29-6c681ce11262",
   "metadata": {},
   "source": [
    "La sequenza \n",
    "\n",
    "$$x_1=1$$\n",
    "$$x_n= 2^{n-1} \\left( \\sqrt{1+ \\frac{x_{n-1}}{2^{n-2}} }-1 \\right)    \\quad \\quad n=2,3,...,\\quad (1) $$\n",
    "\n",
    "converge a $log(2)$, cioè  $\\lim_{n \\rightarrow \\infty} x_n= log(2)$\n",
    "\n",
    "- Si calcolino i valori della sequenza (1) per $n=1,..,71$\n",
    "\n",
    "- Costruire un grafico in cui nelle ascisse vi sia  il valore di $n=1,..,71$  e nelle ordinate il corrispondente valore di $x_n$ . \n",
    "\n",
    "- La successione converge a log(2)? In corrispondenza di quale $n$ si verifica un pessimo risultato? Spiegare alla luce della teoria\n",
    "\n",
    "- Manipolando opportunamente la formula (1) scrivere una formula  equivalente  ma piu\\' stabile per ottenere la sequenza $\\tilde x_n$\n",
    "algebricamente equivalente alla (1).\n",
    "\n",
    "- Valutare la formula proposta per calcolare la sequenza $\\tilde x_n $ per $n=1,..,71$\n",
    "\n",
    "- Costruire un grafico in cui nelle ascisse vi sia  il valore di n  e nelle ordinate il corrispondente valore di $\\tilde x_n$ \n",
    "\n",
    "- Calcolare l'errore relativo di ogni $x_n$ rispetto al valore esatto $log(2)$ \n",
    "\n",
    "\n",
    "- Calcolare l'errore relativo di ogni $\\tilde x_n$ rispetto al valore esatto $log(2)$"
   ]
  },
  {
   "attachments": {},
   "cell_type": "markdown",
   "id": "d6905931-d53b-4b7f-a1ab-e84dd6683bf2",
   "metadata": {},
   "source": [
    "## Esercizo 3\n",
    "Si consideri il sistema lineare Ax=b, con A matrice e b termine noto memorizzati nel file ``Dati1.mat``.  Risolvere il sistema utilizzando il metodo più adatto al problema proposto e commentare i risultati ottenuti  giustificandoli alla luce della teoria. \n"
   ]
  }
 ],
 "metadata": {
  "kernelspec": {
   "display_name": "Python 3 (ipykernel)",
   "language": "python",
   "name": "python3"
  },
  "language_info": {
   "codemirror_mode": {
    "name": "ipython",
    "version": 3
   },
   "file_extension": ".py",
   "mimetype": "text/x-python",
   "name": "python",
   "nbconvert_exporter": "python",
   "pygments_lexer": "ipython3",
   "version": "3.11.2"
  }
 },
 "nbformat": 4,
 "nbformat_minor": 5
}
