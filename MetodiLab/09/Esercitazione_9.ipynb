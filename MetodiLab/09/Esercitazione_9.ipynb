{
 "cells": [
  {
   "cell_type": "markdown",
   "id": "563c6e9f-4262-4dff-889f-d8bbeba42a00",
   "metadata": {
    "tags": []
   },
   "source": [
    "# Esercitazione 9\n",
    "\n",
    "**27 Aprile 2023**\n",
    "\n",
    "*Gradiente e gradiente coniugato*"
   ]
  },
  {
   "cell_type": "code",
   "execution_count": 1,
   "id": "467ff5bc",
   "metadata": {},
   "outputs": [],
   "source": [
    "import numpy as np\n",
    "import matplotlib.pyplot as plt\n"
   ]
  },
  {
   "cell_type": "markdown",
   "id": "af3ab26b-9626-4782-a629-1851ad883687",
   "metadata": {
    "tags": []
   },
   "source": [
    "## Esercizio 1\n",
    "Implementare una funzione **steepestdescent(A,b,x0,itmax,tol)** che implementa il metodo di discesa più ripida del gradiente per risolvere il sistema lineare Ax=b, con A matrice simmetrica e definita positiva. La funzione prende in input:\n",
    "- A: matrice dei coefficienti\n",
    "- b: termine noto\n",
    "- x0: vettore iniziale della stessa dimensione di b\n",
    "- itmax: iterazioni massime oltre le quali il metodo si ferma\n",
    "- toll: tolleranza per il criterio di arresto\n",
    "\n",
    "e restituisce in output:\n",
    "- il vettore soluzione\n",
    "- un vettore di tante componenti quanto il numero di iterazioni effettuate, contenente $ \\frac{||r^{(k)}||_2} {||b||_2}$ iterazione per iterazione\n",
    "\n",
    "- un array contenente le soluzioni ad ogni iterazione\n",
    "- il numero di iterazioni impiegate per calcolare la soluzione con la tolleranza richiesta\n",
    "\n",
    "Usare come criterio di arresto $ \\frac{||r^{(k)}||_2} {||b||_2} < toll$"
   ]
  },
  {
   "cell_type": "code",
   "execution_count": 2,
   "id": "24437afd",
   "metadata": {},
   "outputs": [],
   "source": [
    "def steepestdescent(A, b, x0, itmax, tol):\n",
    "    it = 0\n",
    "\n",
    "    n, m = A.shape\n",
    "    if n != m:\n",
    "        return [], [], [], []\n",
    "    vec_sol = []\n",
    "    vec_err = []\n",
    "    nb = np.linalg.norm(b)\n",
    "    x = x0\n",
    "\n",
    "    r = A@x-b\n",
    "    print(r)\n",
    "    p = -r\n",
    "    error = np.linalg.norm(r)/nb\n",
    "    while it < itmax and error > tol:\n",
    "        it = it+1\n",
    "        Ap = A@p\n",
    "\n",
    "        rTr = np.dot(r.T, r)\n",
    "        alpha = rTr/np.dot(p.T, Ap)\n",
    "        x = x+alpha*p\n",
    "        vec_sol.append(x)\n",
    "        r = r+alpha*Ap\n",
    "\n",
    "        error = np.linalg.norm(r)/nb\n",
    "        vec_err.append(error)\n",
    "        p = -r\n",
    "    return x, vec_err, vec_sol, it\n"
   ]
  },
  {
   "cell_type": "code",
   "execution_count": 3,
   "id": "50e2152b",
   "metadata": {},
   "outputs": [
    {
     "name": "stdout",
     "output_type": "stream",
     "text": [
      "\n",
      "[0. 0.]\n",
      "[-11. -17.]\n",
      "10\n"
     ]
    },
    {
     "data": {
      "text/plain": [
       "[<matplotlib.lines.Line2D at 0x162e95b3190>]"
      ]
     },
     "execution_count": 3,
     "metadata": {},
     "output_type": "execute_result"
    },
    {
     "data": {
      "image/png": "[encoded data removed]",
      "text/plain": [
       "<Figure size 640x480 with 1 Axes>"
      ]
     },
     "metadata": {},
     "output_type": "display_data"
    }
   ],
   "source": [
    "A = np.array([[8, 3], [3, 14]])\n",
    "print()\n",
    "n = A.shape[0]\n",
    "b = np.sum(A, axis=1)\n",
    "x0 = np.zeros(n)\n",
    "itmax = 500\n",
    "tol = 1e-8\n",
    "print(x0)\n",
    "x, err, vec_sol, it = steepestdescent(A, b, x0, itmax, tol)\n",
    "print(len(vec_sol))\n",
    "plt.semilogy(np.arange(it), err)\n"
   ]
  },
  {
   "cell_type": "markdown",
   "id": "725a79a7-8e11-4151-a8bd-fce7bc91f4ab",
   "metadata": {
    "tags": []
   },
   "source": [
    "## Esercizio 2\n",
    "Implementare una funzione **conjugate_gradient(A,b,x0,itmax,tol)** che implementa il metodo del gradiente coniugato per risolvere il sistema lineare Ax=b, con A matrice simmetrica e definita positiva. La funzione prende in input:\n",
    "- A: matrice dei coefficienti\n",
    "- b: termine noto\n",
    "- x0: vettore iniziale della stessa dimensione di b\n",
    "- itmax: iterazioni massime oltre le quali il metodo si ferma\n",
    "- toll: tolleranza per il criterio di arresto\n",
    "\n",
    "e restituisce in output:\n",
    "- il vettore soluzione\n",
    "- un vettore di tante componenti quanto il numero di iterazioni effettuate, contenente $ \\frac{||r^{(k)}||_2} {||b||_2}$ iterazione per iterazione\n",
    "- un array contenente le soluzioni ad ogni iterazione\n",
    "- il numero di iterazioni impiegate per calcolare la soluzione con la tolleranza richiesta\n",
    "\n",
    "Usare come criterio di arresto $ \\frac{||r^{(k)}||_2} {||b||_2} < toll$"
   ]
  },
  {
   "cell_type": "code",
   "execution_count": 4,
   "id": "be1acafe",
   "metadata": {},
   "outputs": [],
   "source": [
    "def conjugate_gradient(A, b, x0, itmax, tol):\n",
    "    it = 0\n",
    "\n",
    "    n, m = A.shape\n",
    "    if n != m:\n",
    "        return [], [], [], []\n",
    "    vec_sol = []\n",
    "    vec_err = []\n",
    "    nb = np.linalg.norm(b)\n",
    "    x = x0\n",
    "\n",
    "    r = A@x-b\n",
    "    print(r)\n",
    "    p = -r\n",
    "    error = np.linalg.norm(r)/nb\n",
    "    while it < itmax and error > tol:\n",
    "        it = it+1\n",
    "        Ap = A@p\n",
    "\n",
    "        rTr = np.dot(r.T, r)\n",
    "        alpha = rTr/np.dot(p.T, Ap)\n",
    "        x = x+alpha*p\n",
    "        vec_sol.append(x)\n",
    "        r = r+alpha*Ap\n",
    "        gamma = np.dot(r.T, r)/rTr\n",
    "        p = -r+gamma*p\n",
    "\n",
    "        error = np.linalg.norm(r)/nb\n",
    "        vec_err.append(error)\n",
    "    return x, vec_err, vec_sol, it\n"
   ]
  },
  {
   "cell_type": "code",
   "execution_count": 5,
   "id": "527be3a8",
   "metadata": {},
   "outputs": [
    {
     "name": "stdout",
     "output_type": "stream",
     "text": [
      "\n",
      "[0. 0.]\n",
      "[-11. -17.]\n"
     ]
    },
    {
     "data": {
      "text/plain": [
       "[<matplotlib.lines.Line2D at 0x162eb82b510>]"
      ]
     },
     "execution_count": 5,
     "metadata": {},
     "output_type": "execute_result"
    },
    {
     "data": {
      "image/png": "[encoded data removed]",
      "text/plain": [
       "<Figure size 640x480 with 1 Axes>"
      ]
     },
     "metadata": {},
     "output_type": "display_data"
    }
   ],
   "source": [
    "A = np.array([[8, 3], [3, 14]])\n",
    "print()\n",
    "n = A.shape[0]\n",
    "b = np.sum(A, axis=1)\n",
    "x0 = np.zeros(n)\n",
    "itmax = 500\n",
    "tol = 1e-8\n",
    "print(x0)\n",
    "x, err, vec_sol, it = conjugate_gradient(A, b, x0, itmax, tol)\n",
    "\n",
    "plt.semilogy(np.arange(it), err)\n"
   ]
  },
  {
   "cell_type": "markdown",
   "id": "1fa4e799-9317-4477-9ea3-d6bc7bef2ee1",
   "metadata": {
    "tags": []
   },
   "source": [
    "## Esercizio 3\n",
    "Scrivere una funzione creaPoisson(n) che preso in input l'ordine della matrice quadrata di Poisson la costruzione secondo la seguente formula:\n",
    "$$A =\n",
    "\\left [\n",
    "\\begin{array}{ccccccccccc}\n",
    "4 & -1 & 0 & -1 &0 &0 & 0& 0& \\cdots &   0 & 0\\\\\n",
    "-1 & 4 & -1 & 0  &-1 &0 & 0& 0& \\cdots &   0 & 0\\\\\n",
    "0 & -1 & 4 & -1  &0 &-1 & 0& 0& \\cdots &   0 & 0 \\\\\n",
    "-1 & 0 & -1 & 4  &-1 &0  & -1 & 0& \\cdots &   0 & 0\\\\\n",
    "0 & -1 & 0 & -1  & 4 &-1 & 0 & -1& \\cdots &   0 & 0\\\\\n",
    "0 & 0 & -1 & 0  & -1 &4 & -1 & 0&  -1 & 0 & 0 \\\\\n",
    "0 & 0 & 0 & \\ddots  & 0 &\\ddots & \\ddots & \\ddots& \\ddots & \\ddots & 0\\\\\n",
    "0 & 0 & 0 & 0  & -1 &0  & -1 & 4& -1 &   0& -1\\\\\n",
    "\\end{array}\n",
    " \\right ], \\qquad\n",
    "$$\n",
    "\n",
    "- Risolvere il sistema lineare Ax=b con matrice dei coefficienti A di Poisson con ordine che va da 10 a 100 con step 2,  e termine noto b scelto in maniera tale che il sistema abbia soluzione il vettore x con tutte le componenti  uguali ad 1, utilizzando  il metodo iterativo del gradiente e del gradiente coniugato  "
   ]
  },
  {
   "cell_type": "code",
   "execution_count": 6,
   "id": "d6a250ce",
   "metadata": {},
   "outputs": [],
   "source": [
    "def creaPoisson(n):\n",
    "    d = np.ones((n,)) * 4\n",
    "    e = -np.ones((n-1,))\n",
    "    f = -np.ones((n-3,))\n",
    "    A = np.diag(d) + np.diag(e, -1) + np.diag(e, 1) + \\\n",
    "        np.diag(f, -3) + np.diag(f, 3)\n",
    "\n",
    "    return A\n"
   ]
  },
  {
   "cell_type": "code",
   "execution_count": 7,
   "id": "1c1521e3",
   "metadata": {},
   "outputs": [
    {
     "name": "stdout",
     "output_type": "stream",
     "text": [
      "[[ 4. -1.  0. -1.  0.  0.  0.]\n",
      " [-1.  4. -1.  0. -1.  0.  0.]\n",
      " [ 0. -1.  4. -1.  0. -1.  0.]\n",
      " [-1.  0. -1.  4. -1.  0. -1.]\n",
      " [ 0. -1.  0. -1.  4. -1.  0.]\n",
      " [ 0.  0. -1.  0. -1.  4. -1.]\n",
      " [ 0.  0.  0. -1.  0. -1.  4.]]\n"
     ]
    }
   ],
   "source": [
    "A2 = creaPoisson(7)\n",
    "print(A2)\n"
   ]
  },
  {
   "cell_type": "markdown",
   "id": "39a8e883-20ae-44d7-960b-7e0727f94298",
   "metadata": {},
   "source": [
    "## Esercizio 4\n",
    "Consideriamo il sistema lineare Ax=b  dov A è  la matrice di Hilbert di dimensione 5, costruita usando la funzione hilbert(n) di scipy.linalg (A=scipy.linalg.hilbert(5)) in modo tale che la soluzione esatta sia $x = (1, 1, . . . , 1)^T$ .\n",
    "Risolvere il sistema lineare usando sia il metodi del gradiente che il metodo del gradiente coniugato e confrontarne gli errori ad ogni iterazione."
   ]
  },
  {
   "cell_type": "markdown",
   "id": "a93dd8c4-27ea-41ea-b359-fe06d4f9d585",
   "metadata": {},
   "source": [
    "## Esercizio 5\n",
    "Importare il file creaG ed utilizzare le funzioni sottospecificate per creare, scelto $n$,  una matrice D di ordine $m=(n-2)^2$\n",
    "\n",
    "*import creaG*\n",
    "\n",
    "*G = creaG.numgrid(n)*\n",
    "\n",
    "*D = creaG.delsq(G).todense().getA()*\n",
    "\n",
    "Risolvere il sistema lineare Dx=b, con matrice G di ordine m=16 ed ordine m=400, (scegliere n in maniera opportuna), usando i metodi del gradiente e del gradiente coniugato. Confrontare gli errori su uno stesso grafico e giustifcare i risultati alla luce del risultato teorico della maggiorazione dell'errore per entrambi i metodi"
   ]
  },
  {
   "cell_type": "code",
   "execution_count": null,
   "id": "12773dbb-c937-4b92-afd5-ff60f1e826f2",
   "metadata": {},
   "outputs": [],
   "source": []
  },
  {
   "cell_type": "code",
   "execution_count": null,
   "id": "f478877a-5cb9-4765-bc6e-922fa12e91fb",
   "metadata": {},
   "outputs": [],
   "source": []
  },
  {
   "cell_type": "code",
   "execution_count": null,
   "id": "ffb21e16-b3b2-4aad-b332-2afee11e8a58",
   "metadata": {},
   "outputs": [],
   "source": []
  },
  {
   "cell_type": "code",
   "execution_count": null,
   "id": "41b2d491-840f-4909-8865-43d1056b95c3",
   "metadata": {},
   "outputs": [],
   "source": []
  }
 ],
 "metadata": {
  "kernelspec": {
   "display_name": "Python 3 (ipykernel)",
   "language": "python",
   "name": "python3"
  },
  "language_info": {
   "codemirror_mode": {
    "name": "ipython",
    "version": 3
   },
   "file_extension": ".py",
   "mimetype": "text/x-python",
   "name": "python",
   "nbconvert_exporter": "python",
   "pygments_lexer": "ipython3",
   "version": "3.11.2"
  }
 },
 "nbformat": 4,
 "nbformat_minor": 5
}
