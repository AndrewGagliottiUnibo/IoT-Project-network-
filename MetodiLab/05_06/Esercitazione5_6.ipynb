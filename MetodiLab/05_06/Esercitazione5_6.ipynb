{
 "cells": [
  {
   "cell_type": "markdown",
   "id": "d2903ef7-4c36-4b4f-b8dd-01fa2f35dfc5",
   "metadata": {},
   "source": [
    "## Esercitazione 6  del    27 Marzo 2023 \n"
   ]
  },
  {
   "cell_type": "markdown",
   "id": "8c418e44-c9dc-46d9-a3df-199e47ed1a93",
   "metadata": {},
   "source": [
    "## Esercizio 1 \n",
    "Si consideri l'equazione quadratica $x^2 + 2px - q = 0 $ con $p=10^5$ e $q=10^{-i}$, i=1,..,10.\n",
    "Si stabilisca se il problema relativo al calcolo della soluzione $x= -p+\\sqrt{p^2+q}$ risulta essere ben\n",
    "condizionato per tutti i valori di q assegnati;"
   ]
  },
  {
   "cell_type": "code",
   "execution_count": 58,
   "id": "d061d7d6",
   "metadata": {},
   "outputs": [],
   "source": [
    "# Traduce una funzione da simbolica a numerica\n",
    "from sympy.utilities.lambdify import lambdify\n",
    "import scipy.linalg as spl\n",
    "import numpy as np\n",
    "import sympy as sym\n",
    "import numpy.linalg as npl\n",
    "import math"
   ]
  },
  {
   "cell_type": "code",
   "execution_count": 59,
   "id": "0cf4507f",
   "metadata": {},
   "outputs": [
    {
     "name": "stdout",
     "output_type": "stream",
     "text": [
      "f: -p - sqrt(p**2 + q), Derivata di f: -1/(2*sqrt(p**2 + q))\n",
      "f: -sqrt(q + 10000000000) - 100000, Derivata di f: -1/(2*sqrt(q + 10000000000))\n",
      "\n",
      "Indici: [1.e-01 1.e-02 1.e-03 1.e-04 1.e-05 1.e-06 1.e-07 1.e-08 1.e-09 1.e-10]\n",
      "\n",
      "Spacing: 1.9073486328125e-06\n",
      "\n",
      "K: [2.5e-12 2.5e-13 2.5e-14 2.5e-15 2.5e-16 2.5e-17 2.5e-18 2.5e-19 2.5e-20\n",
      " 2.5e-21]\n"
     ]
    }
   ],
   "source": [
    "# Definisco simbolicamente i componenti della funzione\n",
    "q = sym.symbols('q')\n",
    "p = sym.symbols('p')\n",
    "f = -p - sym.sqrt(p**2 + q)\n",
    "df = sym.diff(f, q, 1)\n",
    "print(\"f: {}, Derivata di f: {}\".format(f, df))\n",
    "fp = f.subs(p, 10**5)\n",
    "dfp = df.subs(p, 10**5)\n",
    "print(\"f: {}, Derivata di f: {}\".format(fp, dfp))\n",
    "\n",
    "# Traduzione da simboli a numeri: np sta ad indicare la compatibilità con i numpy array\n",
    "# Ora le funzioni sono lambda e quindi le posso valutare come voglio\n",
    "fNum = lambdify(q, fp, np)\n",
    "dfNum = lambdify(q, dfp, np)\n",
    "\n",
    "# Valutazione del condizionamento\n",
    "index = 10.0**(-np.arange(1, 11))\n",
    "print(\"\\nIndici: {}\".format(index))\n",
    "\n",
    "# Per numeri successivi e più piccoli dello spacing non fanno progredire la funzione\n",
    "# q è rilevante fino ad un certo, quando vai oltre ad un numero più piccolo dello\n",
    "# spacing, la q viene trascurata perchè è vicina a 0 e l'operazione divene (-p + p)\n",
    "print(\"\\nSpacing: {}\".format(np.spacing((10**5)**2)))\n",
    "\n",
    "K = np.abs((dfNum(index) * index) / fNum(index))\n",
    "print(\"\\nK: {}\".format(K))"
   ]
  },
  {
   "cell_type": "markdown",
   "id": "1090e57b-2759-433c-9a3b-8cde7950f693",
   "metadata": {},
   "source": [
    "## Esercizio 2\n",
    "Scrivere una funzione numpy che calcola la norma infinito e la norma 1 di un vettore ed una matrice  e testarla su vettori e matrici  a propria scelta. Confrontarne i risultati con quelli ottenuti utilizzando la funzione norm di numpy.linalg\n",
    "\n",
    "(Ricorda la formula della norma infinito e della norma 1 di una matrice\n",
    "$||A||_\\infty= \\max_{j=1,n} \\sum_{i} |a_{ij}| $\n",
    "$\\quad ||A||_1= \\max_{i=1,n} \\sum_{j} |a_{ij}| $)"
   ]
  },
  {
   "cell_type": "code",
   "execution_count": 60,
   "id": "af466594",
   "metadata": {},
   "outputs": [
    {
     "name": "stdout",
     "output_type": "stream",
     "text": [
      "Senza la funzione norm()\n",
      "5\n",
      "15\n",
      "30\n",
      "65\n",
      "\n",
      "Con la funzione norm()\n",
      "5\n",
      "15\n",
      "65\n",
      "30\n"
     ]
    }
   ],
   "source": [
    "x = np.array([1, 2, 3, -4, -5])\n",
    "A = np.array([[1, 2, 3, 4, -5], [6, 7, -8, -9, 10], [11, -12, -13, 14, -15]])\n",
    "\n",
    "print(\"Senza la funzione norm()\")\n",
    "normXInf = np.max(np.abs(x))\n",
    "normX1 = np.sum(np.abs(x))\n",
    "normAInf = np.max(np.sum(np.abs(A), axis=0))\n",
    "normA1 = np.max(np.sum(np.abs(A), axis=1))\n",
    "print(normXInf)\n",
    "print(normX1)\n",
    "print(normAInf)\n",
    "print(normA1)\n",
    "\n",
    "print(\"\\nCon la funzione norm()\")\n",
    "normXInf = npl.norm(x, np.inf)\n",
    "normX1 = npl.norm(x, 1)\n",
    "normAInf = npl.norm(A, np.inf)\n",
    "normA1 = npl.norm(A, 1)\n",
    "print(int(normXInf))\n",
    "print(int(normX1))\n",
    "print(int(normAInf))\n",
    "print(int(normA1))"
   ]
  },
  {
   "cell_type": "markdown",
   "id": "b6f0000b-3345-45d7-a610-5d9a09b7c115",
   "metadata": {},
   "source": [
    "## Esercizio 3\n",
    "Implementare una funzione che calcola la norma 2 di una  matrice facendo uso della funzione eigvals del pacchetto numpy.linalg, (np.linalg.eigvals(A)). Testarla sulla matrice A=np.array([[4,-1,6],[2,3,-3],[1,-2,9/2]])   e confrontarne i risultati con quelli ottenuti utilizzando la funzione norm di numpy.linalg"
   ]
  },
  {
   "cell_type": "code",
   "execution_count": 61,
   "id": "1df35162",
   "metadata": {},
   "outputs": [
    {
     "name": "stdout",
     "output_type": "stream",
     "text": [
      "9.056251013341882\n",
      "9.056251013341878\n"
     ]
    }
   ],
   "source": [
    "A = np.array([[4, -1, 6], [2, 3, -3], [1, -2, 9/2]])\n",
    "normA2E = np.sqrt(np.max(npl.eigvals(A.T @ A)))\n",
    "normA2N = npl.norm(A, 2)\n",
    "print(normA2E)\n",
    "print(normA2N)"
   ]
  },
  {
   "cell_type": "markdown",
   "id": "2b3aefbb-af07-4543-91a9-e6b766760a6a",
   "metadata": {},
   "source": [
    "## Esercizio 4 \n",
    "Implementare il calcolo dell'indice di condizionamento in norma 2 di una matrice A come rapporto tra la radice dell'autovalore massimo di $A^TA$ e la radice dell'autovalore minimo di $A^TA$."
   ]
  },
  {
   "cell_type": "code",
   "execution_count": 62,
   "id": "1613b7e3",
   "metadata": {},
   "outputs": [
    {
     "name": "stdout",
     "output_type": "stream",
     "text": [
      "433162369.7958386\n"
     ]
    }
   ],
   "source": [
    "A = np.array([[4, -1, 6], [2, 3, -3], [1, -2, 9/2]])\n",
    "K = (np.sqrt(np.max(npl.eigvals(A.T @ A)))) / (np.sqrt(np.min(npl.eigvals(A.T @ A))))\n",
    "print(K)"
   ]
  },
  {
   "cell_type": "markdown",
   "id": "2b2f0afd-9374-4f8e-8a7b-eb783ba28fd4",
   "metadata": {},
   "source": [
    "## Esercizio 5\n",
    "- Costruire la matrice di Vandermonde A, generata dal vettore x=[1.0,2.0,...,6.0] utilizzando la funzione np.vander(x, increasing=True) di numpy. \n",
    "- Calcolarne l'indice di condizionamento in norma 1 senza utilizzare la funzione cond di numpy.linalg e poi confrontarne il valore con quello ottenuto utilizzando la funzione.\n",
    "- Considerare il sistema lineare Ax=b  con matrice dei coefficienti A e termine noto costruito in maniera tale che la soluzione esatta sia il vettore x=[1,1,1,1,1,1] (ogni sua componente è 1)\n",
    "- perturbare il vettore dei termini noti della quantità\n",
    "$$\n",
    "\\delta b = 0.025 \\, \\ast \\,\n",
    "\\left [\n",
    "\\begin{array}{c}\n",
    "1\\\\\n",
    "0\\\\\n",
    "0\\\\\n",
    "0\n",
    "\\end{array}\n",
    "\\right ]\n",
    "$$\n",
    "- Risolvere il sistema con termine noto pertubato $b + \\delta b$ ((usando il metodo solve del modulo linalg di Scipy).\n",
    "- Calcolare l'errore relativo sul termine noto e l'errore relativo sulla soluzione. Cosa si può concludere?\n",
    "\n",
    "N.B. per il calcolo dell'inversa della matrice di A usare la funzione di numpy.linalg.inv(A).\n"
   ]
  },
  {
   "cell_type": "code",
   "execution_count": 63,
   "id": "4f2cc091",
   "metadata": {},
   "outputs": [
    {
     "name": "stdout",
     "output_type": "stream",
     "text": [
      "[[1.000e+00 1.000e+00 1.000e+00 1.000e+00 1.000e+00 1.000e+00]\n",
      " [1.000e+00 2.000e+00 4.000e+00 8.000e+00 1.600e+01 3.200e+01]\n",
      " [1.000e+00 3.000e+00 9.000e+00 2.700e+01 8.100e+01 2.430e+02]\n",
      " [1.000e+00 4.000e+00 1.600e+01 6.400e+01 2.560e+02 1.024e+03]\n",
      " [1.000e+00 5.000e+00 2.500e+01 1.250e+02 6.250e+02 3.125e+03]\n",
      " [1.000e+00 6.000e+00 3.600e+01 2.160e+02 1.296e+03 7.776e+03]]\n",
      "1281105.0000000778\n",
      "1281105.0000000778\n",
      "[[6.15000000e+00 2.15250000e+01 9.32750000e+01 4.52025000e+02\n",
      "  2.33187500e+03 1.25060250e+04]\n",
      " [6.45750000e+01 3.29025000e+02 1.76812500e+03 9.78772500e+03\n",
      "  5.52239250e+04 3.15762525e+05]\n",
      " [3.73100000e+02 2.05512500e+03 1.15814750e+04 6.62242250e+04\n",
      "  3.82574075e+05 2.22694063e+06]\n",
      " [1.39912500e+03 7.93042500e+03 4.55602250e+04 2.64188625e+05\n",
      "  1.54247023e+06 9.05298143e+06]\n",
      " [4.00365000e+03 2.30225250e+04 1.33630275e+05 7.80887025e+05\n",
      "  4.58659927e+06 2.70470450e+07]\n",
      " [9.56427500e+03 5.54740250e+04 3.24044525e+05 1.90287252e+06\n",
      "  1.12196551e+07 6.63649585e+07]]\n",
      "[[0.02439024 0.02439024 0.02439024 0.02439024 0.02439024 0.02439024]\n",
      " [0.02439024 0.02439024 0.02439024 0.02439024 0.02439024 0.02439024]\n",
      " [0.02439024 0.02439024 0.02439024 0.02439024 0.02439024 0.02439024]\n",
      " [0.02439024 0.02439024 0.02439024 0.02439024 0.02439024 0.02439024]\n",
      " [0.02439024 0.02439024 0.02439024 0.02439024 0.02439024 0.02439024]\n",
      " [0.02439024 0.02439024 0.02439024 0.02439024 0.02439024 0.02439024]]\n",
      "[[0.83739837 0.95354239 0.98927901 0.99778773 0.99957116 0.99992004]\n",
      " [0.98451413 0.99696072 0.99943443 0.99989783 0.99998189 0.99999683]\n",
      " [0.99731975 0.99951341 0.99991366 0.9999849  0.99999739 0.99999955]\n",
      " [0.99928527 0.9998739  0.99997805 0.99999621 0.99999935 0.99999989]\n",
      " [0.99975023 0.99995656 0.99999252 0.99999872 0.99999978 0.99999996]\n",
      " [0.99989544 0.99998197 0.99999691 0.99999947 0.99999991 0.99999998]]\n"
     ]
    }
   ],
   "source": [
    "x = np.arange(1.0, 7.0)\n",
    "V = np.vander(x, increasing=True)\n",
    "print(V)\n",
    "K = npl.norm(V, 1) * npl.norm(npl.inv(V), 1)\n",
    "KNpl = npl.cond(V, 1)\n",
    "# Molto alto perchè convivono elementi molto grandi e molto piccoli assieme\n",
    "print(K)\n",
    "print(KNpl)\n",
    "\n",
    "x = np.array([1, 1, 1, 1, 1, 1])\n",
    "b = V * x\n",
    "bPert = b + (b * 0.025)\n",
    "xPert = spl.solve(npl.inv(V), bPert)\n",
    "print(xPert)\n",
    "\n",
    "ERb = np.abs((bPert - b) / bPert)\n",
    "ERx = np.abs((xPert - x) / xPert)\n",
    "print(ERb)\n",
    "print(ERx)"
   ]
  },
  {
   "cell_type": "markdown",
   "id": "1fad1579-04c4-4aae-a840-2ab3120aaf2e",
   "metadata": {},
   "source": [
    "## Esercizio 6\n",
    "Assegnato il sistema lineare $Ax = b$, con\n",
    "$$\n",
    "A =\n",
    "\\left [\n",
    "\\begin{array}{ccc}\n",
    "6 & 63 & 662.2\\\\\n",
    "63 & 662.2 & 6967.8\\\\\n",
    "662.2 & 6967.8 & 73393.5664\n",
    "\\end{array}\n",
    "\\right ], \\qquad\n",
    "b =\n",
    "\\left [\n",
    "\\begin{array}{c}\n",
    "1.1\\\\\n",
    "2.33\\\\\n",
    "1.7\n",
    "\\end{array}\n",
    "\\right ]\n",
    "$$\n",
    "- trovare il vettore soluzione $x$ (usando il metodo solve del modulo linalg di Scipy);\n",
    "- perturbare la matrice dei coefficienti della quantità\n",
    "$$\n",
    "\\delta A =\n",
    "0.01 \\, \\ast \\,\n",
    "\\left [ \\begin{array}{ccc}\n",
    "1 & 0 & 0\\\\\n",
    "0 & 0 & 0\\\\\n",
    "0 & 0 & 0\n",
    "\\end{array}\n",
    "\\right ]\n",
    "$$\n",
    "quindi calcolare l'errore relativo sulla soluzione e confrontarlo con la\n",
    "perturbazione relativa sui dati di ingresso. Cosa si osserva?"
   ]
  },
  {
   "cell_type": "code",
   "execution_count": 64,
   "id": "91e6921a",
   "metadata": {},
   "outputs": [
    {
     "name": "stdout",
     "output_type": "stream",
     "text": [
      "[ 1.16476722  0.06128465 -0.01566946]\n",
      "[ 1.16476722  0.06128465 -0.01566946]\n",
      "[1.71570887e-15 5.32152831e-15 8.85658476e-16]\n"
     ]
    }
   ],
   "source": [
    "A = np.array([[6, 63, 622.2], [63, 622.2, 6967.8], [622.2, 6967.8, 73393.5664]])\n",
    "b = np.array([1.1, 2.33, 1.7])\n",
    "x = spl.solve(A, b)\n",
    "print(x)\n",
    "\n",
    "APert = 0.01 * A\n",
    "bPert = 0.01 * b\n",
    "xPert = spl.solve(APert, bPert)\n",
    "print(xPert)\n",
    "\n",
    "ERx = np.abs((xPert - x) / xPert)\n",
    "print(ERx)"
   ]
  },
  {
   "cell_type": "markdown",
   "id": "3fd35cbb-3eaa-4674-91ff-cf7148cac8b8",
   "metadata": {},
   "source": [
    "## Esercizio 7\n",
    " \n",
    "Assegnato il sistema lineare $Ax = b$, con $A$ matrice di Hilbert di ordine\n",
    "$4$ e $b = [1, 1, 1, 1]^T$,\n",
    " - trovare il vettore soluzione $x$ (usando il metodo solve del modulo linalg di Scipy);\n",
    " -  perturbare il vettore dei termini noti della quantità\n",
    "$$\n",
    "\\delta b = 0.01 \\, \\ast \\,\n",
    "\\left [\n",
    "\\begin{array}{c}\n",
    "1\\\\\n",
    "-1\\\\\n",
    "1\\\\\n",
    "-1\n",
    "\\end{array}\n",
    "\\right ]\n",
    "$$\n",
    "quindi calcolare la soluzione del sistema $A x_p= b_p$ con termine noto $b_p=b+ \\delta b$.\n",
    "Calcolare l'errore relativo sulla soluzione e confrontarlo con la perturbazione relativa sui dati di ingresso. Cosa si osserva?\n",
    "\n",
    "Nota: per la costruzione della matrice di Hilbert usare la funzione hilbert(n) del modulo scipy.linalg\n",
    "(scipy.linalg.hilbert(n))  dove bisogna specificare l'ordine n della matrice."
   ]
  },
  {
   "cell_type": "code",
   "execution_count": 65,
   "id": "07d28bd9",
   "metadata": {},
   "outputs": [
    {
     "name": "stdout",
     "output_type": "stream",
     "text": [
      "[  -4.   60. -180.  140.]\n",
      "[2.13541667 1.31541667 0.97375    0.7785119 ]\n",
      "[  2.87317073  44.61292366 185.85237484 178.83026225]\n"
     ]
    }
   ],
   "source": [
    "H = spl.hilbert(4)\n",
    "b = np.array([1, 1, 1, 1]).T\n",
    "x = spl.solve(H, b)\n",
    "print(x)\n",
    "\n",
    "bPert = b + (b * 0.025)\n",
    "xPert = spl.solve(npl.inv(H), bPert)\n",
    "print(xPert)\n",
    "\n",
    "ERx = np.abs((xPert - x) / xPert)\n",
    "print(ERx)"
   ]
  },
  {
   "cell_type": "markdown",
   "id": "b7609125-16d1-4652-8945-8128d7ba1ca4",
   "metadata": {},
   "source": [
    "## Esercizio 8\n",
    "Si consideri lo sviluppo in serie dell'esponenziale $e^x=1+x+\\frac{1}{2!}x^2+\\frac{1}{3!}x^3+\\cdots =\\sum_{k=0}^\\infty \\frac{x^k}{k!} $. Si calcoli un'approssimazione dell'esponenziale troncando ad N=100 termini la serie, per valori di x che variano da -10 a 10 incluso. Si calcoli  per ogni valore di x l'errore relativo del valore approssimato rispetto al valore esatto, ottenuto mediante la funzione exp della libreria numpy. Cosa si osserva? Pensare ad un algoritmo più stabile ricordando che $e^{-x}=\\frac{1}{e^{|x|}}$. "
   ]
  },
  {
   "cell_type": "code",
   "execution_count": 66,
   "id": "8b826e10",
   "metadata": {},
   "outputs": [
    {
     "name": "stdout",
     "output_type": "stream",
     "text": [
      "x=-10: approx=9.519909540267049e-05, true=4.5399929762484854e-05, relative error=0.5231054499997769\n",
      "x=-9: approx=0.00021892321870731475, true=0.00012340980408667956, relative error=0.5231054499997769\n",
      "x=-8: approx=0.00041116370815887153, true=0.00033546262790251185, relative error=0.5231054499997769\n",
      "x=-7: approx=0.000961707462445354, true=0.0009118819655545162, relative error=0.5231054499997769\n",
      "x=-6: approx=0.0025579183957800547, true=0.0024787521766663585, relative error=0.5231054499997769\n",
      "x=-5: approx=0.0067416991479715286, true=0.006737946999085467, relative error=0.5231054499997769\n",
      "x=-4: approx=0.018315728500463785, true=0.01831563888873418, relative error=0.5231054499997769\n",
      "x=-3: approx=0.04978706837273326, true=0.049787068367863944, relative error=0.5231054499997769\n",
      "x=-2: approx=0.13533528323661273, true=0.1353352832366127, relative error=0.5231054499997769\n",
      "x=-1: approx=0.3678794411714423, true=0.36787944117144233, relative error=0.5231054499997769\n",
      "x=0: approx=1.0, true=1.0, relative error=0.5231054499997769\n",
      "x=1: approx=2.7182818284590455, true=2.718281828459045, relative error=0.5231054499997769\n",
      "x=2: approx=7.389056098930649, true=7.38905609893065, relative error=0.5231054499997769\n",
      "x=3: approx=20.085536921223245, true=20.085536923187668, relative error=0.5231054499997769\n",
      "x=4: approx=54.5978829056501, true=54.598150033144236, relative error=0.5231054499997769\n",
      "x=5: approx=148.3305585211236, true=148.4131591025766, relative error=0.5231054499997769\n",
      "x=6: approx=390.9428860786793, true=403.4287934927351, relative error=0.5231054499997769\n",
      "x=7: approx=1039.8172407410448, true=1096.6331584284585, relative error=0.5231054499997769\n",
      "x=8: approx=2432.12126984127, true=2980.9579870417283, relative error=0.5231054499997769\n",
      "x=9: approx=4567.811518142034, true=8103.083927575384, relative error=0.5231054499997769\n",
      "x=10: approx=10504.301493309657, true=22026.465794806718, relative error=0.5231054499997769\n"
     ]
    }
   ],
   "source": [
    "def relativeError(floating, real):\n",
    "    return np.abs((floating - real) / real)\n",
    "\n",
    "\n",
    "def classicExp(x, n):\n",
    "    result = 0\n",
    "\n",
    "    for k in range(n):\n",
    "        result += x**k / np.math.factorial(k)\n",
    "\n",
    "    return result\n",
    "\n",
    "\n",
    "def nonNegExp(x, n):\n",
    "    result = 0\n",
    "\n",
    "    if x < 0:\n",
    "        return 1 / nonNegExp(np.abs(x), n)\n",
    "\n",
    "    for k in range(n):\n",
    "        result += x**k / np.math.factorial(k)\n",
    "\n",
    "    return result\n",
    "\n",
    "# Chiamate a funzione\n",
    "x = np.arange(-10, 11)\n",
    "n = 100\n",
    "\n",
    "for i in x:\n",
    "    # approxVal = classicExp(i, n)\n",
    "    approxVal = nonNegExp(i, n)\n",
    "    trueVal = np.exp(i)\n",
    "    errRel = relativeError(approx_val, true_val)\n",
    "    print(f\"x={i}: approx={approxVal}, true={trueVal}, relative error={errRel}\")\n"
   ]
  },
  {
   "cell_type": "markdown",
   "id": "0205da67-2ed7-4f56-beb7-33b5e38b8216",
   "metadata": {},
   "source": [
    "## Esercizio 9\n",
    "Calcolare l'approssimazione della derivata prima di f(x) = sin(x) in x = 1\n",
    "mediante l'algoritmo del rapporto incrementale (f(x + h) - f(x))/h per valori decrescenti\n",
    "di h, confrontandolo con il valore fornito dalla funzione di libreria per f'(x)\n",
    "mediante calcolo dell'errore relativo."
   ]
  },
  {
   "cell_type": "code",
   "execution_count": null,
   "metadata": {},
   "outputs": [],
   "source": []
  }
 ],
 "metadata": {
  "kernelspec": {
   "display_name": "Python 3 (ipykernel)",
   "language": "python",
   "name": "python3"
  },
  "language_info": {
   "codemirror_mode": {
    "name": "ipython",
    "version": 3
   },
   "file_extension": ".py",
   "mimetype": "text/x-python",
   "name": "python",
   "nbconvert_exporter": "python",
   "pygments_lexer": "ipython3",
   "version": "3.11.2"
  }
 },
 "nbformat": 4,
 "nbformat_minor": 5
}
