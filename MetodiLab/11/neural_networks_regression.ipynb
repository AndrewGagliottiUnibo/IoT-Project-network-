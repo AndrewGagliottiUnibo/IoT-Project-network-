{
  "cells": [
    {
      "cell_type": "code",
      "execution_count": 4,
      "metadata": {
        "id": "Fqs1bZ3q3NKi"
      },
      "outputs": [],
      "source": [
        "import tensorflow as tf\n",
        "from tensorflow import keras\n",
        "from tensorflow.keras import layers, regularizers\n",
        "import numpy as np\n",
        "import matplotlib.pyplot as plt\n",
        "import math"
      ]
    },
    {
      "attachments": {},
      "cell_type": "markdown",
      "metadata": {
        "id": "lB19h5MbMUap"
      },
      "source": [
        "# Predizione della qualità di un vino partendo da risultati di test fisico-chimici\n",
        "Il dataset è disponibile pubblicamente online (https://archive.ics.uci.edu/ml/datasets/Wine+Quality) e viene fornito (per rapidità/semplicità) in formato numpy (.npz) per quest'esercitazione (winequality-white.npz e winequality-red.npz). \n",
        "\n",
        "E' un semplice problema di regressione che si basa sul pacchetto tensorflow di python che è usata per progettare e addestrare reti neurali di python. Keras è un pacchetto introduttivo che si basa su tensorflow. Una alternativa sarebbe pytorch.\n",
        "\n",
        "La matrice fornita nella variabile x ha dimensioni Nobs x 11 (vini bianchi: Nobs=4898; vini rossi: Nobs=1599). Le righe rappresentano le diverse osservazioni, mentre le colonne rappresentano le feature:\n",
        "```\n",
        "1 - fixed acidity\n",
        "2 - volatile acidity\n",
        "3 - citric acid\n",
        "4 - residual sugar\n",
        "5 - chlorides\n",
        "6 - free sulfur dioxide\n",
        "7 - total sulfur dioxide\n",
        "8 - density\n",
        "9 - pH\n",
        "10 - sulphates\n",
        "11 - alcohol\n",
        "```\n",
        "I valori contenuti nel vettore y (contenente Nobs valori) rappresentano un indice di qualità (output feature), che varia tra 0-10. Il task di regressione consiste nella predizione dell'indice di qualità a partire dalle 11 input feature.\n",
        "\n",
        "1.   Caricare il dataset winequality-red.npz, dividerlo in un training (80%) set e test set (20%) e standardizzare i dati impiegando valor medio e deviazione standard del training set\n",
        "2.   Creare una multi-layer perceptron (MLP) con 2 strati nascosti con 64 unità ciascuno (rectified linear units, ReLU come funzione di attivazione).\n",
        "3. Addestrare il modello per 250 epoche impiegando l'ottimizzatore Stochastic Gradient Descent (learning rate=1e-3, batch size=64) e la funzione costo Mean Squared Error. Testare il modello sul test set.\n",
        "4. Visualizzare l'errore valutato sul training set in funzione delle epoche di addestramento.\n",
        "\n"
      ]
    },
    {
      "cell_type": "code",
      "execution_count": 5,
      "metadata": {
        "id": "jnanDAeXWrK5"
      },
      "outputs": [
        {
          "name": "stdout",
          "output_type": "stream",
          "text": [
            "(4898, 11)\n",
            "(4898,)\n",
            "Number of input features: 11\n",
            "Number of total examples: 4898\n",
            "Training set number of examples: 3918\n",
            "Test set number of examples: 980\n",
            "Model: \"MLP\"\n",
            "_________________________________________________________________\n",
            " Layer (type)                Output Shape              Param #   \n",
            "=================================================================\n",
            " input_features (InputLayer)  [(None, 11)]             0         \n",
            "                                                                 \n",
            " dense_layer0 (Dense)        (None, 64)                768       \n",
            "                                                                 \n",
            " dense_layer1 (Dense)        (None, 64)                4160      \n",
            "                                                                 \n",
            " dense_layer_output (Dense)  (None, 1)                 65        \n",
            "                                                                 \n",
            "=================================================================\n",
            "Total params: 4,993\n",
            "Trainable params: 4,993\n",
            "Non-trainable params: 0\n",
            "_________________________________________________________________\n"
          ]
        },
        {
          "data": {
            "image/png": "[encoded data removed]",
            "text/plain": [
              "<Figure size 640x480 with 1 Axes>"
            ]
          },
          "metadata": {},
          "output_type": "display_data"
        }
      ],
      "source": [
        "# Prepare the dataset.\n",
        "#data = np.load('winequality-red.npz') # /path/to/winequality-red.npz\n",
        "data = np.load('winequality-white.npz') # /path/to/winequality-red.npz\n",
        "x = data['x']\n",
        "y = data['y']\n",
        "print(x.shape)\n",
        "print(y.shape)\n",
        "plt.hist(y)\n",
        "ntot_examples = x.shape[0]\n",
        "nfeatures = x.shape[-1]\n",
        "nexamples = math.floor(0.8*ntot_examples)\n",
        "\n",
        "print('Number of input features: {0}'.format(nfeatures))\n",
        "print('Number of total examples: {0}'.format(ntot_examples))\n",
        "print('Training set number of examples: {0}'.format(nexamples))\n",
        "print('Test set number of examples: {0}'.format(ntot_examples-nexamples))\n",
        "x_train = x[:nexamples,:]\n",
        "y_train = y[:nexamples]\n",
        "\n",
        "x_test = x[nexamples:, :]\n",
        "y_test = y[nexamples:]\n",
        "\n",
        "mean_train = x_train.mean(axis=0)\n",
        "std_train = x_train.std(axis=0)\n",
        "x_train -= mean_train\n",
        "x_train /= std_train\n",
        "x_test -= mean_train\n",
        "x_test /= std_train\n",
        "\n",
        "# Model design. \n",
        "inputs = keras.Input(shape=(nfeatures,), name=\"input_features\")\n",
        "x1 = layers.Dense(64, activation=\"relu\", kernel_regularizer=regularizers.L2(1e-4), bias_regularizer=regularizers.L2(1e-4),name='dense_layer0')(inputs)\n",
        "x2 = layers.Dense(64, activation=\"relu\", kernel_regularizer=regularizers.L2(1e-4), bias_regularizer=regularizers.L2(1e-4),name='dense_layer1')(x1)\n",
        "outputs = layers.Dense(1, name=\"dense_layer_output\")(x2)\n",
        "model = keras.Model(inputs=inputs, outputs=outputs, name='MLP')\n",
        "model.summary()\n",
        "# Instantiate an optimizer.\n",
        "optimizer = keras.optimizers.SGD(learning_rate=1e-3)\n",
        "# Instantiate a loss function.\n",
        "loss_fn = tf.keras.losses.MeanSquaredError()"
      ]
    },
    {
      "cell_type": "code",
      "execution_count": 6,
      "metadata": {
        "id": "sRQ-eOXS_s2-"
      },
      "outputs": [
        {
          "name": "stdout",
          "output_type": "stream",
          "text": [
            "Number of batches (3918 examples, 64 mini-batch size): 62, first: [0, 64], last: [3904, 3918]\n",
            "Epoch 0, train loss: 16.01219367980957\n",
            "Epoch 1, train loss: 3.06469988822937\n",
            "Epoch 2, train loss: 2.289238452911377\n",
            "Epoch 3, train loss: 1.9199076890945435\n",
            "Epoch 4, train loss: 1.729322910308838\n",
            "Epoch 5, train loss: 1.6091821193695068\n",
            "Epoch 6, train loss: 1.5057059526443481\n",
            "Epoch 7, train loss: 1.411435842514038\n",
            "Epoch 8, train loss: 1.342186450958252\n",
            "Epoch 9, train loss: 1.263419508934021\n",
            "Epoch 10, train loss: 1.199083685874939\n",
            "Epoch 11, train loss: 1.1608339548110962\n",
            "Epoch 12, train loss: 1.0968328714370728\n",
            "Epoch 13, train loss: 1.0503016710281372\n",
            "Epoch 14, train loss: 1.0119848251342773\n",
            "Epoch 15, train loss: 0.9887123703956604\n",
            "Epoch 16, train loss: 0.9307307004928589\n",
            "Epoch 17, train loss: 0.9030322432518005\n",
            "Epoch 18, train loss: 0.8744866847991943\n",
            "Epoch 19, train loss: 0.8434885144233704\n",
            "Epoch 20, train loss: 0.8229542374610901\n",
            "Epoch 21, train loss: 0.8471213579177856\n",
            "Epoch 22, train loss: 0.774967610836029\n",
            "Epoch 23, train loss: 0.7556905150413513\n",
            "Epoch 24, train loss: 0.7365131378173828\n",
            "Epoch 25, train loss: 0.7157151103019714\n",
            "Epoch 26, train loss: 0.7021323442459106\n",
            "Epoch 27, train loss: 0.6829892992973328\n",
            "Epoch 28, train loss: 0.6747766137123108\n",
            "Epoch 29, train loss: 0.6614879965782166\n",
            "Epoch 30, train loss: 0.6598228812217712\n",
            "Epoch 31, train loss: 0.6389895081520081\n",
            "Epoch 32, train loss: 0.6350027322769165\n",
            "Epoch 33, train loss: 0.6146079897880554\n",
            "Epoch 34, train loss: 0.6100115180015564\n",
            "Epoch 35, train loss: 0.6063979864120483\n",
            "Epoch 36, train loss: 0.5948948264122009\n",
            "Epoch 37, train loss: 0.5863606333732605\n",
            "Epoch 38, train loss: 0.5838315486907959\n",
            "Epoch 39, train loss: 0.5734285116195679\n",
            "Epoch 40, train loss: 0.5793473124504089\n",
            "Epoch 41, train loss: 0.5635502934455872\n",
            "Epoch 42, train loss: 0.5629411935806274\n",
            "Epoch 43, train loss: 0.5638260245323181\n",
            "Epoch 44, train loss: 0.554290235042572\n",
            "Epoch 45, train loss: 0.5489314198493958\n",
            "Epoch 46, train loss: 0.5469313263893127\n",
            "Epoch 47, train loss: 0.5450878739356995\n",
            "Epoch 48, train loss: 0.5417678952217102\n",
            "Epoch 49, train loss: 0.5482566952705383\n"
          ]
        }
      ],
      "source": [
        "nepochs = 50#250\n",
        "bs = 64\n",
        "nexamples = x_train.shape[0]\n",
        "\n",
        "idx_start = np.arange(0, x_train.shape[0], bs)\n",
        "idx_stop = np.roll(idx_start, shift=-1)\n",
        "idx_stop[-1] = x_train.shape[0]\n",
        "\n",
        "nbatches = idx_start.shape[0]\n",
        "print('Number of batches ({0} examples, {1} mini-batch size): {2}, first: {3}, last: {4}'.format(nexamples, bs, nbatches, \n",
        "                                                             [idx_start[0], idx_stop[0]],\n",
        "                                                             [idx_start[-1], idx_stop[-1]]))\n",
        "seed = 1234\n",
        "np.random.seed(seed)\n",
        "\n",
        "rmse_fn = tf.keras.metrics.RootMeanSquaredError()\n",
        "mae_fn = tf.keras.metrics.MeanAbsoluteError()\n",
        "# Iterate over epochs.\n",
        "train_losses = []\n",
        "for epoch in np.arange(nepochs):\n",
        "    # Shuffling training data at the start of each epoch\n",
        "    idx = np.arange(x_train.shape[0])\n",
        "    np.random.shuffle(idx)\n",
        "    loss = []\n",
        "    # Iterate over the batches of the dataset.\n",
        "    for step in np.arange(nbatches):\n",
        "        # Extracting mini-batch.\n",
        "        idx_batch = idx[idx_start[step]: idx_stop[step]]\n",
        "        x_batch_train = x_train[idx_batch, :]\n",
        "        y_batch_train = y_train[idx_batch]\n",
        "        # Converting numpy arrays to tensorflow tensors.\n",
        "        x_batch_train = tf.convert_to_tensor(x_batch_train)\n",
        "        y_batch_train = tf.convert_to_tensor(y_batch_train)\n",
        "        # Open a GradientTape to record the operations run during the forward-pass, which enables auto-differentiation.\n",
        "        with tf.GradientTape() as tape:\n",
        "            # Run the forward-pass of the layer.\n",
        "            preds = model(x_batch_train, training=True)\n",
        "            # Compute the loss value for this minibatch.\n",
        "            loss_value = loss_fn(y_batch_train, preds)\n",
        "        # Use the gradient tape to automatically retrieve the gradients of loss with respect to the trainable parameters.\n",
        "        grads = tape.gradient(loss_value, model.trainable_weights)\n",
        "        # Run one step of gradient descent by updating the value of the variables to minimize the loss.\n",
        "        optimizer.apply_gradients(zip(grads, model.trainable_weights))\n",
        "\n",
        "        loss.append(loss_value)\n",
        "    train_loss = np.mean(loss)  # Averaging mini-batch losses\n",
        "    print('Epoch {0}, train loss: {1}'.format(epoch, train_loss))\n",
        "    train_losses.append(train_loss)"
      ]
    },
    {
      "cell_type": "code",
      "execution_count": 7,
      "metadata": {
        "id": "4NechlZjQWgL"
      },
      "outputs": [
        {
          "data": {
            "text/plain": [
              "Text(0, 0.5, 'MSE (log)')"
            ]
          },
          "execution_count": 7,
          "metadata": {},
          "output_type": "execute_result"
        },
        {
          "data": {
            "image/png": "[encoded data removed]",
            "text/plain": [
              "<Figure size 640x480 with 1 Axes>"
            ]
          },
          "metadata": {},
          "output_type": "display_data"
        }
      ],
      "source": [
        "plt.semilogy(np.arange(nepochs), train_losses, 'k')\n",
        "plt.xlabel('Epoche')\n",
        "plt.ylabel('MSE (log)')"
      ]
    },
    {
      "cell_type": "code",
      "execution_count": 8,
      "metadata": {
        "id": "IwfiMWVeQUUy"
      },
      "outputs": [
        {
          "name": "stdout",
          "output_type": "stream",
          "text": [
            "Test RMSE: 0.7307354807853699, test MAE: 0.5651485919952393\n"
          ]
        }
      ],
      "source": [
        "# Network evaluation at each epoch on both training and test set (alla fine ultima!!)\n",
        "preds = model(x_train, training=False)\n",
        "train_rmse = rmse_fn(preds, tf.convert_to_tensor(y_train))\n",
        "train_mae = mae_fn(preds, tf.convert_to_tensor(y_train))\n",
        "\n",
        "preds = model(x_test, training=False)\n",
        "test_rmse = rmse_fn(preds, tf.convert_to_tensor(y_test))\n",
        "test_mae = mae_fn(preds, tf.convert_to_tensor(y_test))\n",
        "\n",
        "print('Test RMSE: {0}, test MAE: {1}'.format(test_rmse, test_mae))\n"
      ]
    },
    {
      "cell_type": "code",
      "execution_count": 9,
      "metadata": {
        "id": "GgwxYKPW9yJ1"
      },
      "outputs": [
        {
          "name": "stdout",
          "output_type": "stream",
          "text": [
            "Model: \"MLP\"\n",
            "_________________________________________________________________\n",
            " Layer (type)                Output Shape              Param #   \n",
            "=================================================================\n",
            " input_features (InputLayer)  [(None, 11)]             0         \n",
            "                                                                 \n",
            " dense_layer0 (Dense)        (None, 64)                768       \n",
            "                                                                 \n",
            " dense_layer1 (Dense)        (None, 64)                4160      \n",
            "                                                                 \n",
            " dense_layer_output (Dense)  (None, 1)                 65        \n",
            "                                                                 \n",
            "=================================================================\n",
            "Total params: 4,993\n",
            "Trainable params: 4,993\n",
            "Non-trainable params: 0\n",
            "_________________________________________________________________\n",
            "Epoch 1/50\n",
            "62/62 [==============================] - 1s 2ms/step - loss: 19.4990 - root_mean_squared_error: 2.9931 - mean_absolute_error: 4.0813\n",
            "Epoch 2/50\n",
            "62/62 [==============================] - 0s 1ms/step - loss: 3.3510 - root_mean_squared_error: 1.8282 - mean_absolute_error: 1.4562\n",
            "Epoch 3/50\n",
            "62/62 [==============================] - 0s 1ms/step - loss: 2.4389 - root_mean_squared_error: 1.5589 - mean_absolute_error: 1.2014\n",
            "Epoch 4/50\n",
            "62/62 [==============================] - 0s 1ms/step - loss: 2.0489 - root_mean_squared_error: 1.4284 - mean_absolute_error: 1.0960\n",
            "Epoch 5/50\n",
            "62/62 [==============================] - 0s 1ms/step - loss: 1.7959 - root_mean_squared_error: 1.3369 - mean_absolute_error: 1.0196\n",
            "Epoch 6/50\n",
            "62/62 [==============================] - 0s 1ms/step - loss: 1.6179 - root_mean_squared_error: 1.2685 - mean_absolute_error: 0.9664\n",
            "Epoch 7/50\n",
            "62/62 [==============================] - 0s 1ms/step - loss: 1.4868 - root_mean_squared_error: 1.2158 - mean_absolute_error: 0.9260\n",
            "Epoch 8/50\n",
            "62/62 [==============================] - 0s 1ms/step - loss: 1.3836 - root_mean_squared_error: 1.1726 - mean_absolute_error: 0.8951\n",
            "Epoch 9/50\n",
            "62/62 [==============================] - 0s 1ms/step - loss: 1.2988 - root_mean_squared_error: 1.1358 - mean_absolute_error: 0.8677\n",
            "Epoch 10/50\n",
            "62/62 [==============================] - 0s 1ms/step - loss: 1.2251 - root_mean_squared_error: 1.1029 - mean_absolute_error: 0.8425\n",
            "Epoch 11/50\n",
            "62/62 [==============================] - 0s 1ms/step - loss: 1.1635 - root_mean_squared_error: 1.0746 - mean_absolute_error: 0.8219\n",
            "Epoch 12/50\n",
            "62/62 [==============================] - 0s 1ms/step - loss: 1.1089 - root_mean_squared_error: 1.0489 - mean_absolute_error: 0.8024\n",
            "Epoch 13/50\n",
            "62/62 [==============================] - 0s 1ms/step - loss: 1.0594 - root_mean_squared_error: 1.0251 - mean_absolute_error: 0.7854\n",
            "Epoch 14/50\n",
            "62/62 [==============================] - 0s 1ms/step - loss: 1.0163 - root_mean_squared_error: 1.0038 - mean_absolute_error: 0.7691\n",
            "Epoch 15/50\n",
            "62/62 [==============================] - 0s 1ms/step - loss: 0.9756 - root_mean_squared_error: 0.9833 - mean_absolute_error: 0.7548\n",
            "Epoch 16/50\n",
            "62/62 [==============================] - 0s 1ms/step - loss: 0.9394 - root_mean_squared_error: 0.9648 - mean_absolute_error: 0.7402\n",
            "Epoch 17/50\n",
            "62/62 [==============================] - 0s 1ms/step - loss: 0.9059 - root_mean_squared_error: 0.9473 - mean_absolute_error: 0.7278\n",
            "Epoch 18/50\n",
            "62/62 [==============================] - 0s 1ms/step - loss: 0.8753 - root_mean_squared_error: 0.9309 - mean_absolute_error: 0.7149\n",
            "Epoch 19/50\n",
            "62/62 [==============================] - 0s 1ms/step - loss: 0.8481 - root_mean_squared_error: 0.9162 - mean_absolute_error: 0.7041\n",
            "Epoch 20/50\n",
            "62/62 [==============================] - 0s 1ms/step - loss: 0.8225 - root_mean_squared_error: 0.9021 - mean_absolute_error: 0.6933\n",
            "Epoch 21/50\n",
            "62/62 [==============================] - 0s 1ms/step - loss: 0.7993 - root_mean_squared_error: 0.8892 - mean_absolute_error: 0.6839\n",
            "Epoch 22/50\n",
            "62/62 [==============================] - 0s 1ms/step - loss: 0.7784 - root_mean_squared_error: 0.8774 - mean_absolute_error: 0.6745\n",
            "Epoch 23/50\n",
            "62/62 [==============================] - 0s 1ms/step - loss: 0.7586 - root_mean_squared_error: 0.8660 - mean_absolute_error: 0.6663\n",
            "Epoch 24/50\n",
            "62/62 [==============================] - 0s 1ms/step - loss: 0.7411 - root_mean_squared_error: 0.8558 - mean_absolute_error: 0.6585\n",
            "Epoch 25/50\n",
            "62/62 [==============================] - 0s 1ms/step - loss: 0.7240 - root_mean_squared_error: 0.8457 - mean_absolute_error: 0.6513\n",
            "Epoch 26/50\n",
            "62/62 [==============================] - 0s 1ms/step - loss: 0.7095 - root_mean_squared_error: 0.8372 - mean_absolute_error: 0.6454\n",
            "Epoch 27/50\n",
            "62/62 [==============================] - 0s 1ms/step - loss: 0.6953 - root_mean_squared_error: 0.8287 - mean_absolute_error: 0.6389\n",
            "Epoch 28/50\n",
            "62/62 [==============================] - 0s 1ms/step - loss: 0.6823 - root_mean_squared_error: 0.8208 - mean_absolute_error: 0.6331\n",
            "Epoch 29/50\n",
            "62/62 [==============================] - 0s 1ms/step - loss: 0.6704 - root_mean_squared_error: 0.8135 - mean_absolute_error: 0.6278\n",
            "Epoch 30/50\n",
            "62/62 [==============================] - 0s 1ms/step - loss: 0.6598 - root_mean_squared_error: 0.8069 - mean_absolute_error: 0.6226\n",
            "Epoch 31/50\n",
            "62/62 [==============================] - 0s 1ms/step - loss: 0.6497 - root_mean_squared_error: 0.8007 - mean_absolute_error: 0.6179\n",
            "Epoch 32/50\n",
            "62/62 [==============================] - 0s 1ms/step - loss: 0.6403 - root_mean_squared_error: 0.7948 - mean_absolute_error: 0.6137\n",
            "Epoch 33/50\n",
            "62/62 [==============================] - 0s 1ms/step - loss: 0.6324 - root_mean_squared_error: 0.7897 - mean_absolute_error: 0.6096\n",
            "Epoch 34/50\n",
            "62/62 [==============================] - 0s 1ms/step - loss: 0.6243 - root_mean_squared_error: 0.7846 - mean_absolute_error: 0.6057\n",
            "Epoch 35/50\n",
            "62/62 [==============================] - 0s 1ms/step - loss: 0.6170 - root_mean_squared_error: 0.7800 - mean_absolute_error: 0.6025\n",
            "Epoch 36/50\n",
            "62/62 [==============================] - 0s 1ms/step - loss: 0.6104 - root_mean_squared_error: 0.7757 - mean_absolute_error: 0.5992\n",
            "Epoch 37/50\n",
            "62/62 [==============================] - 0s 1ms/step - loss: 0.6037 - root_mean_squared_error: 0.7714 - mean_absolute_error: 0.5958\n",
            "Epoch 38/50\n",
            "62/62 [==============================] - 0s 1ms/step - loss: 0.5983 - root_mean_squared_error: 0.7678 - mean_absolute_error: 0.5931\n",
            "Epoch 39/50\n",
            "62/62 [==============================] - 0s 1ms/step - loss: 0.5921 - root_mean_squared_error: 0.7638 - mean_absolute_error: 0.5908\n",
            "Epoch 40/50\n",
            "62/62 [==============================] - 0s 1ms/step - loss: 0.5870 - root_mean_squared_error: 0.7605 - mean_absolute_error: 0.5872\n",
            "Epoch 41/50\n",
            "62/62 [==============================] - 0s 1ms/step - loss: 0.5825 - root_mean_squared_error: 0.7575 - mean_absolute_error: 0.5852\n",
            "Epoch 42/50\n",
            "62/62 [==============================] - 0s 1ms/step - loss: 0.5779 - root_mean_squared_error: 0.7545 - mean_absolute_error: 0.5829\n",
            "Epoch 43/50\n",
            "62/62 [==============================] - 0s 1ms/step - loss: 0.5737 - root_mean_squared_error: 0.7516 - mean_absolute_error: 0.5806\n",
            "Epoch 44/50\n",
            "62/62 [==============================] - 0s 1ms/step - loss: 0.5694 - root_mean_squared_error: 0.7488 - mean_absolute_error: 0.5780\n",
            "Epoch 45/50\n",
            "62/62 [==============================] - 0s 2ms/step - loss: 0.5660 - root_mean_squared_error: 0.7465 - mean_absolute_error: 0.5765\n",
            "Epoch 46/50\n",
            "62/62 [==============================] - 0s 1ms/step - loss: 0.5630 - root_mean_squared_error: 0.7445 - mean_absolute_error: 0.5755\n",
            "Epoch 47/50\n",
            "62/62 [==============================] - 0s 1ms/step - loss: 0.5595 - root_mean_squared_error: 0.7422 - mean_absolute_error: 0.5736\n",
            "Epoch 48/50\n",
            "62/62 [==============================] - 0s 1ms/step - loss: 0.5567 - root_mean_squared_error: 0.7403 - mean_absolute_error: 0.5719\n",
            "Epoch 49/50\n",
            "62/62 [==============================] - 0s 1ms/step - loss: 0.5540 - root_mean_squared_error: 0.7384 - mean_absolute_error: 0.5708\n",
            "Epoch 50/50\n",
            "62/62 [==============================] - 0s 1ms/step - loss: 0.5515 - root_mean_squared_error: 0.7367 - mean_absolute_error: 0.5695\n"
          ]
        },
        {
          "data": {
            "text/plain": [
              "<keras.callbacks.History at 0x163ae90c8d0>"
            ]
          },
          "execution_count": 9,
          "metadata": {},
          "output_type": "execute_result"
        }
      ],
      "source": [
        "# Model design. \n",
        "inputs = keras.Input(shape=(nfeatures,), name=\"input_features\")\n",
        "x1 = layers.Dense(64, activation=\"relu\", kernel_regularizer=regularizers.L2(1e-4), bias_regularizer=regularizers.L2(1e-4),name='dense_layer0')(inputs)\n",
        "x2 = layers.Dense(64, activation=\"relu\", kernel_regularizer=regularizers.L2(1e-4), bias_regularizer=regularizers.L2(1e-4),name='dense_layer1')(x1)\n",
        "outputs = layers.Dense(1, name=\"dense_layer_output\")(x2)\n",
        "model = keras.Model(inputs=inputs, outputs=outputs, name='MLP')\n",
        "model.summary()\n",
        "# Instantiate an optimizer.\n",
        "optimizer = keras.optimizers.SGD(learning_rate=1e-3)\n",
        "# Instantiate a loss function.\n",
        "loss_fn = tf.keras.losses.MeanSquaredError()\n",
        "\n",
        "model.compile(optimizer=optimizer,\n",
        "              loss=loss_fn,\n",
        "              metrics=[rmse_fn,mae_fn])\n",
        "model.fit(x=x_train,y=y_train,batch_size=bs,\n",
        "          epochs=50,#250\n",
        "          shuffle=True,\n",
        ")"
      ]
    },
    {
      "cell_type": "code",
      "execution_count": 10,
      "metadata": {
        "id": "VlBigV4BR9XF"
      },
      "outputs": [
        {
          "name": "stdout",
          "output_type": "stream",
          "text": [
            "Test RMSE: 0.7325215339660645, test MAE: 0.569504976272583\n"
          ]
        }
      ],
      "source": [
        "# Network evaluation at each epoch on both training and test set (alla fine ultima!!)\n",
        "preds = model(x_train, training=False)\n",
        "train_rmse = rmse_fn(preds, tf.convert_to_tensor(y_train))\n",
        "train_mae = mae_fn(preds, tf.convert_to_tensor(y_train))\n",
        "\n",
        "preds = model(x_test, training=False)\n",
        "test_rmse = rmse_fn(preds, tf.convert_to_tensor(y_test))\n",
        "test_mae = mae_fn(preds, tf.convert_to_tensor(y_test))\n",
        "\n",
        "print('Test RMSE: {0}, test MAE: {1}'.format(test_rmse, test_mae))"
      ]
    }
  ],
  "metadata": {
    "accelerator": "GPU",
    "colab": {
      "gpuType": "T4",
      "private_outputs": true,
      "provenance": []
    },
    "gpuClass": "standard",
    "kernelspec": {
      "display_name": "Python 3 (ipykernel)",
      "language": "python",
      "name": "python3"
    },
    "language_info": {
      "codemirror_mode": {
        "name": "ipython",
        "version": 3
      },
      "file_extension": ".py",
      "mimetype": "text/x-python",
      "name": "python",
      "nbconvert_exporter": "python",
      "pygments_lexer": "ipython3",
      "version": "3.11.2"
    }
  },
  "nbformat": 4,
  "nbformat_minor": 0
}
