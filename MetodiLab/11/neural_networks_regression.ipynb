{
 "cells": [
  {
   "cell_type": "code",
   "execution_count": 42,
   "metadata": {
    "id": "Fqs1bZ3q3NKi"
   },
   "outputs": [],
   "source": [
    "import tensorflow as tf\n",
    "from tensorflow import keras\n",
    "from tensorflow.keras import layers, regularizers\n",
    "import numpy as np\n",
    "import matplotlib.pyplot as plt\n",
    "import math"
   ]
  },
  {
   "attachments": {},
   "cell_type": "markdown",
   "metadata": {
    "id": "lB19h5MbMUap"
   },
   "source": [
    "# Predizione della qualità di un vino partendo da risultati di test fisico-chimici\n",
    "Il dataset è disponibile pubblicamente online (https://archive.ics.uci.edu/ml/datasets/Wine+Quality) e viene fornito (per rapidità/semplicità) in formato numpy (.npz) per quest'esercitazione (winequality-white.npz e winequality-red.npz). \n",
    "\n",
    "La matrice fornita nella variabile x ha dimensioni Nobs x 11 (vini bianchi: Nobs=4898; vini rossi: Nobs=1599). Le righe rappresentano le diverse osservazioni, mentre le colonne rappresentano le feature:\n",
    "```\n",
    "1 - fixed acidity\n",
    "2 - volatile acidity\n",
    "3 - citric acid\n",
    "4 - residual sugar\n",
    "5 - chlorides\n",
    "6 - free sulfur dioxide\n",
    "7 - total sulfur dioxide\n",
    "8 - density\n",
    "9 - pH\n",
    "10 - sulphates\n",
    "11 - alcohol\n",
    "```\n",
    "I valori contenuti nel vettore y (contenente Nobs valori) rappresentano un indice di qualità (output feature), che varia tra 0-10. Il task di regressione consiste nella predizione dell'indice di qualità a partire dalle 11 input feature.\n",
    "\n",
    "1.   Caricare il dataset winequality-red.npz, dividerlo in un training (80%) set e test set (20%) e standardizzare i dati impiegando valor medio e deviazione standard del training set\n",
    "2.   Creare un multi-layer perceptron (MLP) con 2 strati nascosti con 64 unità ciascuno (rectified linear units, ReLU come funzione di attivazione).\n",
    "3. Addestrare il modello per 250 epoche impiegando l'ottimizzatore Stochastic Gradient Descent (learning rate=1e-3, batch size=64) e la funzione costo Mean Squared Error. Testare il modello sul test set.\n",
    "4. Visualizzare l'errore valutato sul training set in funzione delle epoche di addestramento.\n",
    "\n"
   ]
  },
  {
   "cell_type": "code",
   "execution_count": 43,
   "metadata": {
    "id": "SqQuZr25exBY"
   },
   "outputs": [
    {
     "name": "stdout",
     "output_type": "stream",
     "text": [
      "(1599, 11)\n",
      "(1599,)\n"
     ]
    }
   ],
   "source": [
    "# Prepare the dataset.\n",
    "\n",
    "data = np.load('winequality-red.npz') # /path/to/winequality-red.npz\n",
    "x = data['x']\n",
    "y = data['y']\n",
    "print(x.shape)\n",
    "print(y.shape)"
   ]
  },
  {
   "cell_type": "code",
   "execution_count": 44,
   "metadata": {
    "id": "jnanDAeXWrK5"
   },
   "outputs": [
    {
     "name": "stdout",
     "output_type": "stream",
     "text": [
      "(1599, 11)\n",
      "(1599,)\n",
      "Number of input features: 11\n",
      "Number of total examples: 1599\n",
      "Training set number of examples: 1279\n",
      "Test set number of examples: 320\n",
      "Model: \"MLP\"\n",
      "_________________________________________________________________\n",
      " Layer (type)                Output Shape              Param #   \n",
      "=================================================================\n",
      " input_features (InputLayer)  [(None, 11)]             0         \n",
      "                                                                 \n",
      " dense_layer0 (Dense)        (None, 64)                768       \n",
      "                                                                 \n",
      " dense_layer1 (Dense)        (None, 64)                4160      \n",
      "                                                                 \n",
      " dense_layer2 (Dense)        (None, 64)                4160      \n",
      "                                                                 \n",
      " dense_layer_output (Dense)  (None, 1)                 65        \n",
      "                                                                 \n",
      "=================================================================\n",
      "Total params: 9,153\n",
      "Trainable params: 9,153\n",
      "Non-trainable params: 0\n",
      "_________________________________________________________________\n"
     ]
    },
    {
     "data": {
      "image/png": "[encoded data removed]",
      "text/plain": [
       "<Figure size 640x480 with 1 Axes>"
      ]
     },
     "metadata": {},
     "output_type": "display_data"
    }
   ],
   "source": [
    "# Prepare the dataset.\n",
    "data = np.load('winequality-red.npz') # /path/to/winequality-red.npz\n",
    "x = data['x']\n",
    "y = data['y']\n",
    "print(x.shape)\n",
    "print(y.shape)\n",
    "plt.hist(y)\n",
    "ntot_examples = x.shape[0]\n",
    "nfeatures = x.shape[-1]\n",
    "nexamples = math.floor(0.8*ntot_examples)\n",
    "\n",
    "print('Number of input features: {0}'.format(nfeatures))\n",
    "print('Number of total examples: {0}'.format(ntot_examples))\n",
    "print('Training set number of examples: {0}'.format(nexamples))\n",
    "print('Test set number of examples: {0}'.format(ntot_examples-nexamples))\n",
    "x_train = x[:nexamples,:]\n",
    "y_train = y[:nexamples]\n",
    "\n",
    "x_test = x[nexamples:, :]\n",
    "y_test = y[nexamples:]\n",
    "\n",
    "mean_train = x_train.mean(axis=0) # osserv. x feature\n",
    "std_train = x_train.std(axis=0)\n",
    "x_train -= mean_train\n",
    "x_train /= std_train\n",
    "x_test -= mean_train\n",
    "x_test /= std_train\n",
    "\n",
    "# Model design.  (keras (tensorflow), tensorflow, pytorch)\n",
    "inputs = keras.Input(shape=(nfeatures,), name=\"input_features\")\n",
    "# Posso diminuire anche il numero di unita'\n",
    "#x1 = layers.Dense(64, activation=\"relu\", kernel_regularizer=regularizers.L2(1e-4), bias_regularizer=regularizers.L2(1e-4),name='dense_layer0')(inputs)\n",
    "x1 = layers.Dense(64, activation=\"relu\", kernel_regularizer=regularizers.L2(1e-4), bias_regularizer=regularizers.L2(1e-4),name='dense_layer0')(inputs)\n",
    "x2 = layers.Dense(64, activation=\"relu\", kernel_regularizer=regularizers.L2(1e-4), bias_regularizer=regularizers.L2(1e-4),name='dense_layer1')(x1)\n",
    "x3 = layers.Dense(64, activation=\"relu\", kernel_regularizer=regularizers.L2(1e-4), bias_regularizer=regularizers.L2(1e-4),name='dense_layer2')(x2)\n",
    "outputs = layers.Dense(1, name=\"dense_layer_output\")(x3)\n",
    "model = keras.Model(inputs=inputs, outputs=outputs, name='MLP')\n",
    "model.summary()\n",
    "# Instantiate an optimizer.\n",
    "# Momentum per superare i minimi locali per favorire la convergenza al minimo assoluto\n",
    "# e nel minimo tempo possibile\n",
    "#optimizer = keras.optimizers.SGD(learning_rate=1e-3, momentum=0.9)# , momentum=0.9\n",
    "\n",
    "# Uso ADAM\n",
    "optimizer = keras.optimizers.Adam(learning_rate=1e-3)# , momentum=0.9\n",
    "# Instantiate a loss function.\n",
    "loss_fn = tf.keras.losses.MeanSquaredError()"
   ]
  },
  {
   "cell_type": "code",
   "execution_count": 45,
   "metadata": {
    "id": "bnCPPEDSrqL9"
   },
   "outputs": [
    {
     "name": "stdout",
     "output_type": "stream",
     "text": [
      "Number of batches (1279 examples, 64 mini-batch size): 20, first: [0, 64], last: [1216, 1279]\n"
     ]
    }
   ],
   "source": [
    "nepochs = 50#250\n",
    "bs = 64\n",
    "nexamples = x_train.shape[0]\n",
    "\n",
    "idx_start = np.arange(0, x_train.shape[0], bs)\n",
    "idx_stop = np.roll(idx_start, shift=-1)\n",
    "idx_stop[-1] = x_train.shape[0]\n",
    "\n",
    "nbatches = idx_start.shape[0]\n",
    "# x_train: (1279, 11)\n",
    "# epoca 1\n",
    "# mini-batch 1: [0, 64] 64 esempi, 1 iterazione\n",
    "# mini-batch 2: [64, 128] 64 esempi, 2 iterazione\n",
    "# ...\n",
    "# mini-batch 20: [1216, 1279] <64 esempi (1279 non divisibile 64), 20ma iterazione\n",
    "\n",
    "# epoca 2\n",
    "# mini-batch 1: [0, 64] 64 esempi, 1 iterazione\n",
    "#...\n",
    "# mini-batch 20: [1216, 1279] <64 esempi (1279 non divisibile 64), 20ma iterazione\n",
    "#...\n",
    "\n",
    "# epoca 50\n",
    "print('Number of batches ({0} examples, {1} mini-batch size): {2}, first: {3}, last: {4}'.format(nexamples, bs, nbatches, \n",
    "                                                             [idx_start[0], idx_stop[0]],\n",
    "                                                             [idx_start[-1], idx_stop[-1]]))"
   ]
  },
  {
   "cell_type": "code",
   "execution_count": 46,
   "metadata": {
    "id": "sRQ-eOXS_s2-"
   },
   "outputs": [
    {
     "name": "stdout",
     "output_type": "stream",
     "text": [
      "Number of batches (1279 examples, 64 mini-batch size): 20, first: [0, 64], last: [1216, 1279]\n",
      "Epoch 0, train loss: 22.406909942626953\n",
      "Epoch 1, train loss: 6.353909492492676\n",
      "Epoch 2, train loss: 3.228389263153076\n",
      "Epoch 3, train loss: 2.1524136066436768\n",
      "Epoch 4, train loss: 1.7704992294311523\n",
      "Epoch 5, train loss: 1.5205323696136475\n",
      "Epoch 6, train loss: 1.3339592218399048\n",
      "Epoch 7, train loss: 1.1778818368911743\n",
      "Epoch 8, train loss: 1.0620253086090088\n",
      "Epoch 9, train loss: 0.9316518902778625\n",
      "Epoch 10, train loss: 0.8498347997665405\n",
      "Epoch 11, train loss: 0.7647600173950195\n",
      "Epoch 12, train loss: 0.694158136844635\n",
      "Epoch 13, train loss: 0.6386095285415649\n",
      "Epoch 14, train loss: 0.5894138813018799\n",
      "Epoch 15, train loss: 0.5457693338394165\n",
      "Epoch 16, train loss: 0.5143483281135559\n",
      "Epoch 17, train loss: 0.4821080267429352\n",
      "Epoch 18, train loss: 0.45608440041542053\n",
      "Epoch 19, train loss: 0.43864211440086365\n",
      "Epoch 20, train loss: 0.43239039182662964\n",
      "Epoch 21, train loss: 0.417849600315094\n",
      "Epoch 22, train loss: 0.4044613242149353\n",
      "Epoch 23, train loss: 0.39094582200050354\n",
      "Epoch 24, train loss: 0.37812185287475586\n",
      "Epoch 25, train loss: 0.372755765914917\n",
      "Epoch 26, train loss: 0.35846906900405884\n",
      "Epoch 27, train loss: 0.35199031233787537\n",
      "Epoch 28, train loss: 0.35668689012527466\n",
      "Epoch 29, train loss: 0.34554022550582886\n",
      "Epoch 30, train loss: 0.33514857292175293\n",
      "Epoch 31, train loss: 0.3283366560935974\n",
      "Epoch 32, train loss: 0.3323839008808136\n",
      "Epoch 33, train loss: 0.31621432304382324\n",
      "Epoch 34, train loss: 0.3173186480998993\n",
      "Epoch 35, train loss: 0.31280338764190674\n",
      "Epoch 36, train loss: 0.3026902675628662\n",
      "Epoch 37, train loss: 0.30009424686431885\n",
      "Epoch 38, train loss: 0.2962571680545807\n",
      "Epoch 39, train loss: 0.2927002012729645\n",
      "Epoch 40, train loss: 0.29178863763809204\n",
      "Epoch 41, train loss: 0.28307315707206726\n",
      "Epoch 42, train loss: 0.28325408697128296\n",
      "Epoch 43, train loss: 0.2797693610191345\n",
      "Epoch 44, train loss: 0.2765135169029236\n",
      "Epoch 45, train loss: 0.2696765065193176\n",
      "Epoch 46, train loss: 0.26783424615859985\n",
      "Epoch 47, train loss: 0.26709410548210144\n",
      "Epoch 48, train loss: 0.2672237753868103\n",
      "Epoch 49, train loss: 0.2624126076698303\n"
     ]
    }
   ],
   "source": [
    "nepochs = 50#250\n",
    "bs = 64\n",
    "nexamples = x_train.shape[0]\n",
    "\n",
    "idx_start = np.arange(0, x_train.shape[0], bs)\n",
    "idx_stop = np.roll(idx_start, shift=-1)\n",
    "idx_stop[-1] = x_train.shape[0]\n",
    "\n",
    "nbatches = idx_start.shape[0]\n",
    "print('Number of batches ({0} examples, {1} mini-batch size): {2}, first: {3}, last: {4}'.format(nexamples, bs, nbatches, \n",
    "                                                             [idx_start[0], idx_stop[0]],\n",
    "                                                             [idx_start[-1], idx_stop[-1]]))\n",
    "seed = 1234\n",
    "np.random.seed(seed)\n",
    "\n",
    "# Iterate over epochs.\n",
    "train_losses = []\n",
    "train_losses_it = []\n",
    "for epoch in np.arange(nepochs): # epoca 0: epoca 49\n",
    "    # Shuffling training data at the start of each epoch\n",
    "    idx = np.arange(x_train.shape[0]) # idx: [0,1,2,...,1278] valori da 0 a 1279\n",
    "    np.random.shuffle(idx)# idx: [100, 2, 5, 1, 137, 7,...] valori da 0 a 1279\n",
    "    loss = []\n",
    "    # Iterate over the batches of the dataset.\n",
    "    for step in np.arange(nbatches): # step 0: step 19\n",
    "        # Extracting mini-batch.\n",
    "        # idx_start[step=0] = 0, idx_stop[step=0] = 64\n",
    "        # idx[idx_start[0]: idx_stop[0]]\n",
    "        idx_batch = idx[idx_start[step]: idx_stop[step]] # \n",
    "        x_batch_train = x_train[idx_batch, :]\n",
    "        y_batch_train = y_train[idx_batch]\n",
    "        # Converting numpy arrays to tensorflow tensors.\n",
    "        x_batch_train = tf.convert_to_tensor(x_batch_train)\n",
    "        y_batch_train = tf.convert_to_tensor(y_batch_train)\n",
    "        # Open a GradientTape to record the operations run during the forward-pass, which enables auto-differentiation.\n",
    "        with tf.GradientTape() as tape:\n",
    "            # Run the forward-pass of the layer.\n",
    "            preds = model(x_batch_train, training=True)\n",
    "            # Compute the loss value for this minibatch.\n",
    "            loss_value = loss_fn(y_batch_train, preds)\n",
    "        # Use the gradient tape to automatically retrieve the gradients of loss with respect to the trainable parameters.\n",
    "        grads = tape.gradient(loss_value, model.trainable_weights)\n",
    "        # Run one step of gradient descent by updating the value of the variables to minimize the loss.\n",
    "        optimizer.apply_gradients(zip(grads, model.trainable_weights))\n",
    "        # grads: grad(L/w0), grad(L/w1),..., \n",
    "        # model.trainable_weights: w0, w1,..., \n",
    "        \n",
    "        loss.append(loss_value) # lista di 20\n",
    "    train_losses_it.extend(loss)\n",
    "    train_loss = np.mean(loss)  # Averaging mini-batch losses\n",
    "    print('Epoch {0}, train loss: {1}'.format(epoch, train_loss))\n",
    "    train_losses.append(train_loss)"
   ]
  },
  {
   "cell_type": "code",
   "execution_count": 47,
   "metadata": {
    "id": "4NechlZjQWgL"
   },
   "outputs": [
    {
     "data": {
      "text/plain": [
       "Text(0, 0.5, 'MSE (log)')"
      ]
     },
     "execution_count": 47,
     "metadata": {},
     "output_type": "execute_result"
    },
    {
     "data": {
      "image/png": "[encoded data removed]",
      "text/plain": [
       "<Figure size 640x480 with 1 Axes>"
      ]
     },
     "metadata": {},
     "output_type": "display_data"
    }
   ],
   "source": [
    "plt.semilogy(np.arange(nepochs*nbatches), train_losses_it, 'k')\n",
    "for i in np.arange(0, nepochs*nbatches, nbatches):\n",
    "    plt.axvline(i, c='r')\n",
    "plt.xlim([0, 10*nbatches])\n",
    "plt.xlabel('Iterazioni')\n",
    "plt.ylabel('MSE (log)')\n",
    "# potete plottare anche la funzione costo su singoli step (singoli mini-batch)\n",
    "# valutare la variabilità (np.std) della funzione costo tra le valutazioni di mini-batch in 1 epoca\n",
    "# variando il mini-batch size "
   ]
  },
  {
   "cell_type": "code",
   "execution_count": 48,
   "metadata": {
    "id": "IwfiMWVeQUUy"
   },
   "outputs": [
    {
     "name": "stdout",
     "output_type": "stream",
     "text": [
      "Test RMSE: 0.5382233262062073, test MAE: 0.4490564465522766\n"
     ]
    }
   ],
   "source": [
    "# Network evaluation at each epoch on both training and test set (alla fine ultima!!)\n",
    "rmse_fn = tf.keras.metrics.RootMeanSquaredError()\n",
    "mae_fn = tf.keras.metrics.MeanAbsoluteError()\n",
    "\n",
    "preds = model(x_train, training=False)\n",
    "train_rmse = rmse_fn(preds, tf.convert_to_tensor(y_train))\n",
    "train_mae = mae_fn(preds, tf.convert_to_tensor(y_train))\n",
    "\n",
    "preds = model(x_test, training=False)\n",
    "test_rmse = rmse_fn(preds, tf.convert_to_tensor(y_test))\n",
    "test_mae = mae_fn(preds, tf.convert_to_tensor(y_test))\n",
    "\n",
    "print('Test RMSE: {0}, test MAE: {1}'.format(test_rmse, test_mae))\n"
   ]
  },
  {
   "attachments": {},
   "cell_type": "markdown",
   "metadata": {
    "id": "_-scwVi-5xTu"
   },
   "source": [
    "Keras introduce anche un metodo che realizza il ciclo di addestramento come realizzato sopra. Di seguito viene illustrato come eseguire l'addestramento chiamando il metodo 'fit' della classe 'Model' di Keras. Viene anche testato il modello in una cella separata."
   ]
  },
  {
   "cell_type": "code",
   "execution_count": 49,
   "metadata": {
    "id": "GgwxYKPW9yJ1"
   },
   "outputs": [
    {
     "name": "stdout",
     "output_type": "stream",
     "text": [
      "Model: \"MLP\"\n",
      "_________________________________________________________________\n",
      " Layer (type)                Output Shape              Param #   \n",
      "=================================================================\n",
      " input_features (InputLayer)  [(None, 11)]             0         \n",
      "                                                                 \n",
      " dense_layer0 (Dense)        (None, 64)                768       \n",
      "                                                                 \n",
      " dense_layer1 (Dense)        (None, 64)                4160      \n",
      "                                                                 \n",
      " dense_layer2 (Dense)        (None, 64)                4160      \n",
      "                                                                 \n",
      " dense_layer_output (Dense)  (None, 1)                 65        \n",
      "                                                                 \n",
      "=================================================================\n",
      "Total params: 9,153\n",
      "Trainable params: 9,153\n",
      "Non-trainable params: 0\n",
      "_________________________________________________________________\n",
      "Epoch 1/50\n",
      "20/20 [==============================] - 1s 2ms/step - loss: 22.5833 - root_mean_squared_error: 3.1923 - mean_absolute_error: 4.6255\n",
      "Epoch 2/50\n",
      "20/20 [==============================] - 0s 1ms/step - loss: 9.2186 - root_mean_squared_error: 3.0338 - mean_absolute_error: 2.7972\n",
      "Epoch 3/50\n",
      "20/20 [==============================] - 0s 1ms/step - loss: 3.5961 - root_mean_squared_error: 1.8924 - mean_absolute_error: 1.5605\n",
      "Epoch 4/50\n",
      "20/20 [==============================] - 0s 1ms/step - loss: 2.3725 - root_mean_squared_error: 1.5354 - mean_absolute_error: 1.1922\n",
      "Epoch 5/50\n",
      "20/20 [==============================] - 0s 1ms/step - loss: 1.9406 - root_mean_squared_error: 1.3877 - mean_absolute_error: 1.0697\n",
      "Epoch 6/50\n",
      "20/20 [==============================] - 0s 1ms/step - loss: 1.7151 - root_mean_squared_error: 1.3039 - mean_absolute_error: 1.0075\n",
      "Epoch 7/50\n",
      "20/20 [==============================] - 0s 1ms/step - loss: 1.5775 - root_mean_squared_error: 1.2500 - mean_absolute_error: 0.9687\n",
      "Epoch 8/50\n",
      "20/20 [==============================] - 0s 1ms/step - loss: 1.4826 - root_mean_squared_error: 1.2114 - mean_absolute_error: 0.9428\n",
      "Epoch 9/50\n",
      "20/20 [==============================] - 0s 1ms/step - loss: 1.4067 - root_mean_squared_error: 1.1797 - mean_absolute_error: 0.9162\n",
      "Epoch 10/50\n",
      "20/20 [==============================] - 0s 2ms/step - loss: 1.3469 - root_mean_squared_error: 1.1541 - mean_absolute_error: 0.8976\n",
      "Epoch 11/50\n",
      "20/20 [==============================] - 0s 2ms/step - loss: 1.2971 - root_mean_squared_error: 1.1323 - mean_absolute_error: 0.8811\n",
      "Epoch 12/50\n",
      "20/20 [==============================] - 0s 2ms/step - loss: 1.2522 - root_mean_squared_error: 1.1123 - mean_absolute_error: 0.8645\n",
      "Epoch 13/50\n",
      "20/20 [==============================] - 0s 2ms/step - loss: 1.2079 - root_mean_squared_error: 1.0922 - mean_absolute_error: 0.8496\n",
      "Epoch 14/50\n",
      "20/20 [==============================] - 0s 2ms/step - loss: 1.1715 - root_mean_squared_error: 1.0754 - mean_absolute_error: 0.8376\n",
      "Epoch 15/50\n",
      "20/20 [==============================] - 0s 2ms/step - loss: 1.1386 - root_mean_squared_error: 1.0600 - mean_absolute_error: 0.8243\n",
      "Epoch 16/50\n",
      "20/20 [==============================] - 0s 3ms/step - loss: 1.1075 - root_mean_squared_error: 1.0452 - mean_absolute_error: 0.8143\n",
      "Epoch 17/50\n",
      "20/20 [==============================] - 0s 2ms/step - loss: 1.0784 - root_mean_squared_error: 1.0312 - mean_absolute_error: 0.8033\n",
      "Epoch 18/50\n",
      "20/20 [==============================] - 0s 2ms/step - loss: 1.0517 - root_mean_squared_error: 1.0182 - mean_absolute_error: 0.7929\n",
      "Epoch 19/50\n",
      "20/20 [==============================] - 0s 3ms/step - loss: 1.0275 - root_mean_squared_error: 1.0063 - mean_absolute_error: 0.7831\n",
      "Epoch 20/50\n",
      "20/20 [==============================] - 0s 3ms/step - loss: 1.0026 - root_mean_squared_error: 0.9938 - mean_absolute_error: 0.7735\n",
      "Epoch 21/50\n",
      "20/20 [==============================] - 0s 2ms/step - loss: 0.9801 - root_mean_squared_error: 0.9824 - mean_absolute_error: 0.7661\n",
      "Epoch 22/50\n",
      "20/20 [==============================] - 0s 2ms/step - loss: 0.9591 - root_mean_squared_error: 0.9717 - mean_absolute_error: 0.7576\n",
      "Epoch 23/50\n",
      "20/20 [==============================] - 0s 2ms/step - loss: 0.9401 - root_mean_squared_error: 0.9618 - mean_absolute_error: 0.7486\n",
      "Epoch 24/50\n",
      "20/20 [==============================] - 0s 3ms/step - loss: 0.9206 - root_mean_squared_error: 0.9516 - mean_absolute_error: 0.7409\n",
      "Epoch 25/50\n",
      "20/20 [==============================] - 0s 2ms/step - loss: 0.9023 - root_mean_squared_error: 0.9420 - mean_absolute_error: 0.7336\n",
      "Epoch 26/50\n",
      "20/20 [==============================] - 0s 3ms/step - loss: 0.8862 - root_mean_squared_error: 0.9334 - mean_absolute_error: 0.7286\n",
      "Epoch 27/50\n",
      "20/20 [==============================] - 0s 2ms/step - loss: 0.8685 - root_mean_squared_error: 0.9239 - mean_absolute_error: 0.7197\n",
      "Epoch 28/50\n",
      "20/20 [==============================] - 0s 3ms/step - loss: 0.8536 - root_mean_squared_error: 0.9158 - mean_absolute_error: 0.7126\n",
      "Epoch 29/50\n",
      "20/20 [==============================] - 0s 2ms/step - loss: 0.8382 - root_mean_squared_error: 0.9073 - mean_absolute_error: 0.7072\n",
      "Epoch 30/50\n",
      "20/20 [==============================] - 0s 2ms/step - loss: 0.8242 - root_mean_squared_error: 0.8996 - mean_absolute_error: 0.7001\n",
      "Epoch 31/50\n",
      "20/20 [==============================] - 0s 2ms/step - loss: 0.8105 - root_mean_squared_error: 0.8919 - mean_absolute_error: 0.6947\n",
      "Epoch 32/50\n",
      "20/20 [==============================] - 0s 2ms/step - loss: 0.7963 - root_mean_squared_error: 0.8839 - mean_absolute_error: 0.6891\n",
      "Epoch 33/50\n",
      "20/20 [==============================] - 0s 2ms/step - loss: 0.7836 - root_mean_squared_error: 0.8767 - mean_absolute_error: 0.6827\n",
      "Epoch 34/50\n",
      "20/20 [==============================] - 0s 2ms/step - loss: 0.7717 - root_mean_squared_error: 0.8699 - mean_absolute_error: 0.6775\n",
      "Epoch 35/50\n",
      "20/20 [==============================] - 0s 2ms/step - loss: 0.7595 - root_mean_squared_error: 0.8629 - mean_absolute_error: 0.6720\n",
      "Epoch 36/50\n",
      "20/20 [==============================] - 0s 2ms/step - loss: 0.7489 - root_mean_squared_error: 0.8567 - mean_absolute_error: 0.6674\n",
      "Epoch 37/50\n",
      "20/20 [==============================] - 0s 2ms/step - loss: 0.7372 - root_mean_squared_error: 0.8498 - mean_absolute_error: 0.6614\n",
      "Epoch 38/50\n",
      "20/20 [==============================] - 0s 2ms/step - loss: 0.7272 - root_mean_squared_error: 0.8439 - mean_absolute_error: 0.6567\n",
      "Epoch 39/50\n",
      "20/20 [==============================] - 0s 2ms/step - loss: 0.7170 - root_mean_squared_error: 0.8378 - mean_absolute_error: 0.6523\n",
      "Epoch 40/50\n",
      "20/20 [==============================] - 0s 2ms/step - loss: 0.7064 - root_mean_squared_error: 0.8315 - mean_absolute_error: 0.6473\n",
      "Epoch 41/50\n",
      "20/20 [==============================] - 0s 2ms/step - loss: 0.6981 - root_mean_squared_error: 0.8265 - mean_absolute_error: 0.6425\n",
      "Epoch 42/50\n",
      "20/20 [==============================] - 0s 2ms/step - loss: 0.6873 - root_mean_squared_error: 0.8200 - mean_absolute_error: 0.6383\n",
      "Epoch 43/50\n",
      "20/20 [==============================] - 0s 2ms/step - loss: 0.6787 - root_mean_squared_error: 0.8147 - mean_absolute_error: 0.6337\n",
      "Epoch 44/50\n",
      "20/20 [==============================] - 0s 2ms/step - loss: 0.6706 - root_mean_squared_error: 0.8097 - mean_absolute_error: 0.6296\n",
      "Epoch 45/50\n",
      "20/20 [==============================] - 0s 2ms/step - loss: 0.6620 - root_mean_squared_error: 0.8044 - mean_absolute_error: 0.6253\n",
      "Epoch 46/50\n",
      "20/20 [==============================] - 0s 2ms/step - loss: 0.6551 - root_mean_squared_error: 0.8001 - mean_absolute_error: 0.6217\n",
      "Epoch 47/50\n",
      "20/20 [==============================] - 0s 2ms/step - loss: 0.6466 - root_mean_squared_error: 0.7948 - mean_absolute_error: 0.6179\n",
      "Epoch 48/50\n",
      "20/20 [==============================] - 0s 2ms/step - loss: 0.6388 - root_mean_squared_error: 0.7899 - mean_absolute_error: 0.6140\n",
      "Epoch 49/50\n",
      "20/20 [==============================] - 0s 2ms/step - loss: 0.6313 - root_mean_squared_error: 0.7851 - mean_absolute_error: 0.6101\n",
      "Epoch 50/50\n",
      "20/20 [==============================] - 0s 2ms/step - loss: 0.6250 - root_mean_squared_error: 0.7811 - mean_absolute_error: 0.6061\n"
     ]
    },
    {
     "data": {
      "text/plain": [
       "<keras.callbacks.History at 0x2119123ec50>"
      ]
     },
     "execution_count": 49,
     "metadata": {},
     "output_type": "execute_result"
    }
   ],
   "source": [
    "\n",
    "# Model design. \n",
    "inputs = keras.Input(shape=(nfeatures,), name=\"input_features\")\n",
    "x1 = layers.Dense(64, activation=\"relu\", kernel_regularizer=regularizers.L2(1e-4), bias_regularizer=regularizers.L2(1e-4),name='dense_layer0')(inputs)\n",
    "x2 = layers.Dense(64, activation=\"relu\", kernel_regularizer=regularizers.L2(1e-4), bias_regularizer=regularizers.L2(1e-4),name='dense_layer1')(x1)\n",
    "x3 = layers.Dense(64, activation=\"relu\", kernel_regularizer=regularizers.L2(1e-4), bias_regularizer=regularizers.L2(1e-4),name='dense_layer2')(x2)\n",
    "outputs = layers.Dense(1, name=\"dense_layer_output\")(x3)\n",
    "model = keras.Model(inputs=inputs, outputs=outputs, name='MLP')\n",
    "model.summary()\n",
    "# Instantiate an optimizer.\n",
    "optimizer = keras.optimizers.SGD(learning_rate=1e-3)\n",
    "# Instantiate a loss function.\n",
    "loss_fn = tf.keras.losses.MeanSquaredError()\n",
    "\n",
    "model.compile(optimizer=optimizer,\n",
    "              loss=loss_fn,\n",
    "              metrics=[rmse_fn,mae_fn])\n",
    "model.fit(x=x_train,y=y_train,batch_size=bs,\n",
    "          epochs=50,#250\n",
    "          shuffle=True,\n",
    ")"
   ]
  },
  {
   "cell_type": "code",
   "execution_count": 50,
   "metadata": {
    "id": "VlBigV4BR9XF"
   },
   "outputs": [
    {
     "name": "stdout",
     "output_type": "stream",
     "text": [
      "Test RMSE: 0.7881957292556763, test MAE: 0.6061281561851501\n"
     ]
    }
   ],
   "source": [
    "# Network evaluation at each epoch on both training and test set (alla fine ultima!!)\n",
    "preds = model(x_train, training=False)\n",
    "train_rmse = rmse_fn(preds, tf.convert_to_tensor(y_train))\n",
    "train_mae = mae_fn(preds, tf.convert_to_tensor(y_train))\n",
    "\n",
    "preds = model(x_test, training=False)\n",
    "test_rmse = rmse_fn(preds, tf.convert_to_tensor(y_test))\n",
    "test_mae = mae_fn(preds, tf.convert_to_tensor(y_test))\n",
    "\n",
    "print('Test RMSE: {0}, test MAE: {1}'.format(test_rmse, test_mae))"
   ]
  },
  {
   "attachments": {},
   "cell_type": "markdown",
   "metadata": {
    "id": "N1ARrQa66UuN"
   },
   "source": [
    "Ci sono alcuni parametri del modello o parametri della procedura di addestramento che possono influenzare la qualità della predizione del modello (cosiddetti 'iper-parametri'), come:\n",
    "*   numero di strati nascosti (2, 3, 4, 5)\n",
    "*   numero di unità nascoste (16, 32, 64, 128)\n",
    "*   funzione di attivazione delle unità nascoste ('relu', 'elu')\n",
    "*   inclusione di 'dropout' nella rete, dopo uno strato nascosto\n",
    "*   tipologia di ottimizzatore ('SGD', 'SGD' con parametro momentum=0.9, 'Adam', 'RMSprop')\n",
    "*   learning rate (1e-4, 5*1e-3, 1e-3)\n",
    "*   mini-batch size (16, 32, 64)\n",
    "*   numero di epoche di addestramento (100, 150, 200, 250, 300)\n",
    "\n",
    "Questi sono solo alcuni dei principali iper-parametri introdotti. Fra parentesi sono indicati alcuni valori che potete testare (non sono necessari tutti) per vedere l'effetto di essi sulle metriche di performance. \n",
    "\n",
    "Addestrate il modello cambiando un iper-parametro alla volta (es. numero di strati nascosti=3 invece di 2 (default)) e registrate le metriche di prestazione che risultano da ogni modello addestrato. \n",
    "\n",
    "----30-40'\n"
   ]
  },
  {
   "cell_type": "code",
   "execution_count": null,
   "metadata": {
    "id": "M4UgB30D5r4p"
   },
   "outputs": [],
   "source": []
  }
 ],
 "metadata": {
  "accelerator": "GPU",
  "colab": {
   "gpuType": "T4",
   "private_outputs": true,
   "provenance": []
  },
  "gpuClass": "standard",
  "kernelspec": {
   "display_name": "Python 3 (ipykernel)",
   "language": "python",
   "name": "python3"
  },
  "language_info": {
   "codemirror_mode": {
    "name": "ipython",
    "version": 3
   },
   "file_extension": ".py",
   "mimetype": "text/x-python",
   "name": "python",
   "nbconvert_exporter": "python",
   "pygments_lexer": "ipython3",
   "version": "3.11.2"
  }
 },
 "nbformat": 4,
 "nbformat_minor": 4
}
