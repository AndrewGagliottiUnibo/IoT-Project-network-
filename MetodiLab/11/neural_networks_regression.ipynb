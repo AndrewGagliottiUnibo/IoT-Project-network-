{
  "cells": [
    {
      "cell_type": "code",
      "execution_count": 17,
      "metadata": {
        "id": "Fqs1bZ3q3NKi"
      },
      "outputs": [],
      "source": [
        "import tensorflow as tf\n",
        "from tensorflow import keras\n",
        "from tensorflow.keras import layers, regularizers\n",
        "import numpy as np\n",
        "import matplotlib.pyplot as plt\n",
        "import math"
      ]
    },
    {
      "attachments": {},
      "cell_type": "markdown",
      "metadata": {
        "id": "lB19h5MbMUap"
      },
      "source": [
        "# Predizione della qualità di un vino partendo da risultati di test fisico-chimici\n",
        "Il dataset è disponibile pubblicamente online (https://archive.ics.uci.edu/ml/datasets/Wine+Quality) e viene fornito (per rapidità/semplicità) in formato numpy (.npz) per quest'esercitazione (winequality-white.npz e winequality-red.npz). \n",
        "\n",
        "E' un semplice problema di regressione che si basa sul pacchetto tensorflow di python che è usata per progettare e addestrare reti neurali di python. Keras è un pacchetto introduttivo che si basa su tensorflow. Una alternativa sarebbe pytorch.\n",
        "\n",
        "La matrice fornita nella variabile x ha dimensioni Nobs x 11 (vini bianchi: Nobs=4898; vini rossi: Nobs=1599). Le righe rappresentano le diverse osservazioni, mentre le colonne rappresentano le feature:\n",
        "```\n",
        "1 - fixed acidity\n",
        "2 - volatile acidity\n",
        "3 - citric acid\n",
        "4 - residual sugar\n",
        "5 - chlorides\n",
        "6 - free sulfur dioxide\n",
        "7 - total sulfur dioxide\n",
        "8 - density\n",
        "9 - pH\n",
        "10 - sulphates\n",
        "11 - alcohol\n",
        "```\n",
        "I valori contenuti nel vettore y (contenente Nobs valori) rappresentano un indice di qualità (output feature), che varia tra 0-10. Il task di regressione consiste nella predizione dell'indice di qualità a partire dalle 11 input feature.\n",
        "\n",
        "1.   Caricare il dataset winequality-red.npz, dividerlo in un training (80%) set e test set (20%) e standardizzare i dati impiegando valor medio e deviazione standard del training set\n",
        "2.   Creare una multi-layer perceptron (MLP) con 2 strati nascosti con 64 unità ciascuno (rectified linear units, ReLU come funzione di attivazione).\n",
        "3. Addestrare il modello per 250 epoche impiegando l'ottimizzatore Stochastic Gradient Descent (learning rate=1e-3, batch size=64) e la funzione costo Mean Squared Error. Testare il modello sul test set.\n",
        "4. Visualizzare l'errore valutato sul training set in funzione delle epoche di addestramento.\n",
        "\n"
      ]
    },
    {
      "cell_type": "code",
      "execution_count": 18,
      "metadata": {
        "id": "jnanDAeXWrK5"
      },
      "outputs": [
        {
          "name": "stdout",
          "output_type": "stream",
          "text": [
            "(4898, 11)\n",
            "(4898,)\n",
            "Number of input features: 11\n",
            "Number of total examples: 4898\n",
            "Training set number of examples: 3918\n",
            "Test set number of examples: 980\n",
            "Model: \"MLP\"\n",
            "_________________________________________________________________\n",
            " Layer (type)                Output Shape              Param #   \n",
            "=================================================================\n",
            " input_features (InputLayer)  [(None, 11)]             0         \n",
            "                                                                 \n",
            " dense_layer0 (Dense)        (None, 64)                768       \n",
            "                                                                 \n",
            " dense_layer1 (Dense)        (None, 64)                4160      \n",
            "                                                                 \n",
            " dense_layer_output (Dense)  (None, 1)                 65        \n",
            "                                                                 \n",
            "=================================================================\n",
            "Total params: 4,993\n",
            "Trainable params: 4,993\n",
            "Non-trainable params: 0\n",
            "_________________________________________________________________\n"
          ]
        },
        {
          "data": {
            "image/png": "[encoded data removed]",
            "text/plain": [
              "<Figure size 640x480 with 1 Axes>"
            ]
          },
          "metadata": {},
          "output_type": "display_data"
        }
      ],
      "source": [
        "# Prepare the dataset.\n",
        "#data = np.load('winequality-red.npz') # /path/to/winequality-red.npz\n",
        "data = np.load('winequality-white.npz') # /path/to/winequality-red.npz\n",
        "x = data['x']\n",
        "y = data['y']\n",
        "print(x.shape)\n",
        "print(y.shape)\n",
        "plt.hist(y)\n",
        "ntot_examples = x.shape[0]\n",
        "nfeatures = x.shape[-1]\n",
        "nexamples = math.floor(0.8*ntot_examples)\n",
        "\n",
        "print('Number of input features: {0}'.format(nfeatures))\n",
        "print('Number of total examples: {0}'.format(ntot_examples))\n",
        "print('Training set number of examples: {0}'.format(nexamples))\n",
        "print('Test set number of examples: {0}'.format(ntot_examples-nexamples))\n",
        "x_train = x[:nexamples,:]\n",
        "y_train = y[:nexamples]\n",
        "\n",
        "x_test = x[nexamples:, :]\n",
        "y_test = y[nexamples:]\n",
        "\n",
        "mean_train = x_train.mean(axis=0)\n",
        "std_train = x_train.std(axis=0)\n",
        "x_train -= mean_train\n",
        "x_train /= std_train\n",
        "x_test -= mean_train\n",
        "x_test /= std_train\n",
        "\n",
        "# Model design. \n",
        "inputs = keras.Input(shape=(nfeatures,), name=\"input_features\")\n",
        "x1 = layers.Dense(64, activation=\"relu\", kernel_regularizer=regularizers.L2(1e-4), bias_regularizer=regularizers.L2(1e-4),name='dense_layer0')(inputs)\n",
        "x2 = layers.Dense(64, activation=\"relu\", kernel_regularizer=regularizers.L2(1e-4), bias_regularizer=regularizers.L2(1e-4),name='dense_layer1')(x1)\n",
        "outputs = layers.Dense(1, name=\"dense_layer_output\")(x2)\n",
        "model = keras.Model(inputs=inputs, outputs=outputs, name='MLP')\n",
        "model.summary()\n",
        "# Instantiate an optimizer.\n",
        "optimizer = keras.optimizers.SGD(learning_rate=1e-3)\n",
        "# Instantiate a loss function.\n",
        "loss_fn = tf.keras.losses.MeanSquaredError()"
      ]
    },
    {
      "cell_type": "code",
      "execution_count": 19,
      "metadata": {
        "id": "sRQ-eOXS_s2-"
      },
      "outputs": [
        {
          "name": "stdout",
          "output_type": "stream",
          "text": [
            "Number of batches (3918 examples, 64 mini-batch size): 62, first: [0, 64], last: [3904, 3918]\n",
            "Epoch 0, train loss: 17.872207641601562\n",
            "Epoch 1, train loss: 3.204340696334839\n",
            "Epoch 2, train loss: 2.2244322299957275\n",
            "Epoch 3, train loss: 1.911322832107544\n",
            "Epoch 4, train loss: 1.7136160135269165\n",
            "Epoch 5, train loss: 1.5945864915847778\n",
            "Epoch 6, train loss: 1.479888916015625\n",
            "Epoch 7, train loss: 1.3977370262145996\n",
            "Epoch 8, train loss: 1.3325175046920776\n",
            "Epoch 9, train loss: 1.2562350034713745\n",
            "Epoch 10, train loss: 1.1929596662521362\n",
            "Epoch 11, train loss: 1.157581090927124\n",
            "Epoch 12, train loss: 1.0962480306625366\n",
            "Epoch 13, train loss: 1.0536720752716064\n",
            "Epoch 14, train loss: 1.0172947645187378\n",
            "Epoch 15, train loss: 0.9994874000549316\n",
            "Epoch 16, train loss: 0.9430862665176392\n",
            "Epoch 17, train loss: 0.9188562035560608\n",
            "Epoch 18, train loss: 0.88994961977005\n",
            "Epoch 19, train loss: 0.864388644695282\n",
            "Epoch 20, train loss: 0.8433130383491516\n",
            "Epoch 21, train loss: 0.8721967339515686\n",
            "Epoch 22, train loss: 0.8015798926353455\n",
            "Epoch 23, train loss: 0.7823892831802368\n",
            "Epoch 24, train loss: 0.763588011264801\n",
            "Epoch 25, train loss: 0.7444642782211304\n",
            "Epoch 26, train loss: 0.7334570288658142\n",
            "Epoch 27, train loss: 0.7143431305885315\n",
            "Epoch 28, train loss: 0.7036480903625488\n",
            "Epoch 29, train loss: 0.6922169923782349\n",
            "Epoch 30, train loss: 0.6928640007972717\n",
            "Epoch 31, train loss: 0.6697600483894348\n",
            "Epoch 32, train loss: 0.6665900945663452\n",
            "Epoch 33, train loss: 0.6468575596809387\n",
            "Epoch 34, train loss: 0.6412144303321838\n",
            "Epoch 35, train loss: 0.6328823566436768\n",
            "Epoch 36, train loss: 0.6220241189002991\n",
            "Epoch 37, train loss: 0.6151396632194519\n",
            "Epoch 38, train loss: 0.6134373545646667\n",
            "Epoch 39, train loss: 0.6017096042633057\n",
            "Epoch 40, train loss: 0.6055861711502075\n",
            "Epoch 41, train loss: 0.5907662510871887\n",
            "Epoch 42, train loss: 0.5909271240234375\n",
            "Epoch 43, train loss: 0.5920416712760925\n",
            "Epoch 44, train loss: 0.5782431960105896\n",
            "Epoch 45, train loss: 0.5762608647346497\n",
            "Epoch 46, train loss: 0.5722637176513672\n",
            "Epoch 47, train loss: 0.5707654356956482\n",
            "Epoch 48, train loss: 0.5662376284599304\n",
            "Epoch 49, train loss: 0.567969799041748\n"
          ]
        }
      ],
      "source": [
        "nepochs = 50#250\n",
        "bs = 64\n",
        "nexamples = x_train.shape[0]\n",
        "\n",
        "idx_start = np.arange(0, x_train.shape[0], bs)\n",
        "idx_stop = np.roll(idx_start, shift=-1)\n",
        "idx_stop[-1] = x_train.shape[0]\n",
        "\n",
        "nbatches = idx_start.shape[0]\n",
        "print('Number of batches ({0} examples, {1} mini-batch size): {2}, first: {3}, last: {4}'.format(nexamples, bs, nbatches, \n",
        "                                                             [idx_start[0], idx_stop[0]],\n",
        "                                                             [idx_start[-1], idx_stop[-1]]))\n",
        "seed = 1234\n",
        "np.random.seed(seed)\n",
        "\n",
        "rmse_fn = tf.keras.metrics.RootMeanSquaredError()\n",
        "mae_fn = tf.keras.metrics.MeanAbsoluteError()\n",
        "# Iterate over epochs.\n",
        "train_losses = []\n",
        "for epoch in np.arange(nepochs):\n",
        "    # Shuffling training data at the start of each epoch\n",
        "    idx = np.arange(x_train.shape[0])\n",
        "    np.random.shuffle(idx)\n",
        "    loss = []\n",
        "    # Iterate over the batches of the dataset.\n",
        "    for step in np.arange(nbatches):\n",
        "        # Extracting mini-batch.\n",
        "        idx_batch = idx[idx_start[step]: idx_stop[step]]\n",
        "        x_batch_train = x_train[idx_batch, :]\n",
        "        y_batch_train = y_train[idx_batch]\n",
        "        # Converting numpy arrays to tensorflow tensors.\n",
        "        x_batch_train = tf.convert_to_tensor(x_batch_train)\n",
        "        y_batch_train = tf.convert_to_tensor(y_batch_train)\n",
        "        # Open a GradientTape to record the operations run during the forward-pass, which enables auto-differentiation.\n",
        "        with tf.GradientTape() as tape:\n",
        "            # Run the forward-pass of the layer.\n",
        "            preds = model(x_batch_train, training=True)\n",
        "            # Compute the loss value for this minibatch.\n",
        "            loss_value = loss_fn(y_batch_train, preds)\n",
        "        # Use the gradient tape to automatically retrieve the gradients of loss with respect to the trainable parameters.\n",
        "        grads = tape.gradient(loss_value, model.trainable_weights)\n",
        "        # Run one step of gradient descent by updating the value of the variables to minimize the loss.\n",
        "        optimizer.apply_gradients(zip(grads, model.trainable_weights))\n",
        "\n",
        "        loss.append(loss_value)\n",
        "    train_loss = np.mean(loss)  # Averaging mini-batch losses\n",
        "    print('Epoch {0}, train loss: {1}'.format(epoch, train_loss))\n",
        "    train_losses.append(train_loss)"
      ]
    },
    {
      "cell_type": "code",
      "execution_count": 20,
      "metadata": {
        "id": "4NechlZjQWgL"
      },
      "outputs": [
        {
          "data": {
            "text/plain": [
              "Text(0, 0.5, 'MSE (log)')"
            ]
          },
          "execution_count": 20,
          "metadata": {},
          "output_type": "execute_result"
        },
        {
          "data": {
            "image/png": "[encoded data removed]",
            "text/plain": [
              "<Figure size 640x480 with 1 Axes>"
            ]
          },
          "metadata": {},
          "output_type": "display_data"
        }
      ],
      "source": [
        "plt.semilogy(np.arange(nepochs), train_losses, 'k')\n",
        "plt.xlabel('Epoche')\n",
        "plt.ylabel('MSE (log)')"
      ]
    },
    {
      "cell_type": "code",
      "execution_count": 21,
      "metadata": {
        "id": "IwfiMWVeQUUy"
      },
      "outputs": [
        {
          "name": "stdout",
          "output_type": "stream",
          "text": [
            "Test RMSE: 0.7455214262008667, test MAE: 0.5775902271270752\n"
          ]
        }
      ],
      "source": [
        "# Network evaluation at each epoch on both training and test set (alla fine ultima!!)\n",
        "preds = model(x_train, training=False)\n",
        "train_rmse = rmse_fn(preds, tf.convert_to_tensor(y_train))\n",
        "train_mae = mae_fn(preds, tf.convert_to_tensor(y_train))\n",
        "\n",
        "preds = model(x_test, training=False)\n",
        "test_rmse = rmse_fn(preds, tf.convert_to_tensor(y_test))\n",
        "test_mae = mae_fn(preds, tf.convert_to_tensor(y_test))\n",
        "\n",
        "print('Test RMSE: {0}, test MAE: {1}'.format(test_rmse, test_mae))\n"
      ]
    },
    {
      "cell_type": "code",
      "execution_count": 22,
      "metadata": {
        "id": "GgwxYKPW9yJ1"
      },
      "outputs": [
        {
          "name": "stdout",
          "output_type": "stream",
          "text": [
            "Model: \"MLP\"\n",
            "_________________________________________________________________\n",
            " Layer (type)                Output Shape              Param #   \n",
            "=================================================================\n",
            " input_features (InputLayer)  [(None, 11)]             0         \n",
            "                                                                 \n",
            " dense_layer0 (Dense)        (None, 64)                768       \n",
            "                                                                 \n",
            " dense_layer1 (Dense)        (None, 64)                4160      \n",
            "                                                                 \n",
            " dense_layer_output (Dense)  (None, 1)                 65        \n",
            "                                                                 \n",
            "=================================================================\n",
            "Total params: 4,993\n",
            "Trainable params: 4,993\n",
            "Non-trainable params: 0\n",
            "_________________________________________________________________\n",
            "Epoch 1/50\n",
            "62/62 [==============================] - 1s 2ms/step - loss: 15.4688 - root_mean_squared_error: 2.6795 - mean_absolute_error: 3.5466\n",
            "Epoch 2/50\n",
            "62/62 [==============================] - 0s 2ms/step - loss: 3.1615 - root_mean_squared_error: 1.7756 - mean_absolute_error: 1.3761\n",
            "Epoch 3/50\n",
            "62/62 [==============================] - 0s 2ms/step - loss: 2.4942 - root_mean_squared_error: 1.5766 - mean_absolute_error: 1.1904\n",
            "Epoch 4/50\n",
            "62/62 [==============================] - 0s 2ms/step - loss: 2.1388 - root_mean_squared_error: 1.4595 - mean_absolute_error: 1.1102\n",
            "Epoch 5/50\n",
            "62/62 [==============================] - 0s 2ms/step - loss: 1.9036 - root_mean_squared_error: 1.3766 - mean_absolute_error: 1.0455\n",
            "Epoch 6/50\n",
            "62/62 [==============================] - 0s 2ms/step - loss: 1.7260 - root_mean_squared_error: 1.3105 - mean_absolute_error: 0.9949\n",
            "Epoch 7/50\n",
            "62/62 [==============================] - 0s 1ms/step - loss: 1.5905 - root_mean_squared_error: 1.2577 - mean_absolute_error: 0.9558\n",
            "Epoch 8/50\n",
            "62/62 [==============================] - 0s 1ms/step - loss: 1.4770 - root_mean_squared_error: 1.2118 - mean_absolute_error: 0.9228\n",
            "Epoch 9/50\n",
            "62/62 [==============================] - 0s 1ms/step - loss: 1.3825 - root_mean_squared_error: 1.1721 - mean_absolute_error: 0.8937\n",
            "Epoch 10/50\n",
            "62/62 [==============================] - 0s 1ms/step - loss: 1.3024 - root_mean_squared_error: 1.1374 - mean_absolute_error: 0.8684\n",
            "Epoch 11/50\n",
            "62/62 [==============================] - 0s 1ms/step - loss: 1.2310 - root_mean_squared_error: 1.1056 - mean_absolute_error: 0.8447\n",
            "Epoch 12/50\n",
            "62/62 [==============================] - 0s 1ms/step - loss: 1.1703 - root_mean_squared_error: 1.0778 - mean_absolute_error: 0.8251\n",
            "Epoch 13/50\n",
            "62/62 [==============================] - 0s 1ms/step - loss: 1.1151 - root_mean_squared_error: 1.0519 - mean_absolute_error: 0.8061\n",
            "Epoch 14/50\n",
            "62/62 [==============================] - 0s 1ms/step - loss: 1.0665 - root_mean_squared_error: 1.0285 - mean_absolute_error: 0.7901\n",
            "Epoch 15/50\n",
            "62/62 [==============================] - 0s 2ms/step - loss: 1.0223 - root_mean_squared_error: 1.0068 - mean_absolute_error: 0.7736\n",
            "Epoch 16/50\n",
            "62/62 [==============================] - 0s 1ms/step - loss: 0.9817 - root_mean_squared_error: 0.9864 - mean_absolute_error: 0.7574\n",
            "Epoch 17/50\n",
            "62/62 [==============================] - 0s 1ms/step - loss: 0.9443 - root_mean_squared_error: 0.9673 - mean_absolute_error: 0.7449\n",
            "Epoch 18/50\n",
            "62/62 [==============================] - 0s 1ms/step - loss: 0.9129 - root_mean_squared_error: 0.9509 - mean_absolute_error: 0.7310\n",
            "Epoch 19/50\n",
            "62/62 [==============================] - 0s 2ms/step - loss: 0.8827 - root_mean_squared_error: 0.9350 - mean_absolute_error: 0.7203\n",
            "Epoch 20/50\n",
            "62/62 [==============================] - 0s 2ms/step - loss: 0.8552 - root_mean_squared_error: 0.9201 - mean_absolute_error: 0.7082\n",
            "Epoch 21/50\n",
            "62/62 [==============================] - 0s 1ms/step - loss: 0.8293 - root_mean_squared_error: 0.9059 - mean_absolute_error: 0.6967\n",
            "Epoch 22/50\n",
            "62/62 [==============================] - 0s 1ms/step - loss: 0.8064 - root_mean_squared_error: 0.8932 - mean_absolute_error: 0.6880\n",
            "Epoch 23/50\n",
            "62/62 [==============================] - 0s 2ms/step - loss: 0.7848 - root_mean_squared_error: 0.8810 - mean_absolute_error: 0.6787\n",
            "Epoch 24/50\n",
            "62/62 [==============================] - 0s 1ms/step - loss: 0.7646 - root_mean_squared_error: 0.8695 - mean_absolute_error: 0.6707\n",
            "Epoch 25/50\n",
            "62/62 [==============================] - 0s 1ms/step - loss: 0.7465 - root_mean_squared_error: 0.8590 - mean_absolute_error: 0.6624\n",
            "Epoch 26/50\n",
            "62/62 [==============================] - 0s 1ms/step - loss: 0.7290 - root_mean_squared_error: 0.8487 - mean_absolute_error: 0.6551\n",
            "Epoch 27/50\n",
            "62/62 [==============================] - 0s 1ms/step - loss: 0.7143 - root_mean_squared_error: 0.8400 - mean_absolute_error: 0.6479\n",
            "Epoch 28/50\n",
            "62/62 [==============================] - 0s 2ms/step - loss: 0.7001 - root_mean_squared_error: 0.8316 - mean_absolute_error: 0.6414\n",
            "Epoch 29/50\n",
            "62/62 [==============================] - 0s 2ms/step - loss: 0.6864 - root_mean_squared_error: 0.8233 - mean_absolute_error: 0.6359\n",
            "Epoch 30/50\n",
            "62/62 [==============================] - 0s 1ms/step - loss: 0.6743 - root_mean_squared_error: 0.8159 - mean_absolute_error: 0.6295\n",
            "Epoch 31/50\n",
            "62/62 [==============================] - 0s 1ms/step - loss: 0.6634 - root_mean_squared_error: 0.8092 - mean_absolute_error: 0.6243\n",
            "Epoch 32/50\n",
            "62/62 [==============================] - 0s 2ms/step - loss: 0.6527 - root_mean_squared_error: 0.8025 - mean_absolute_error: 0.6197\n",
            "Epoch 33/50\n",
            "62/62 [==============================] - 0s 2ms/step - loss: 0.6426 - root_mean_squared_error: 0.7962 - mean_absolute_error: 0.6146\n",
            "Epoch 34/50\n",
            "62/62 [==============================] - 0s 1ms/step - loss: 0.6338 - root_mean_squared_error: 0.7907 - mean_absolute_error: 0.6100\n",
            "Epoch 35/50\n",
            "62/62 [==============================] - 0s 1ms/step - loss: 0.6253 - root_mean_squared_error: 0.7853 - mean_absolute_error: 0.6063\n",
            "Epoch 36/50\n",
            "62/62 [==============================] - 0s 1ms/step - loss: 0.6174 - root_mean_squared_error: 0.7802 - mean_absolute_error: 0.6027\n",
            "Epoch 37/50\n",
            "62/62 [==============================] - 0s 1ms/step - loss: 0.6104 - root_mean_squared_error: 0.7758 - mean_absolute_error: 0.5991\n",
            "Epoch 38/50\n",
            "62/62 [==============================] - 0s 1ms/step - loss: 0.6038 - root_mean_squared_error: 0.7715 - mean_absolute_error: 0.5957\n",
            "Epoch 39/50\n",
            "62/62 [==============================] - 0s 1ms/step - loss: 0.5969 - root_mean_squared_error: 0.7670 - mean_absolute_error: 0.5920\n",
            "Epoch 40/50\n",
            "62/62 [==============================] - 0s 1ms/step - loss: 0.5917 - root_mean_squared_error: 0.7636 - mean_absolute_error: 0.5895\n",
            "Epoch 41/50\n",
            "62/62 [==============================] - 0s 2ms/step - loss: 0.5861 - root_mean_squared_error: 0.7599 - mean_absolute_error: 0.5865\n",
            "Epoch 42/50\n",
            "62/62 [==============================] - 0s 1ms/step - loss: 0.5808 - root_mean_squared_error: 0.7564 - mean_absolute_error: 0.5838\n",
            "Epoch 43/50\n",
            "62/62 [==============================] - 0s 1ms/step - loss: 0.5764 - root_mean_squared_error: 0.7535 - mean_absolute_error: 0.5821\n",
            "Epoch 44/50\n",
            "62/62 [==============================] - 0s 1ms/step - loss: 0.5723 - root_mean_squared_error: 0.7508 - mean_absolute_error: 0.5793\n",
            "Epoch 45/50\n",
            "62/62 [==============================] - 0s 1ms/step - loss: 0.5678 - root_mean_squared_error: 0.7477 - mean_absolute_error: 0.5772\n",
            "Epoch 46/50\n",
            "62/62 [==============================] - 0s 1ms/step - loss: 0.5642 - root_mean_squared_error: 0.7454 - mean_absolute_error: 0.5752\n",
            "Epoch 47/50\n",
            "62/62 [==============================] - 0s 1ms/step - loss: 0.5605 - root_mean_squared_error: 0.7429 - mean_absolute_error: 0.5734\n",
            "Epoch 48/50\n",
            "62/62 [==============================] - 0s 1ms/step - loss: 0.5571 - root_mean_squared_error: 0.7406 - mean_absolute_error: 0.5716\n",
            "Epoch 49/50\n",
            "62/62 [==============================] - 0s 1ms/step - loss: 0.5538 - root_mean_squared_error: 0.7384 - mean_absolute_error: 0.5698\n",
            "Epoch 50/50\n",
            "62/62 [==============================] - 0s 2ms/step - loss: 0.5513 - root_mean_squared_error: 0.7366 - mean_absolute_error: 0.5688\n"
          ]
        },
        {
          "data": {
            "text/plain": [
              "<keras.callbacks.History at 0x157d2d5e9d0>"
            ]
          },
          "execution_count": 22,
          "metadata": {},
          "output_type": "execute_result"
        }
      ],
      "source": [
        "# Model design. \n",
        "inputs = keras.Input(shape=(nfeatures,), name=\"input_features\")\n",
        "x1 = layers.Dense(64, activation=\"relu\", kernel_regularizer=regularizers.L2(1e-4), bias_regularizer=regularizers.L2(1e-4),name='dense_layer0')(inputs)\n",
        "x2 = layers.Dense(64, activation=\"relu\", kernel_regularizer=regularizers.L2(1e-4), bias_regularizer=regularizers.L2(1e-4),name='dense_layer1')(x1)\n",
        "outputs = layers.Dense(1, name=\"dense_layer_output\")(x2)\n",
        "model = keras.Model(inputs=inputs, outputs=outputs, name='MLP')\n",
        "model.summary()\n",
        "# Instantiate an optimizer.\n",
        "optimizer = keras.optimizers.SGD(learning_rate=1e-3)\n",
        "# Instantiate a loss function.\n",
        "loss_fn = tf.keras.losses.MeanSquaredError()\n",
        "\n",
        "model.compile(optimizer=optimizer,\n",
        "              loss=loss_fn,\n",
        "              metrics=[rmse_fn,mae_fn])\n",
        "model.fit(x=x_train,y=y_train,batch_size=bs,\n",
        "          epochs=50,#250\n",
        "          shuffle=True,\n",
        ")"
      ]
    },
    {
      "cell_type": "code",
      "execution_count": 23,
      "metadata": {
        "id": "VlBigV4BR9XF"
      },
      "outputs": [
        {
          "name": "stdout",
          "output_type": "stream",
          "text": [
            "Test RMSE: 0.7345839142799377, test MAE: 0.5687955021858215\n"
          ]
        }
      ],
      "source": [
        "# Network evaluation at each epoch on both training and test set (alla fine ultima!!)\n",
        "preds = model(x_train, training=False)\n",
        "train_rmse = rmse_fn(preds, tf.convert_to_tensor(y_train))\n",
        "train_mae = mae_fn(preds, tf.convert_to_tensor(y_train))\n",
        "\n",
        "preds = model(x_test, training=False)\n",
        "test_rmse = rmse_fn(preds, tf.convert_to_tensor(y_test))\n",
        "test_mae = mae_fn(preds, tf.convert_to_tensor(y_test))\n",
        "\n",
        "print('Test RMSE: {0}, test MAE: {1}'.format(test_rmse, test_mae))"
      ]
    }
  ],
  "metadata": {
    "accelerator": "GPU",
    "colab": {
      "gpuType": "T4",
      "private_outputs": true,
      "provenance": []
    },
    "gpuClass": "standard",
    "kernelspec": {
      "display_name": "Python 3 (ipykernel)",
      "language": "python",
      "name": "python3"
    },
    "language_info": {
      "codemirror_mode": {
        "name": "ipython",
        "version": 3
      },
      "file_extension": ".py",
      "mimetype": "text/x-python",
      "name": "python",
      "nbconvert_exporter": "python",
      "pygments_lexer": "ipython3",
      "version": "3.11.2"
    }
  },
  "nbformat": 4,
  "nbformat_minor": 0
}
